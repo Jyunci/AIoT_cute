{
  "nbformat": 4,
  "nbformat_minor": 0,
  "metadata": {
    "colab": {
      "name": "TCN MNIST.ipynb",
      "provenance": [],
      "collapsed_sections": [],
      "include_colab_link": true
    },
    "kernelspec": {
      "name": "python3",
      "display_name": "Python 3"
    },
    "accelerator": "GPU"
  },
  "cells": [
    {
      "cell_type": "markdown",
      "metadata": {
        "id": "view-in-github",
        "colab_type": "text"
      },
      "source": [
        "<a href=\"https://colab.research.google.com/github/Jyunci/AIoT_cute/blob/main/TCN_MNIST.ipynb\" target=\"_parent\"><img src=\"https://colab.research.google.com/assets/colab-badge.svg\" alt=\"Open In Colab\"/></a>"
      ]
    },
    {
      "cell_type": "markdown",
      "metadata": {
        "id": "ep2W8YARh3mS"
      },
      "source": [
        "# 手寫數字辨識\n",
        "使用 TCN (Temporal Convolution Network) 模型進行手寫數字的辨識\n",
        "\n",
        "Ref: https://github.com/ashishpatel26/tcn-keras-Examples"
      ]
    },
    {
      "cell_type": "code",
      "metadata": {
        "id": "wy08t6Eknnof",
        "colab": {
          "base_uri": "https://localhost:8080/"
        },
        "outputId": "90426870-a011-4fb7-ac43-d7a7889cb4a0"
      },
      "source": [
        "!pip install keras-tcn"
      ],
      "execution_count": 1,
      "outputs": [
        {
          "output_type": "stream",
          "text": [
            "Collecting keras-tcn\n",
            "  Downloading https://files.pythonhosted.org/packages/a8/5b/31eed031c196dc192eddf346f053ec6a97aefa4b931164fd8665c92a9d7d/keras_tcn-3.1.1-py3-none-any.whl\n",
            "Requirement already satisfied: numpy>=1.18.1 in /usr/local/lib/python3.6/dist-packages (from keras-tcn) (1.18.5)\n",
            "Collecting keras==2.3.1\n",
            "\u001b[?25l  Downloading https://files.pythonhosted.org/packages/ad/fd/6bfe87920d7f4fd475acd28500a42482b6b84479832bdc0fe9e589a60ceb/Keras-2.3.1-py2.py3-none-any.whl (377kB)\n",
            "\r\u001b[K     |▉                               | 10kB 26.4MB/s eta 0:00:01\r\u001b[K     |█▊                              | 20kB 14.6MB/s eta 0:00:01\r\u001b[K     |██▋                             | 30kB 12.9MB/s eta 0:00:01\r\u001b[K     |███▌                            | 40kB 12.1MB/s eta 0:00:01\r\u001b[K     |████▍                           | 51kB 9.7MB/s eta 0:00:01\r\u001b[K     |█████▏                          | 61kB 10.2MB/s eta 0:00:01\r\u001b[K     |██████                          | 71kB 10.4MB/s eta 0:00:01\r\u001b[K     |███████                         | 81kB 11.4MB/s eta 0:00:01\r\u001b[K     |███████▉                        | 92kB 10.6MB/s eta 0:00:01\r\u001b[K     |████████▊                       | 102kB 9.6MB/s eta 0:00:01\r\u001b[K     |█████████▌                      | 112kB 9.6MB/s eta 0:00:01\r\u001b[K     |██████████▍                     | 122kB 9.6MB/s eta 0:00:01\r\u001b[K     |███████████▎                    | 133kB 9.6MB/s eta 0:00:01\r\u001b[K     |████████████▏                   | 143kB 9.6MB/s eta 0:00:01\r\u001b[K     |█████████████                   | 153kB 9.6MB/s eta 0:00:01\r\u001b[K     |█████████████▉                  | 163kB 9.6MB/s eta 0:00:01\r\u001b[K     |██████████████▊                 | 174kB 9.6MB/s eta 0:00:01\r\u001b[K     |███████████████▋                | 184kB 9.6MB/s eta 0:00:01\r\u001b[K     |████████████████▌               | 194kB 9.6MB/s eta 0:00:01\r\u001b[K     |█████████████████▍              | 204kB 9.6MB/s eta 0:00:01\r\u001b[K     |██████████████████▏             | 215kB 9.6MB/s eta 0:00:01\r\u001b[K     |███████████████████             | 225kB 9.6MB/s eta 0:00:01\r\u001b[K     |████████████████████            | 235kB 9.6MB/s eta 0:00:01\r\u001b[K     |████████████████████▉           | 245kB 9.6MB/s eta 0:00:01\r\u001b[K     |█████████████████████▊          | 256kB 9.6MB/s eta 0:00:01\r\u001b[K     |██████████████████████▌         | 266kB 9.6MB/s eta 0:00:01\r\u001b[K     |███████████████████████▍        | 276kB 9.6MB/s eta 0:00:01\r\u001b[K     |████████████████████████▎       | 286kB 9.6MB/s eta 0:00:01\r\u001b[K     |█████████████████████████▏      | 296kB 9.6MB/s eta 0:00:01\r\u001b[K     |██████████████████████████      | 307kB 9.6MB/s eta 0:00:01\r\u001b[K     |██████████████████████████▉     | 317kB 9.6MB/s eta 0:00:01\r\u001b[K     |███████████████████████████▊    | 327kB 9.6MB/s eta 0:00:01\r\u001b[K     |████████████████████████████▋   | 337kB 9.6MB/s eta 0:00:01\r\u001b[K     |█████████████████████████████▌  | 348kB 9.6MB/s eta 0:00:01\r\u001b[K     |██████████████████████████████▍ | 358kB 9.6MB/s eta 0:00:01\r\u001b[K     |███████████████████████████████▏| 368kB 9.6MB/s eta 0:00:01\r\u001b[K     |████████████████████████████████| 378kB 9.6MB/s \n",
            "\u001b[?25hRequirement already satisfied: keras-preprocessing>=1.0.5 in /usr/local/lib/python3.6/dist-packages (from keras==2.3.1->keras-tcn) (1.1.2)\n",
            "Requirement already satisfied: six>=1.9.0 in /usr/local/lib/python3.6/dist-packages (from keras==2.3.1->keras-tcn) (1.15.0)\n",
            "Requirement already satisfied: h5py in /usr/local/lib/python3.6/dist-packages (from keras==2.3.1->keras-tcn) (2.10.0)\n",
            "Requirement already satisfied: scipy>=0.14 in /usr/local/lib/python3.6/dist-packages (from keras==2.3.1->keras-tcn) (1.4.1)\n",
            "Requirement already satisfied: pyyaml in /usr/local/lib/python3.6/dist-packages (from keras==2.3.1->keras-tcn) (3.13)\n",
            "Collecting keras-applications>=1.0.6\n",
            "\u001b[?25l  Downloading https://files.pythonhosted.org/packages/71/e3/19762fdfc62877ae9102edf6342d71b28fbfd9dea3d2f96a882ce099b03f/Keras_Applications-1.0.8-py3-none-any.whl (50kB)\n",
            "\u001b[K     |████████████████████████████████| 51kB 8.0MB/s \n",
            "\u001b[?25hInstalling collected packages: keras-applications, keras, keras-tcn\n",
            "  Found existing installation: Keras 2.4.3\n",
            "    Uninstalling Keras-2.4.3:\n",
            "      Successfully uninstalled Keras-2.4.3\n",
            "Successfully installed keras-2.3.1 keras-applications-1.0.8 keras-tcn-3.1.1\n"
          ],
          "name": "stdout"
        }
      ]
    },
    {
      "cell_type": "code",
      "metadata": {
        "id": "ckmaq9Pin2Jm",
        "colab": {
          "base_uri": "https://localhost:8080/"
        },
        "outputId": "c1c5028d-e55d-4136-aa5f-ae97bfcb9f79"
      },
      "source": [
        "import numpy as np\n",
        "from keras.datasets import mnist\n",
        "from keras.utils import to_categorical\n",
        "from tcn import compiled_tcn"
      ],
      "execution_count": 2,
      "outputs": [
        {
          "output_type": "stream",
          "text": [
            "Using TensorFlow backend.\n"
          ],
          "name": "stderr"
        }
      ]
    },
    {
      "cell_type": "code",
      "metadata": {
        "id": "MqcfdQJSoSBB"
      },
      "source": [
        "def data_generator():\n",
        "    # input image dimensions\n",
        "    img_rows, img_cols = 28, 28\n",
        "    (x_train, y_train), (x_test, y_test) = mnist.load_data()\n",
        "    x_train = x_train.reshape(-1, img_rows * img_cols, 1)\n",
        "    x_test = x_test.reshape(-1, img_rows * img_cols, 1)\n",
        "\n",
        "    num_classes = 10\n",
        "    y_train = to_categorical(y_train, num_classes)\n",
        "    y_test = to_categorical(y_test, num_classes)\n",
        "\n",
        "    y_train = np.expand_dims(y_train, axis=2)\n",
        "    y_test = np.expand_dims(y_test, axis=2)\n",
        "\n",
        "    x_train = x_train.astype('float32')\n",
        "    x_test = x_test.astype('float32')\n",
        "    x_train /= 255\n",
        "    x_test /= 255\n",
        "\n",
        "    return (x_train, y_train), (x_test, y_test)"
      ],
      "execution_count": 3,
      "outputs": []
    },
    {
      "cell_type": "code",
      "metadata": {
        "id": "tv_A8KPNoWK1",
        "colab": {
          "base_uri": "https://localhost:8080/"
        },
        "outputId": "b54678ad-7bcd-4c4c-99d8-a9d11dae1a4e"
      },
      "source": [
        "(x_train, y_train), (x_test, y_test) = data_generator()"
      ],
      "execution_count": 4,
      "outputs": [
        {
          "output_type": "stream",
          "text": [
            "Downloading data from https://s3.amazonaws.com/img-datasets/mnist.npz\n",
            "11493376/11490434 [==============================] - 1s 0us/step\n"
          ],
          "name": "stdout"
        }
      ]
    },
    {
      "cell_type": "markdown",
      "metadata": {
        "id": "8gXVN89hk9y0"
      },
      "source": [
        "## 設計 TCN (Temporal Convolutional Network) 模型"
      ]
    },
    {
      "cell_type": "code",
      "metadata": {
        "id": "gIvvUoBJol2H",
        "colab": {
          "base_uri": "https://localhost:8080/"
        },
        "outputId": "9e9c1a14-e0dc-4bfb-e7a8-646bad2a3e99"
      },
      "source": [
        " model = compiled_tcn(return_sequences=False,\n",
        "                         num_feat=1,\n",
        "                         num_classes=10,\n",
        "                         nb_filters=20,\n",
        "                         kernel_size=6,\n",
        "                         dilations=[2 ** i for i in range(9)],\n",
        "                         nb_stacks=1,\n",
        "                         max_len=x_train[0:1].shape[1],\n",
        "                         use_skip_connections=True)"
      ],
      "execution_count": 5,
      "outputs": [
        {
          "output_type": "stream",
          "text": [
            "x.shape= (None, 20)\n",
            "model.x = (None, 784, 1)\n",
            "model.y = (None, 10)\n"
          ],
          "name": "stdout"
        }
      ]
    },
    {
      "cell_type": "code",
      "metadata": {
        "id": "28WGMz47o4m5",
        "colab": {
          "base_uri": "https://localhost:8080/"
        },
        "outputId": "4a4e7a84-aa54-41bd-d3a4-28c59a1af301"
      },
      "source": [
        "print(f'x_train.shape = {x_train.shape}')\n",
        "print(f'y_train.shape = {y_train.shape}')\n",
        "print(f'x_test.shape = {x_test.shape}')\n",
        "print(f'y_test.shape = {y_test.shape}')"
      ],
      "execution_count": 6,
      "outputs": [
        {
          "output_type": "stream",
          "text": [
            "x_train.shape = (60000, 784, 1)\n",
            "y_train.shape = (60000, 10, 1)\n",
            "x_test.shape = (10000, 784, 1)\n",
            "y_test.shape = (10000, 10, 1)\n"
          ],
          "name": "stdout"
        }
      ]
    },
    {
      "cell_type": "code",
      "metadata": {
        "id": "VBxFWLjxo9h3",
        "colab": {
          "base_uri": "https://localhost:8080/"
        },
        "outputId": "75f933eb-ffe2-4136-fab3-c4371ed416aa"
      },
      "source": [
        "model.summary()"
      ],
      "execution_count": 7,
      "outputs": [
        {
          "output_type": "stream",
          "text": [
            "Model: \"functional_1\"\n",
            "_________________________________________________________________\n",
            "Layer (type)                 Output Shape              Param #   \n",
            "=================================================================\n",
            "input_1 (InputLayer)         [(None, 784, 1)]          0         \n",
            "_________________________________________________________________\n",
            "tcn (TCN)                    (None, 20)                41320     \n",
            "_________________________________________________________________\n",
            "dense (Dense)                (None, 10)                210       \n",
            "_________________________________________________________________\n",
            "activation (Activation)      (None, 10)                0         \n",
            "=================================================================\n",
            "Total params: 41,530\n",
            "Trainable params: 41,530\n",
            "Non-trainable params: 0\n",
            "_________________________________________________________________\n"
          ],
          "name": "stdout"
        }
      ]
    },
    {
      "cell_type": "markdown",
      "metadata": {
        "id": "GxTo-TOPj-ZJ"
      },
      "source": [
        "## 模型訓練"
      ]
    },
    {
      "cell_type": "code",
      "metadata": {
        "id": "GSNjkO6KpGLH",
        "colab": {
          "base_uri": "https://localhost:8080/"
        },
        "outputId": "1890e9dd-7dab-4809-9523-35476e99a6bb"
      },
      "source": [
        "model.fit(x_train, y_train.squeeze().argmax(axis=1), epochs=5,validation_data=(x_test, y_test.squeeze().argmax(axis=1)))"
      ],
      "execution_count": 9,
      "outputs": [
        {
          "output_type": "stream",
          "text": [
            "Epoch 1/5\n",
            "1875/1875 [==============================] - 34s 18ms/step - loss: 0.2141 - accuracy: 0.9350 - val_loss: 0.1254 - val_accuracy: 0.9611\n",
            "Epoch 2/5\n",
            "1875/1875 [==============================] - 35s 18ms/step - loss: 0.1441 - accuracy: 0.9575 - val_loss: 0.0863 - val_accuracy: 0.9729\n",
            "Epoch 3/5\n",
            "1875/1875 [==============================] - 34s 18ms/step - loss: 0.1161 - accuracy: 0.9646 - val_loss: 0.0868 - val_accuracy: 0.9748\n",
            "Epoch 4/5\n",
            "1875/1875 [==============================] - 34s 18ms/step - loss: 0.1059 - accuracy: 0.9685 - val_loss: 0.0785 - val_accuracy: 0.9748\n",
            "Epoch 5/5\n",
            "1875/1875 [==============================] - 34s 18ms/step - loss: 0.0997 - accuracy: 0.9699 - val_loss: 0.0885 - val_accuracy: 0.9753\n"
          ],
          "name": "stdout"
        },
        {
          "output_type": "execute_result",
          "data": {
            "text/plain": [
              "<tensorflow.python.keras.callbacks.History at 0x7ff815eee080>"
            ]
          },
          "metadata": {
            "tags": []
          },
          "execution_count": 9
        }
      ]
    },
    {
      "cell_type": "markdown",
      "metadata": {
        "id": "ELtKC50uj9E7"
      },
      "source": [
        "## 模型評估"
      ]
    },
    {
      "cell_type": "code",
      "metadata": {
        "colab": {
          "base_uri": "https://localhost:8080/"
        },
        "id": "R3B4ulboj0lK",
        "outputId": "9325c20b-381d-47e4-d7a2-74b99bf3cfe6"
      },
      "source": [
        "loss, accuracy = model.evaluate(x_test, y_test.squeeze().argmax(axis=1))\n",
        "print('Test:')\n",
        "print('Loss: %s\\nAccuracy: %s' % (loss, accuracy))"
      ],
      "execution_count": 13,
      "outputs": [
        {
          "output_type": "stream",
          "text": [
            "313/313 [==============================] - 2s 6ms/step - loss: 0.0885 - accuracy: 0.9753\n",
            "Test:\n",
            "Loss: 0.08851510286331177\n",
            "Accuracy: 0.9753000140190125\n"
          ],
          "name": "stdout"
        }
      ]
    },
    {
      "cell_type": "code",
      "metadata": {
        "id": "rSvdt7cMpTDI"
      },
      "source": [
        ""
      ],
      "execution_count": null,
      "outputs": []
    }
  ]
}