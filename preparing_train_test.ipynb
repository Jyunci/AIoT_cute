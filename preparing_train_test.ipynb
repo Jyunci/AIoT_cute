{
  "nbformat": 4,
  "nbformat_minor": 0,
  "metadata": {
    "colab": {
      "name": "preparing_train_test.ipynb",
      "provenance": [],
      "collapsed_sections": [],
      "toc_visible": true,
      "include_colab_link": true
    },
    "kernelspec": {
      "name": "python3",
      "display_name": "Python 3"
    }
  },
  "cells": [
    {
      "cell_type": "markdown",
      "metadata": {
        "id": "view-in-github",
        "colab_type": "text"
      },
      "source": [
        "<a href=\"https://colab.research.google.com/github/Jyunci/AIoT_cute/blob/main/preparing_train_test.ipynb\" target=\"_parent\"><img src=\"https://colab.research.google.com/assets/colab-badge.svg\" alt=\"Open In Colab\"/></a>"
      ]
    },
    {
      "cell_type": "markdown",
      "metadata": {
        "id": "f_7xBNtDczqI"
      },
      "source": [
        "# 準備  [刀具磨耗預測]  資料集\n",
        "使用  Temporal Convolutional Network  (TCN) 模型，預測端銑刀是否磨損 (Worn)。\n",
        "\n",
        "資料來源：公開資料集 Kaggle 平台 --- CNC Mill Tool Wear。\n",
        "\n",
        "連結：https://www.kaggle.com/shasun/tool-wear-detection-in-cnc-mill"
      ]
    },
    {
      "cell_type": "markdown",
      "metadata": {
        "id": "6jFc-3oegnOn"
      },
      "source": [
        "## 前置作業 - 函式庫環境設置"
      ]
    },
    {
      "cell_type": "code",
      "metadata": {
        "id": "Siybc6SVcXo6"
      },
      "source": [
        "# 共通函式庫\n",
        "import numpy as np\n",
        "import os\n",
        "import pandas as pd"
      ],
      "execution_count": 1,
      "outputs": []
    },
    {
      "cell_type": "markdown",
      "metadata": {
        "id": "ktfuo6OEg6IM"
      },
      "source": [
        "## 前置作業 - 資料下載  (從 github clone 檔案)"
      ]
    },
    {
      "cell_type": "code",
      "metadata": {
        "colab": {
          "base_uri": "https://localhost:8080/"
        },
        "id": "OAv1nFIow2z_",
        "outputId": "c2750e87-1a0b-4441-dab9-fcdaaadecea0"
      },
      "source": [
        "!git clone https://github.com/Jyunci/AIoT_cute.git"
      ],
      "execution_count": 2,
      "outputs": [
        {
          "output_type": "stream",
          "text": [
            "Cloning into 'AIoT_cute'...\n",
            "remote: Enumerating objects: 70, done.\u001b[K\n",
            "remote: Counting objects: 100% (70/70), done.\u001b[K\n",
            "remote: Compressing objects: 100% (66/66), done.\u001b[K\n",
            "remote: Total 70 (delta 27), reused 2 (delta 0), pack-reused 0\u001b[K\n",
            "Unpacking objects: 100% (70/70), done.\n"
          ],
          "name": "stdout"
        }
      ]
    },
    {
      "cell_type": "code",
      "metadata": {
        "colab": {
          "base_uri": "https://localhost:8080/"
        },
        "id": "Q8KSGfmpEWt0",
        "outputId": "ed4c90c9-cdb9-4a4f-a5ef-bb9e7a0925dd"
      },
      "source": [
        "#  讀取 'experiment_01.csv'  檢視是否正常\n",
        "df = pd.read_csv('./AIoT_cute/cnc_tool/training_set/experiment_01.csv')  \n",
        "df.head"
      ],
      "execution_count": null,
      "outputs": [
        {
          "output_type": "execute_result",
          "data": {
            "text/plain": [
              "<bound method NDFrame.head of       X1_ActualPosition  ...  Machining_Process\n",
              "0                 198.0  ...           Starting\n",
              "1                 198.0  ...               Prep\n",
              "2                 196.0  ...               Prep\n",
              "3                 194.0  ...               Prep\n",
              "4                 193.0  ...               Prep\n",
              "...                 ...  ...                ...\n",
              "1050              141.0  ...                end\n",
              "1051              141.0  ...                end\n",
              "1052              141.0  ...                end\n",
              "1053              141.0  ...                end\n",
              "1054              141.0  ...                end\n",
              "\n",
              "[1055 rows x 48 columns]>"
            ]
          },
          "metadata": {
            "tags": []
          },
          "execution_count": 4
        }
      ]
    },
    {
      "cell_type": "code",
      "metadata": {
        "colab": {
          "base_uri": "https://localhost:8080/"
        },
        "id": "UiM7HQ_NDmnz",
        "outputId": "8d202d52-a711-42a8-a099-6374054e0a85"
      },
      "source": [
        "# 檢視檔案路徑與名稱\n",
        "for dirname, _, filenames in os.walk('./AIoT_cute/cnc_tool/'):\n",
        "    for filename in filenames:\n",
        "        print(os.path.join(dirname, filename))"
      ],
      "execution_count": null,
      "outputs": [
        {
          "output_type": "stream",
          "text": [
            "./AIoT_cute/cnc_tool/README.txt\n",
            "./AIoT_cute/cnc_tool/test_artifact.jpg\n",
            "./AIoT_cute/cnc_tool/train.csv\n",
            "./AIoT_cute/cnc_tool/testing_set/experiment_06.csv\n",
            "./AIoT_cute/cnc_tool/testing_set/experiment_18.csv\n",
            "./AIoT_cute/cnc_tool/testing_set/experiment_02.csv\n",
            "./AIoT_cute/cnc_tool/testing_set/experiment_12.csv\n",
            "./AIoT_cute/cnc_tool/training_set/experiment_16.csv\n",
            "./AIoT_cute/cnc_tool/training_set/experiment_13.csv\n",
            "./AIoT_cute/cnc_tool/training_set/experiment_10.csv\n",
            "./AIoT_cute/cnc_tool/training_set/experiment_05.csv\n",
            "./AIoT_cute/cnc_tool/training_set/experiment_01.csv\n",
            "./AIoT_cute/cnc_tool/training_set/experiment_08.csv\n",
            "./AIoT_cute/cnc_tool/training_set/experiment_03.csv\n",
            "./AIoT_cute/cnc_tool/training_set/experiment_15.csv\n",
            "./AIoT_cute/cnc_tool/training_set/experiment_17.csv\n",
            "./AIoT_cute/cnc_tool/training_set/experiment_09.csv\n",
            "./AIoT_cute/cnc_tool/training_set/experiment_14.csv\n",
            "./AIoT_cute/cnc_tool/training_set/experiment_07.csv\n",
            "./AIoT_cute/cnc_tool/training_set/experiment_04.csv\n",
            "./AIoT_cute/cnc_tool/training_set/experiment_11.csv\n"
          ],
          "name": "stdout"
        }
      ]
    },
    {
      "cell_type": "markdown",
      "metadata": {
        "id": "pKg-wuAnDvb4"
      },
      "source": [
        "### 準備  train_set/test_set"
      ]
    },
    {
      "cell_type": "code",
      "metadata": {
        "colab": {
          "base_uri": "https://localhost:8080/"
        },
        "id": "NXuk9lL5QJSe",
        "outputId": "44d3abe5-ec57-4bd7-fc11-d96561a4c0d1"
      },
      "source": [
        "# 依照 train.csv 手動去設定實驗 01~18 的設定值[tool_condition ,feedrate ,clamp_pressure]\n",
        "df = pd.read_csv('./AIoT_cute/cnc_tool/testing_set/experiment_18.csv') \n",
        "df.head"
      ],
      "execution_count": 3,
      "outputs": [
        {
          "output_type": "execute_result",
          "data": {
            "text/plain": [
              "<bound method NDFrame.head of       X1_ActualPosition  ...  Machining_Process\n",
              "0                 151.0  ...               Prep\n",
              "1                 152.0  ...               Prep\n",
              "2                 152.0  ...               Prep\n",
              "3                 152.0  ...               Prep\n",
              "4                 153.0  ...               Prep\n",
              "...                 ...  ...                ...\n",
              "2248              144.0  ...                End\n",
              "2249              144.0  ...                End\n",
              "2250              143.0  ...                End\n",
              "2251              143.0  ...                End\n",
              "2252              143.0  ...                End\n",
              "\n",
              "[2253 rows x 48 columns]>"
            ]
          },
          "metadata": {
            "tags": []
          },
          "execution_count": 3
        }
      ]
    },
    {
      "cell_type": "code",
      "metadata": {
        "colab": {
          "base_uri": "https://localhost:8080/"
        },
        "id": "2RKvUntXgzn1",
        "outputId": "971633ff-d69e-4e46-dbb8-0c4a83d08897"
      },
      "source": [
        "df.insert(0, \"tool_condition\", ['worn']*df.shape[0], True)\n",
        "df.insert(1, \"feedrate\"      , ['3']*df.shape[0], True)\n",
        "df.insert(2, \"clamp_pressure\", ['2.5']*df.shape[0], True)\n",
        "df.head"
      ],
      "execution_count": 4,
      "outputs": [
        {
          "output_type": "execute_result",
          "data": {
            "text/plain": [
              "<bound method NDFrame.head of      tool_condition feedrate  ... M1_CURRENT_FEEDRATE  Machining_Process\n",
              "0              worn        3  ...                 3.0               Prep\n",
              "1              worn        3  ...                 3.0               Prep\n",
              "2              worn        3  ...                 3.0               Prep\n",
              "3              worn        3  ...                 3.0               Prep\n",
              "4              worn        3  ...                 3.0               Prep\n",
              "...             ...      ...  ...                 ...                ...\n",
              "2248           worn        3  ...                 3.0                End\n",
              "2249           worn        3  ...                 3.0                End\n",
              "2250           worn        3  ...                 3.0                End\n",
              "2251           worn        3  ...                 3.0                End\n",
              "2252           worn        3  ...                 3.0                End\n",
              "\n",
              "[2253 rows x 51 columns]>"
            ]
          },
          "metadata": {
            "tags": []
          },
          "execution_count": 4
        }
      ]
    },
    {
      "cell_type": "code",
      "metadata": {
        "id": "9gxt_P11_tmm"
      },
      "source": [
        "df.to_csv('new_experiment_18.csv')"
      ],
      "execution_count": 5,
      "outputs": []
    },
    {
      "cell_type": "code",
      "metadata": {
        "id": "9Q2UvnmyUevi"
      },
      "source": [
        "# 18\twax\t3\t2.5\tworn"
      ],
      "execution_count": 6,
      "outputs": []
    },
    {
      "cell_type": "markdown",
      "metadata": {
        "id": "oPfmNsv0atod"
      },
      "source": [
        "### 用 pandas merge matrix"
      ]
    },
    {
      "cell_type": "code",
      "metadata": {
        "colab": {
          "base_uri": "https://localhost:8080/"
        },
        "id": "pb7FjOAqWO3h",
        "outputId": "1b3d4117-4259-4565-9556-cd05e999ec45"
      },
      "source": [
        "for dirname, _, filenames in os.walk('./new_test'):\n",
        "    for filename in filenames:\n",
        "        if filename.endswith(\".csv\"):\n",
        "            print(os.path.join(dirname, filename))"
      ],
      "execution_count": 22,
      "outputs": [
        {
          "output_type": "stream",
          "text": [
            "./new_test/new_experiment_02.csv\n",
            "./new_test/new_experiment_06.csv\n",
            "./new_test/new_experiment_18.csv\n",
            "./new_test/new_experiment_12.csv\n"
          ],
          "name": "stdout"
        }
      ]
    },
    {
      "cell_type": "code",
      "metadata": {
        "colab": {
          "base_uri": "https://localhost:8080/"
        },
        "id": "niY58n4cbOq9",
        "outputId": "ff1c97da-919e-4667-c217-fd446d16dd98"
      },
      "source": [
        "df_train = pd.DataFrame([])\n",
        "filenames.sort()\n",
        "for filename in filenames:\n",
        "    tmp = pd.read_csv(os.path.join(dirname, filename))\n",
        "    print(tmp.shape[0])\n",
        "    df_train = pd.concat([df_train,tmp],axis=0, ignore_index=True)"
      ],
      "execution_count": 23,
      "outputs": [
        {
          "output_type": "stream",
          "text": [
            "1668\n",
            "1296\n",
            "2276\n",
            "2253\n"
          ],
          "name": "stdout"
        }
      ]
    },
    {
      "cell_type": "code",
      "metadata": {
        "colab": {
          "base_uri": "https://localhost:8080/",
          "height": 243
        },
        "id": "rhfRDx03la4B",
        "outputId": "d7c00582-0b87-47e7-e6c6-44a9685f22b4"
      },
      "source": [
        "tmp.head(5)"
      ],
      "execution_count": 24,
      "outputs": [
        {
          "output_type": "execute_result",
          "data": {
            "text/html": [
              "<div>\n",
              "<style scoped>\n",
              "    .dataframe tbody tr th:only-of-type {\n",
              "        vertical-align: middle;\n",
              "    }\n",
              "\n",
              "    .dataframe tbody tr th {\n",
              "        vertical-align: top;\n",
              "    }\n",
              "\n",
              "    .dataframe thead th {\n",
              "        text-align: right;\n",
              "    }\n",
              "</style>\n",
              "<table border=\"1\" class=\"dataframe\">\n",
              "  <thead>\n",
              "    <tr style=\"text-align: right;\">\n",
              "      <th></th>\n",
              "      <th>Unnamed: 0</th>\n",
              "      <th>tool_condition</th>\n",
              "      <th>feedrate</th>\n",
              "      <th>clamp_pressure</th>\n",
              "      <th>X1_ActualPosition</th>\n",
              "      <th>X1_ActualVelocity</th>\n",
              "      <th>X1_ActualAcceleration</th>\n",
              "      <th>X1_CommandPosition</th>\n",
              "      <th>X1_CommandVelocity</th>\n",
              "      <th>X1_CommandAcceleration</th>\n",
              "      <th>X1_CurrentFeedback</th>\n",
              "      <th>X1_DCBusVoltage</th>\n",
              "      <th>X1_OutputCurrent</th>\n",
              "      <th>X1_OutputVoltage</th>\n",
              "      <th>X1_OutputPower</th>\n",
              "      <th>Y1_ActualPosition</th>\n",
              "      <th>Y1_ActualVelocity</th>\n",
              "      <th>Y1_ActualAcceleration</th>\n",
              "      <th>Y1_CommandPosition</th>\n",
              "      <th>Y1_CommandVelocity</th>\n",
              "      <th>Y1_CommandAcceleration</th>\n",
              "      <th>Y1_CurrentFeedback</th>\n",
              "      <th>Y1_DCBusVoltage</th>\n",
              "      <th>Y1_OutputCurrent</th>\n",
              "      <th>Y1_OutputVoltage</th>\n",
              "      <th>Y1_OutputPower</th>\n",
              "      <th>Z1_ActualPosition</th>\n",
              "      <th>Z1_ActualVelocity</th>\n",
              "      <th>Z1_ActualAcceleration</th>\n",
              "      <th>Z1_CommandPosition</th>\n",
              "      <th>Z1_CommandVelocity</th>\n",
              "      <th>Z1_CommandAcceleration</th>\n",
              "      <th>Z1_CurrentFeedback</th>\n",
              "      <th>Z1_DCBusVoltage</th>\n",
              "      <th>Z1_OutputCurrent</th>\n",
              "      <th>Z1_OutputVoltage</th>\n",
              "      <th>S1_ActualPosition</th>\n",
              "      <th>S1_ActualVelocity</th>\n",
              "      <th>S1_ActualAcceleration</th>\n",
              "      <th>S1_CommandPosition</th>\n",
              "      <th>S1_CommandVelocity</th>\n",
              "      <th>S1_CommandAcceleration</th>\n",
              "      <th>S1_CurrentFeedback</th>\n",
              "      <th>S1_DCBusVoltage</th>\n",
              "      <th>S1_OutputCurrent</th>\n",
              "      <th>S1_OutputVoltage</th>\n",
              "      <th>S1_OutputPower</th>\n",
              "      <th>S1_SystemInertia</th>\n",
              "      <th>M1_CURRENT_PROGRAM_NUMBER</th>\n",
              "      <th>M1_sequence_number</th>\n",
              "      <th>M1_CURRENT_FEEDRATE</th>\n",
              "      <th>Machining_Process</th>\n",
              "    </tr>\n",
              "  </thead>\n",
              "  <tbody>\n",
              "    <tr>\n",
              "      <th>0</th>\n",
              "      <td>0</td>\n",
              "      <td>worn</td>\n",
              "      <td>3</td>\n",
              "      <td>2.5</td>\n",
              "      <td>151.0</td>\n",
              "      <td>3.08</td>\n",
              "      <td>0.0</td>\n",
              "      <td>151.0</td>\n",
              "      <td>3.0</td>\n",
              "      <td>0.0</td>\n",
              "      <td>3.48</td>\n",
              "      <td>0.0684</td>\n",
              "      <td>327.0</td>\n",
              "      <td>8.56</td>\n",
              "      <td>0.000408</td>\n",
              "      <td>74.5</td>\n",
              "      <td>-0.150</td>\n",
              "      <td>-75.0</td>\n",
              "      <td>74.5</td>\n",
              "      <td>0.0</td>\n",
              "      <td>0.0</td>\n",
              "      <td>-3.04</td>\n",
              "      <td>0.0629</td>\n",
              "      <td>326.0</td>\n",
              "      <td>3.91</td>\n",
              "      <td>0.000000</td>\n",
              "      <td>29.7</td>\n",
              "      <td>0.000</td>\n",
              "      <td>0.00</td>\n",
              "      <td>29.7</td>\n",
              "      <td>0.0</td>\n",
              "      <td>0.0</td>\n",
              "      <td>0.0</td>\n",
              "      <td>0.0</td>\n",
              "      <td>0.0</td>\n",
              "      <td>0.0</td>\n",
              "      <td>897.0</td>\n",
              "      <td>53.3</td>\n",
              "      <td>-0.75</td>\n",
              "      <td>898.0</td>\n",
              "      <td>53.3</td>\n",
              "      <td>0.000000e+00</td>\n",
              "      <td>22.1</td>\n",
              "      <td>0.867</td>\n",
              "      <td>323.0</td>\n",
              "      <td>119.0</td>\n",
              "      <td>0.167</td>\n",
              "      <td>12.0</td>\n",
              "      <td>1.0</td>\n",
              "      <td>2.0</td>\n",
              "      <td>3.0</td>\n",
              "      <td>Prep</td>\n",
              "    </tr>\n",
              "    <tr>\n",
              "      <th>1</th>\n",
              "      <td>1</td>\n",
              "      <td>worn</td>\n",
              "      <td>3</td>\n",
              "      <td>2.5</td>\n",
              "      <td>152.0</td>\n",
              "      <td>3.20</td>\n",
              "      <td>25.0</td>\n",
              "      <td>152.0</td>\n",
              "      <td>3.0</td>\n",
              "      <td>0.0</td>\n",
              "      <td>3.09</td>\n",
              "      <td>0.0621</td>\n",
              "      <td>327.0</td>\n",
              "      <td>6.74</td>\n",
              "      <td>0.000415</td>\n",
              "      <td>74.5</td>\n",
              "      <td>-0.125</td>\n",
              "      <td>-62.5</td>\n",
              "      <td>74.5</td>\n",
              "      <td>0.0</td>\n",
              "      <td>0.0</td>\n",
              "      <td>-3.38</td>\n",
              "      <td>0.0635</td>\n",
              "      <td>326.0</td>\n",
              "      <td>2.52</td>\n",
              "      <td>-0.000010</td>\n",
              "      <td>29.7</td>\n",
              "      <td>0.000</td>\n",
              "      <td>0.00</td>\n",
              "      <td>29.7</td>\n",
              "      <td>0.0</td>\n",
              "      <td>0.0</td>\n",
              "      <td>0.0</td>\n",
              "      <td>0.0</td>\n",
              "      <td>0.0</td>\n",
              "      <td>0.0</td>\n",
              "      <td>903.0</td>\n",
              "      <td>53.2</td>\n",
              "      <td>-45.30</td>\n",
              "      <td>903.0</td>\n",
              "      <td>53.3</td>\n",
              "      <td>0.000000e+00</td>\n",
              "      <td>23.7</td>\n",
              "      <td>0.937</td>\n",
              "      <td>324.0</td>\n",
              "      <td>119.0</td>\n",
              "      <td>0.179</td>\n",
              "      <td>12.0</td>\n",
              "      <td>1.0</td>\n",
              "      <td>20.0</td>\n",
              "      <td>3.0</td>\n",
              "      <td>Prep</td>\n",
              "    </tr>\n",
              "    <tr>\n",
              "      <th>2</th>\n",
              "      <td>2</td>\n",
              "      <td>worn</td>\n",
              "      <td>3</td>\n",
              "      <td>2.5</td>\n",
              "      <td>152.0</td>\n",
              "      <td>3.20</td>\n",
              "      <td>50.0</td>\n",
              "      <td>152.0</td>\n",
              "      <td>3.0</td>\n",
              "      <td>0.0</td>\n",
              "      <td>3.96</td>\n",
              "      <td>0.0796</td>\n",
              "      <td>327.0</td>\n",
              "      <td>8.78</td>\n",
              "      <td>0.000498</td>\n",
              "      <td>74.5</td>\n",
              "      <td>-0.125</td>\n",
              "      <td>-62.5</td>\n",
              "      <td>74.5</td>\n",
              "      <td>0.0</td>\n",
              "      <td>0.0</td>\n",
              "      <td>-3.36</td>\n",
              "      <td>0.0625</td>\n",
              "      <td>326.0</td>\n",
              "      <td>3.61</td>\n",
              "      <td>-0.000019</td>\n",
              "      <td>29.7</td>\n",
              "      <td>0.000</td>\n",
              "      <td>0.00</td>\n",
              "      <td>29.7</td>\n",
              "      <td>0.0</td>\n",
              "      <td>0.0</td>\n",
              "      <td>0.0</td>\n",
              "      <td>0.0</td>\n",
              "      <td>0.0</td>\n",
              "      <td>0.0</td>\n",
              "      <td>908.0</td>\n",
              "      <td>53.4</td>\n",
              "      <td>60.20</td>\n",
              "      <td>908.0</td>\n",
              "      <td>53.3</td>\n",
              "      <td>9.540000e-07</td>\n",
              "      <td>14.9</td>\n",
              "      <td>0.799</td>\n",
              "      <td>323.0</td>\n",
              "      <td>119.0</td>\n",
              "      <td>0.152</td>\n",
              "      <td>12.0</td>\n",
              "      <td>1.0</td>\n",
              "      <td>20.0</td>\n",
              "      <td>3.0</td>\n",
              "      <td>Prep</td>\n",
              "    </tr>\n",
              "    <tr>\n",
              "      <th>3</th>\n",
              "      <td>3</td>\n",
              "      <td>worn</td>\n",
              "      <td>3</td>\n",
              "      <td>2.5</td>\n",
              "      <td>152.0</td>\n",
              "      <td>3.13</td>\n",
              "      <td>50.0</td>\n",
              "      <td>152.0</td>\n",
              "      <td>3.0</td>\n",
              "      <td>0.0</td>\n",
              "      <td>4.70</td>\n",
              "      <td>0.0946</td>\n",
              "      <td>327.0</td>\n",
              "      <td>10.20</td>\n",
              "      <td>0.000622</td>\n",
              "      <td>74.5</td>\n",
              "      <td>-0.150</td>\n",
              "      <td>-75.0</td>\n",
              "      <td>74.5</td>\n",
              "      <td>0.0</td>\n",
              "      <td>0.0</td>\n",
              "      <td>-3.05</td>\n",
              "      <td>0.0611</td>\n",
              "      <td>326.0</td>\n",
              "      <td>3.15</td>\n",
              "      <td>-0.000019</td>\n",
              "      <td>29.7</td>\n",
              "      <td>0.000</td>\n",
              "      <td>-6.25</td>\n",
              "      <td>29.7</td>\n",
              "      <td>0.0</td>\n",
              "      <td>0.0</td>\n",
              "      <td>0.0</td>\n",
              "      <td>0.0</td>\n",
              "      <td>0.0</td>\n",
              "      <td>0.0</td>\n",
              "      <td>913.0</td>\n",
              "      <td>53.4</td>\n",
              "      <td>-14.30</td>\n",
              "      <td>914.0</td>\n",
              "      <td>53.3</td>\n",
              "      <td>-9.540000e-07</td>\n",
              "      <td>18.2</td>\n",
              "      <td>0.895</td>\n",
              "      <td>323.0</td>\n",
              "      <td>114.0</td>\n",
              "      <td>0.172</td>\n",
              "      <td>12.0</td>\n",
              "      <td>1.0</td>\n",
              "      <td>20.0</td>\n",
              "      <td>3.0</td>\n",
              "      <td>Prep</td>\n",
              "    </tr>\n",
              "    <tr>\n",
              "      <th>4</th>\n",
              "      <td>4</td>\n",
              "      <td>worn</td>\n",
              "      <td>3</td>\n",
              "      <td>2.5</td>\n",
              "      <td>153.0</td>\n",
              "      <td>2.97</td>\n",
              "      <td>56.3</td>\n",
              "      <td>153.0</td>\n",
              "      <td>3.0</td>\n",
              "      <td>0.0</td>\n",
              "      <td>5.97</td>\n",
              "      <td>0.1020</td>\n",
              "      <td>327.0</td>\n",
              "      <td>11.30</td>\n",
              "      <td>0.000645</td>\n",
              "      <td>74.5</td>\n",
              "      <td>-0.150</td>\n",
              "      <td>-75.0</td>\n",
              "      <td>74.5</td>\n",
              "      <td>0.0</td>\n",
              "      <td>0.0</td>\n",
              "      <td>-2.72</td>\n",
              "      <td>0.0626</td>\n",
              "      <td>326.0</td>\n",
              "      <td>3.91</td>\n",
              "      <td>-0.000019</td>\n",
              "      <td>29.7</td>\n",
              "      <td>-0.025</td>\n",
              "      <td>-6.25</td>\n",
              "      <td>29.7</td>\n",
              "      <td>0.0</td>\n",
              "      <td>0.0</td>\n",
              "      <td>0.0</td>\n",
              "      <td>0.0</td>\n",
              "      <td>0.0</td>\n",
              "      <td>0.0</td>\n",
              "      <td>919.0</td>\n",
              "      <td>53.4</td>\n",
              "      <td>31.40</td>\n",
              "      <td>919.0</td>\n",
              "      <td>53.3</td>\n",
              "      <td>0.000000e+00</td>\n",
              "      <td>18.4</td>\n",
              "      <td>0.854</td>\n",
              "      <td>324.0</td>\n",
              "      <td>120.0</td>\n",
              "      <td>0.162</td>\n",
              "      <td>12.0</td>\n",
              "      <td>1.0</td>\n",
              "      <td>20.0</td>\n",
              "      <td>3.0</td>\n",
              "      <td>Prep</td>\n",
              "    </tr>\n",
              "  </tbody>\n",
              "</table>\n",
              "</div>"
            ],
            "text/plain": [
              "   Unnamed: 0 tool_condition  ...  M1_CURRENT_FEEDRATE  Machining_Process\n",
              "0           0           worn  ...                  3.0               Prep\n",
              "1           1           worn  ...                  3.0               Prep\n",
              "2           2           worn  ...                  3.0               Prep\n",
              "3           3           worn  ...                  3.0               Prep\n",
              "4           4           worn  ...                  3.0               Prep\n",
              "\n",
              "[5 rows x 52 columns]"
            ]
          },
          "metadata": {
            "tags": []
          },
          "execution_count": 24
        }
      ]
    },
    {
      "cell_type": "code",
      "metadata": {
        "colab": {
          "base_uri": "https://localhost:8080/",
          "height": 243
        },
        "id": "dEIXCgoFfxGx",
        "outputId": "b6a4b9e7-fb3d-414b-e9cf-2e83363062c4"
      },
      "source": [
        "df_train.head(5)"
      ],
      "execution_count": 25,
      "outputs": [
        {
          "output_type": "execute_result",
          "data": {
            "text/html": [
              "<div>\n",
              "<style scoped>\n",
              "    .dataframe tbody tr th:only-of-type {\n",
              "        vertical-align: middle;\n",
              "    }\n",
              "\n",
              "    .dataframe tbody tr th {\n",
              "        vertical-align: top;\n",
              "    }\n",
              "\n",
              "    .dataframe thead th {\n",
              "        text-align: right;\n",
              "    }\n",
              "</style>\n",
              "<table border=\"1\" class=\"dataframe\">\n",
              "  <thead>\n",
              "    <tr style=\"text-align: right;\">\n",
              "      <th></th>\n",
              "      <th>Unnamed: 0</th>\n",
              "      <th>tool_condition</th>\n",
              "      <th>feedrate</th>\n",
              "      <th>clamp_pressure</th>\n",
              "      <th>X1_ActualPosition</th>\n",
              "      <th>X1_ActualVelocity</th>\n",
              "      <th>X1_ActualAcceleration</th>\n",
              "      <th>X1_CommandPosition</th>\n",
              "      <th>X1_CommandVelocity</th>\n",
              "      <th>X1_CommandAcceleration</th>\n",
              "      <th>X1_CurrentFeedback</th>\n",
              "      <th>X1_DCBusVoltage</th>\n",
              "      <th>X1_OutputCurrent</th>\n",
              "      <th>X1_OutputVoltage</th>\n",
              "      <th>X1_OutputPower</th>\n",
              "      <th>Y1_ActualPosition</th>\n",
              "      <th>Y1_ActualVelocity</th>\n",
              "      <th>Y1_ActualAcceleration</th>\n",
              "      <th>Y1_CommandPosition</th>\n",
              "      <th>Y1_CommandVelocity</th>\n",
              "      <th>Y1_CommandAcceleration</th>\n",
              "      <th>Y1_CurrentFeedback</th>\n",
              "      <th>Y1_DCBusVoltage</th>\n",
              "      <th>Y1_OutputCurrent</th>\n",
              "      <th>Y1_OutputVoltage</th>\n",
              "      <th>Y1_OutputPower</th>\n",
              "      <th>Z1_ActualPosition</th>\n",
              "      <th>Z1_ActualVelocity</th>\n",
              "      <th>Z1_ActualAcceleration</th>\n",
              "      <th>Z1_CommandPosition</th>\n",
              "      <th>Z1_CommandVelocity</th>\n",
              "      <th>Z1_CommandAcceleration</th>\n",
              "      <th>Z1_CurrentFeedback</th>\n",
              "      <th>Z1_DCBusVoltage</th>\n",
              "      <th>Z1_OutputCurrent</th>\n",
              "      <th>Z1_OutputVoltage</th>\n",
              "      <th>S1_ActualPosition</th>\n",
              "      <th>S1_ActualVelocity</th>\n",
              "      <th>S1_ActualAcceleration</th>\n",
              "      <th>S1_CommandPosition</th>\n",
              "      <th>S1_CommandVelocity</th>\n",
              "      <th>S1_CommandAcceleration</th>\n",
              "      <th>S1_CurrentFeedback</th>\n",
              "      <th>S1_DCBusVoltage</th>\n",
              "      <th>S1_OutputCurrent</th>\n",
              "      <th>S1_OutputVoltage</th>\n",
              "      <th>S1_OutputPower</th>\n",
              "      <th>S1_SystemInertia</th>\n",
              "      <th>M1_CURRENT_PROGRAM_NUMBER</th>\n",
              "      <th>M1_sequence_number</th>\n",
              "      <th>M1_CURRENT_FEEDRATE</th>\n",
              "      <th>Machining_Process</th>\n",
              "    </tr>\n",
              "  </thead>\n",
              "  <tbody>\n",
              "    <tr>\n",
              "      <th>0</th>\n",
              "      <td>0</td>\n",
              "      <td>unworn</td>\n",
              "      <td>20</td>\n",
              "      <td>4.0</td>\n",
              "      <td>198.0</td>\n",
              "      <td>0.0</td>\n",
              "      <td>0.0</td>\n",
              "      <td>198.0</td>\n",
              "      <td>0.0</td>\n",
              "      <td>0.0</td>\n",
              "      <td>-0.284</td>\n",
              "      <td>2.790000e-19</td>\n",
              "      <td>329.0</td>\n",
              "      <td>0.0</td>\n",
              "      <td>0.000000e+00</td>\n",
              "      <td>158.0</td>\n",
              "      <td>0.0</td>\n",
              "      <td>0.0</td>\n",
              "      <td>158.0</td>\n",
              "      <td>0.0</td>\n",
              "      <td>0.0</td>\n",
              "      <td>-0.0839</td>\n",
              "      <td>2.680000e-19</td>\n",
              "      <td>333.0</td>\n",
              "      <td>0.0</td>\n",
              "      <td>-1.470000e-06</td>\n",
              "      <td>119.0</td>\n",
              "      <td>0.000</td>\n",
              "      <td>0.00</td>\n",
              "      <td>119.0</td>\n",
              "      <td>0.0</td>\n",
              "      <td>0.0</td>\n",
              "      <td>0.0</td>\n",
              "      <td>0.0</td>\n",
              "      <td>0.0</td>\n",
              "      <td>0.0</td>\n",
              "      <td>-1160.0</td>\n",
              "      <td>0.00100</td>\n",
              "      <td>0.687</td>\n",
              "      <td>-1160.0</td>\n",
              "      <td>0.0</td>\n",
              "      <td>0.0</td>\n",
              "      <td>-1.860</td>\n",
              "      <td>0.000000e+00</td>\n",
              "      <td>332.0</td>\n",
              "      <td>0.0</td>\n",
              "      <td>0.000000e+00</td>\n",
              "      <td>12.0</td>\n",
              "      <td>1.0</td>\n",
              "      <td>2.0</td>\n",
              "      <td>50.0</td>\n",
              "      <td>Prep</td>\n",
              "    </tr>\n",
              "    <tr>\n",
              "      <th>1</th>\n",
              "      <td>1</td>\n",
              "      <td>unworn</td>\n",
              "      <td>20</td>\n",
              "      <td>4.0</td>\n",
              "      <td>198.0</td>\n",
              "      <td>0.0</td>\n",
              "      <td>0.0</td>\n",
              "      <td>198.0</td>\n",
              "      <td>0.0</td>\n",
              "      <td>0.0</td>\n",
              "      <td>-0.284</td>\n",
              "      <td>2.790000e-19</td>\n",
              "      <td>329.0</td>\n",
              "      <td>0.0</td>\n",
              "      <td>0.000000e+00</td>\n",
              "      <td>158.0</td>\n",
              "      <td>0.0</td>\n",
              "      <td>0.0</td>\n",
              "      <td>158.0</td>\n",
              "      <td>0.0</td>\n",
              "      <td>0.0</td>\n",
              "      <td>-0.0839</td>\n",
              "      <td>2.680000e-19</td>\n",
              "      <td>333.0</td>\n",
              "      <td>0.0</td>\n",
              "      <td>-1.470000e-06</td>\n",
              "      <td>119.0</td>\n",
              "      <td>0.000</td>\n",
              "      <td>0.00</td>\n",
              "      <td>119.0</td>\n",
              "      <td>0.0</td>\n",
              "      <td>0.0</td>\n",
              "      <td>0.0</td>\n",
              "      <td>0.0</td>\n",
              "      <td>0.0</td>\n",
              "      <td>0.0</td>\n",
              "      <td>-1160.0</td>\n",
              "      <td>0.00100</td>\n",
              "      <td>0.687</td>\n",
              "      <td>-1160.0</td>\n",
              "      <td>0.0</td>\n",
              "      <td>0.0</td>\n",
              "      <td>-1.860</td>\n",
              "      <td>0.000000e+00</td>\n",
              "      <td>332.0</td>\n",
              "      <td>0.0</td>\n",
              "      <td>0.000000e+00</td>\n",
              "      <td>12.0</td>\n",
              "      <td>0.0</td>\n",
              "      <td>0.0</td>\n",
              "      <td>50.0</td>\n",
              "      <td>Prep</td>\n",
              "    </tr>\n",
              "    <tr>\n",
              "      <th>2</th>\n",
              "      <td>2</td>\n",
              "      <td>unworn</td>\n",
              "      <td>20</td>\n",
              "      <td>4.0</td>\n",
              "      <td>198.0</td>\n",
              "      <td>0.0</td>\n",
              "      <td>0.0</td>\n",
              "      <td>198.0</td>\n",
              "      <td>0.0</td>\n",
              "      <td>0.0</td>\n",
              "      <td>1.170</td>\n",
              "      <td>2.780000e-19</td>\n",
              "      <td>325.0</td>\n",
              "      <td>0.0</td>\n",
              "      <td>9.160000e-07</td>\n",
              "      <td>158.0</td>\n",
              "      <td>0.0</td>\n",
              "      <td>0.0</td>\n",
              "      <td>158.0</td>\n",
              "      <td>0.0</td>\n",
              "      <td>0.0</td>\n",
              "      <td>-0.7090</td>\n",
              "      <td>2.690000e-19</td>\n",
              "      <td>327.0</td>\n",
              "      <td>0.0</td>\n",
              "      <td>6.770000e-07</td>\n",
              "      <td>119.0</td>\n",
              "      <td>0.000</td>\n",
              "      <td>0.00</td>\n",
              "      <td>119.0</td>\n",
              "      <td>0.0</td>\n",
              "      <td>0.0</td>\n",
              "      <td>0.0</td>\n",
              "      <td>0.0</td>\n",
              "      <td>0.0</td>\n",
              "      <td>0.0</td>\n",
              "      <td>905.0</td>\n",
              "      <td>0.00025</td>\n",
              "      <td>0.875</td>\n",
              "      <td>905.0</td>\n",
              "      <td>0.0</td>\n",
              "      <td>0.0</td>\n",
              "      <td>-0.176</td>\n",
              "      <td>2.780000e-19</td>\n",
              "      <td>324.0</td>\n",
              "      <td>0.0</td>\n",
              "      <td>-8.590000e-07</td>\n",
              "      <td>12.0</td>\n",
              "      <td>0.0</td>\n",
              "      <td>0.0</td>\n",
              "      <td>50.0</td>\n",
              "      <td>Prep</td>\n",
              "    </tr>\n",
              "    <tr>\n",
              "      <th>3</th>\n",
              "      <td>3</td>\n",
              "      <td>unworn</td>\n",
              "      <td>20</td>\n",
              "      <td>4.0</td>\n",
              "      <td>198.0</td>\n",
              "      <td>0.0</td>\n",
              "      <td>0.0</td>\n",
              "      <td>198.0</td>\n",
              "      <td>0.0</td>\n",
              "      <td>0.0</td>\n",
              "      <td>-0.230</td>\n",
              "      <td>2.790000e-19</td>\n",
              "      <td>329.0</td>\n",
              "      <td>0.0</td>\n",
              "      <td>-2.300000e-07</td>\n",
              "      <td>158.0</td>\n",
              "      <td>0.0</td>\n",
              "      <td>0.0</td>\n",
              "      <td>158.0</td>\n",
              "      <td>0.0</td>\n",
              "      <td>0.0</td>\n",
              "      <td>-1.3400</td>\n",
              "      <td>2.680000e-19</td>\n",
              "      <td>333.0</td>\n",
              "      <td>0.0</td>\n",
              "      <td>0.000000e+00</td>\n",
              "      <td>119.0</td>\n",
              "      <td>-0.025</td>\n",
              "      <td>-6.25</td>\n",
              "      <td>119.0</td>\n",
              "      <td>0.0</td>\n",
              "      <td>0.0</td>\n",
              "      <td>0.0</td>\n",
              "      <td>0.0</td>\n",
              "      <td>0.0</td>\n",
              "      <td>0.0</td>\n",
              "      <td>-1160.0</td>\n",
              "      <td>0.00075</td>\n",
              "      <td>0.188</td>\n",
              "      <td>-1160.0</td>\n",
              "      <td>0.0</td>\n",
              "      <td>0.0</td>\n",
              "      <td>-1.170</td>\n",
              "      <td>0.000000e+00</td>\n",
              "      <td>332.0</td>\n",
              "      <td>0.0</td>\n",
              "      <td>-6.290000e-06</td>\n",
              "      <td>12.0</td>\n",
              "      <td>4.0</td>\n",
              "      <td>0.0</td>\n",
              "      <td>50.0</td>\n",
              "      <td>Prep</td>\n",
              "    </tr>\n",
              "    <tr>\n",
              "      <th>4</th>\n",
              "      <td>4</td>\n",
              "      <td>unworn</td>\n",
              "      <td>20</td>\n",
              "      <td>4.0</td>\n",
              "      <td>198.0</td>\n",
              "      <td>0.0</td>\n",
              "      <td>0.0</td>\n",
              "      <td>198.0</td>\n",
              "      <td>0.0</td>\n",
              "      <td>0.0</td>\n",
              "      <td>-0.230</td>\n",
              "      <td>2.790000e-19</td>\n",
              "      <td>329.0</td>\n",
              "      <td>0.0</td>\n",
              "      <td>-2.300000e-07</td>\n",
              "      <td>158.0</td>\n",
              "      <td>0.0</td>\n",
              "      <td>0.0</td>\n",
              "      <td>158.0</td>\n",
              "      <td>0.0</td>\n",
              "      <td>0.0</td>\n",
              "      <td>-1.3400</td>\n",
              "      <td>2.680000e-19</td>\n",
              "      <td>333.0</td>\n",
              "      <td>0.0</td>\n",
              "      <td>0.000000e+00</td>\n",
              "      <td>119.0</td>\n",
              "      <td>-0.025</td>\n",
              "      <td>-6.25</td>\n",
              "      <td>119.0</td>\n",
              "      <td>0.0</td>\n",
              "      <td>0.0</td>\n",
              "      <td>0.0</td>\n",
              "      <td>0.0</td>\n",
              "      <td>0.0</td>\n",
              "      <td>0.0</td>\n",
              "      <td>-1160.0</td>\n",
              "      <td>0.00075</td>\n",
              "      <td>0.188</td>\n",
              "      <td>-1160.0</td>\n",
              "      <td>0.0</td>\n",
              "      <td>0.0</td>\n",
              "      <td>-1.170</td>\n",
              "      <td>0.000000e+00</td>\n",
              "      <td>332.0</td>\n",
              "      <td>0.0</td>\n",
              "      <td>-6.290000e-06</td>\n",
              "      <td>12.0</td>\n",
              "      <td>0.0</td>\n",
              "      <td>0.0</td>\n",
              "      <td>50.0</td>\n",
              "      <td>Prep</td>\n",
              "    </tr>\n",
              "  </tbody>\n",
              "</table>\n",
              "</div>"
            ],
            "text/plain": [
              "   Unnamed: 0 tool_condition  ...  M1_CURRENT_FEEDRATE  Machining_Process\n",
              "0           0         unworn  ...                 50.0               Prep\n",
              "1           1         unworn  ...                 50.0               Prep\n",
              "2           2         unworn  ...                 50.0               Prep\n",
              "3           3         unworn  ...                 50.0               Prep\n",
              "4           4         unworn  ...                 50.0               Prep\n",
              "\n",
              "[5 rows x 52 columns]"
            ]
          },
          "metadata": {
            "tags": []
          },
          "execution_count": 25
        }
      ]
    },
    {
      "cell_type": "code",
      "metadata": {
        "colab": {
          "base_uri": "https://localhost:8080/"
        },
        "id": "05uLNFTBg0GZ",
        "outputId": "1d65a296-71c2-4f39-ac83-019edb210465"
      },
      "source": [
        "print(tmp.shape)\n",
        "print(df_train.shape)"
      ],
      "execution_count": 26,
      "outputs": [
        {
          "output_type": "stream",
          "text": [
            "(2253, 52)\n",
            "(7493, 52)\n"
          ],
          "name": "stdout"
        }
      ]
    },
    {
      "cell_type": "code",
      "metadata": {
        "colab": {
          "base_uri": "https://localhost:8080/"
        },
        "id": "Ammep-ZfqXnK",
        "outputId": "942bfd8a-78c2-4e00-dd95-2235ac7ed388"
      },
      "source": [
        "del df_train['Unnamed: 0']\n",
        "print(df_train.shape)"
      ],
      "execution_count": 27,
      "outputs": [
        {
          "output_type": "stream",
          "text": [
            "(7493, 51)\n"
          ],
          "name": "stdout"
        }
      ]
    },
    {
      "cell_type": "code",
      "metadata": {
        "id": "0UEYoGM_jcA5"
      },
      "source": [
        "# df_train.to_csv('train_set.csv')\n",
        "df_train.to_csv('test_set.csv')"
      ],
      "execution_count": 28,
      "outputs": []
    },
    {
      "cell_type": "code",
      "metadata": {
        "colab": {
          "base_uri": "https://localhost:8080/"
        },
        "id": "Iba5LqfxuEYN",
        "outputId": "d2a80e40-926f-4d8d-d0e0-3ad4b1e0f131"
      },
      "source": [
        "df_train.shape"
      ],
      "execution_count": 30,
      "outputs": [
        {
          "output_type": "execute_result",
          "data": {
            "text/plain": [
              "(7493, 51)"
            ]
          },
          "metadata": {
            "tags": []
          },
          "execution_count": 30
        }
      ]
    },
    {
      "cell_type": "code",
      "metadata": {
        "id": "i9hUnUxc0Pxy"
      },
      "source": [
        ""
      ],
      "execution_count": null,
      "outputs": []
    }
  ]
}