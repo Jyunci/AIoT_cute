{
  "nbformat": 4,
  "nbformat_minor": 0,
  "metadata": {
    "colab": {
      "name": "tool_wear_classification.ipynb",
      "provenance": [],
      "collapsed_sections": [],
      "include_colab_link": true
    },
    "kernelspec": {
      "name": "python3",
      "display_name": "Python 3"
    },
    "accelerator": "GPU"
  },
  "cells": [
    {
      "cell_type": "markdown",
      "metadata": {
        "id": "view-in-github",
        "colab_type": "text"
      },
      "source": [
        "<a href=\"https://colab.research.google.com/github/Jyunci/AIoT_cute/blob/main/tool_wear_classification.ipynb\" target=\"_parent\"><img src=\"https://colab.research.google.com/assets/colab-badge.svg\" alt=\"Open In Colab\"/></a>"
      ]
    },
    {
      "cell_type": "markdown",
      "metadata": {
        "id": "f_7xBNtDczqI"
      },
      "source": [
        "# 1.1  刀具磨耗預測\n",
        "使用  Temporal Convolutional Network  (TCN) 模型，預測端銑刀是否磨損 (Worn)。\n",
        "\n",
        "資料來源：公開資料集 Kaggle 平台 --- CNC Mill Tool Wear。\n",
        "\n",
        "連結：https://www.kaggle.com/shasun/tool-wear-detection-in-cnc-mill"
      ]
    },
    {
      "cell_type": "markdown",
      "metadata": {
        "id": "6jFc-3oegnOn"
      },
      "source": [
        "## 前置作業 - 函式庫環境設置"
      ]
    },
    {
      "cell_type": "code",
      "metadata": {
        "id": "Siybc6SVcXo6"
      },
      "source": [
        "# 共通函式庫\n",
        "import numpy as np\n",
        "import os\n",
        "import pandas as pd\n",
        "import scipy.stats as stats\n",
        "from sklearn.preprocessing import LabelEncoder"
      ],
      "execution_count": 1,
      "outputs": []
    },
    {
      "cell_type": "code",
      "metadata": {
        "colab": {
          "base_uri": "https://localhost:8080/"
        },
        "id": "vWU6Ebukz9ct",
        "outputId": "789576a2-1448-40d1-f727-c6a4db687e2f"
      },
      "source": [
        "!pip install keras-tcn"
      ],
      "execution_count": 2,
      "outputs": [
        {
          "output_type": "stream",
          "text": [
            "Collecting keras-tcn\n",
            "  Downloading https://files.pythonhosted.org/packages/a8/5b/31eed031c196dc192eddf346f053ec6a97aefa4b931164fd8665c92a9d7d/keras_tcn-3.1.1-py3-none-any.whl\n",
            "Collecting keras==2.3.1\n",
            "\u001b[?25l  Downloading https://files.pythonhosted.org/packages/ad/fd/6bfe87920d7f4fd475acd28500a42482b6b84479832bdc0fe9e589a60ceb/Keras-2.3.1-py2.py3-none-any.whl (377kB)\n",
            "\r\u001b[K     |▉                               | 10kB 26.0MB/s eta 0:00:01\r\u001b[K     |█▊                              | 20kB 16.8MB/s eta 0:00:01\r\u001b[K     |██▋                             | 30kB 15.3MB/s eta 0:00:01\r\u001b[K     |███▌                            | 40kB 14.7MB/s eta 0:00:01\r\u001b[K     |████▍                           | 51kB 12.1MB/s eta 0:00:01\r\u001b[K     |█████▏                          | 61kB 12.1MB/s eta 0:00:01\r\u001b[K     |██████                          | 71kB 12.2MB/s eta 0:00:01\r\u001b[K     |███████                         | 81kB 12.6MB/s eta 0:00:01\r\u001b[K     |███████▉                        | 92kB 13.3MB/s eta 0:00:01\r\u001b[K     |████████▊                       | 102kB 13.1MB/s eta 0:00:01\r\u001b[K     |█████████▌                      | 112kB 13.1MB/s eta 0:00:01\r\u001b[K     |██████████▍                     | 122kB 13.1MB/s eta 0:00:01\r\u001b[K     |███████████▎                    | 133kB 13.1MB/s eta 0:00:01\r\u001b[K     |████████████▏                   | 143kB 13.1MB/s eta 0:00:01\r\u001b[K     |█████████████                   | 153kB 13.1MB/s eta 0:00:01\r\u001b[K     |█████████████▉                  | 163kB 13.1MB/s eta 0:00:01\r\u001b[K     |██████████████▊                 | 174kB 13.1MB/s eta 0:00:01\r\u001b[K     |███████████████▋                | 184kB 13.1MB/s eta 0:00:01\r\u001b[K     |████████████████▌               | 194kB 13.1MB/s eta 0:00:01\r\u001b[K     |█████████████████▍              | 204kB 13.1MB/s eta 0:00:01\r\u001b[K     |██████████████████▏             | 215kB 13.1MB/s eta 0:00:01\r\u001b[K     |███████████████████             | 225kB 13.1MB/s eta 0:00:01\r\u001b[K     |████████████████████            | 235kB 13.1MB/s eta 0:00:01\r\u001b[K     |████████████████████▉           | 245kB 13.1MB/s eta 0:00:01\r\u001b[K     |█████████████████████▊          | 256kB 13.1MB/s eta 0:00:01\r\u001b[K     |██████████████████████▌         | 266kB 13.1MB/s eta 0:00:01\r\u001b[K     |███████████████████████▍        | 276kB 13.1MB/s eta 0:00:01\r\u001b[K     |████████████████████████▎       | 286kB 13.1MB/s eta 0:00:01\r\u001b[K     |█████████████████████████▏      | 296kB 13.1MB/s eta 0:00:01\r\u001b[K     |██████████████████████████      | 307kB 13.1MB/s eta 0:00:01\r\u001b[K     |██████████████████████████▉     | 317kB 13.1MB/s eta 0:00:01\r\u001b[K     |███████████████████████████▊    | 327kB 13.1MB/s eta 0:00:01\r\u001b[K     |████████████████████████████▋   | 337kB 13.1MB/s eta 0:00:01\r\u001b[K     |█████████████████████████████▌  | 348kB 13.1MB/s eta 0:00:01\r\u001b[K     |██████████████████████████████▍ | 358kB 13.1MB/s eta 0:00:01\r\u001b[K     |███████████████████████████████▏| 368kB 13.1MB/s eta 0:00:01\r\u001b[K     |████████████████████████████████| 378kB 13.1MB/s \n",
            "\u001b[?25hRequirement already satisfied: numpy>=1.18.1 in /usr/local/lib/python3.6/dist-packages (from keras-tcn) (1.18.5)\n",
            "Requirement already satisfied: h5py in /usr/local/lib/python3.6/dist-packages (from keras==2.3.1->keras-tcn) (2.10.0)\n",
            "Requirement already satisfied: six>=1.9.0 in /usr/local/lib/python3.6/dist-packages (from keras==2.3.1->keras-tcn) (1.15.0)\n",
            "Requirement already satisfied: pyyaml in /usr/local/lib/python3.6/dist-packages (from keras==2.3.1->keras-tcn) (3.13)\n",
            "Collecting keras-applications>=1.0.6\n",
            "\u001b[?25l  Downloading https://files.pythonhosted.org/packages/71/e3/19762fdfc62877ae9102edf6342d71b28fbfd9dea3d2f96a882ce099b03f/Keras_Applications-1.0.8-py3-none-any.whl (50kB)\n",
            "\u001b[K     |████████████████████████████████| 51kB 8.1MB/s \n",
            "\u001b[?25hRequirement already satisfied: scipy>=0.14 in /usr/local/lib/python3.6/dist-packages (from keras==2.3.1->keras-tcn) (1.4.1)\n",
            "Requirement already satisfied: keras-preprocessing>=1.0.5 in /usr/local/lib/python3.6/dist-packages (from keras==2.3.1->keras-tcn) (1.1.2)\n",
            "Installing collected packages: keras-applications, keras, keras-tcn\n",
            "  Found existing installation: Keras 2.4.3\n",
            "    Uninstalling Keras-2.4.3:\n",
            "      Successfully uninstalled Keras-2.4.3\n",
            "Successfully installed keras-2.3.1 keras-applications-1.0.8 keras-tcn-3.1.1\n"
          ],
          "name": "stdout"
        }
      ]
    },
    {
      "cell_type": "code",
      "metadata": {
        "id": "oE14Cj8k0EGT"
      },
      "source": [
        "from tensorflow.keras import Model, Input\n",
        "from tensorflow.keras.datasets import imdb\n",
        "from tensorflow.keras.layers import Dense, Dropout, Embedding\n",
        "from tensorflow.keras.preprocessing import sequence\n",
        "from tcn import TCN"
      ],
      "execution_count": 3,
      "outputs": []
    },
    {
      "cell_type": "markdown",
      "metadata": {
        "id": "ktfuo6OEg6IM"
      },
      "source": [
        "## 前置作業 - 資料下載  (從 github clone 檔案)"
      ]
    },
    {
      "cell_type": "code",
      "metadata": {
        "colab": {
          "base_uri": "https://localhost:8080/"
        },
        "id": "OAv1nFIow2z_",
        "outputId": "33d6596b-0366-4e49-8dab-21315ef47a9b"
      },
      "source": [
        "!git clone https://github.com/Jyunci/AIoT_cute.git"
      ],
      "execution_count": 4,
      "outputs": [
        {
          "output_type": "stream",
          "text": [
            "Cloning into 'AIoT_cute'...\n",
            "remote: Enumerating objects: 20, done.\u001b[K\n",
            "remote: Counting objects: 100% (20/20), done.\u001b[K\n",
            "remote: Compressing objects: 100% (20/20), done.\u001b[K\n",
            "remote: Total 101 (delta 9), reused 0 (delta 0), pack-reused 81\u001b[K\n",
            "Receiving objects: 100% (101/101), 4.46 MiB | 23.93 MiB/s, done.\n",
            "Resolving deltas: 100% (40/40), done.\n"
          ],
          "name": "stdout"
        }
      ]
    },
    {
      "cell_type": "code",
      "metadata": {
        "colab": {
          "base_uri": "https://localhost:8080/",
          "height": 243
        },
        "id": "Q8KSGfmpEWt0",
        "outputId": "bb93cc39-1ccb-47c5-8063-455d2647a8f2"
      },
      "source": [
        "#  讀取 'train_set.csv'  檢視資料\n",
        "df_train = pd.read_csv('./AIoT_cute/cnc_tool/train_set.csv')  \n",
        "df_train.head(5)"
      ],
      "execution_count": 5,
      "outputs": [
        {
          "output_type": "execute_result",
          "data": {
            "text/html": [
              "<div>\n",
              "<style scoped>\n",
              "    .dataframe tbody tr th:only-of-type {\n",
              "        vertical-align: middle;\n",
              "    }\n",
              "\n",
              "    .dataframe tbody tr th {\n",
              "        vertical-align: top;\n",
              "    }\n",
              "\n",
              "    .dataframe thead th {\n",
              "        text-align: right;\n",
              "    }\n",
              "</style>\n",
              "<table border=\"1\" class=\"dataframe\">\n",
              "  <thead>\n",
              "    <tr style=\"text-align: right;\">\n",
              "      <th></th>\n",
              "      <th>Unnamed: 0</th>\n",
              "      <th>tool_condition</th>\n",
              "      <th>feedrate</th>\n",
              "      <th>clamp_pressure</th>\n",
              "      <th>X1_ActualPosition</th>\n",
              "      <th>X1_ActualVelocity</th>\n",
              "      <th>X1_ActualAcceleration</th>\n",
              "      <th>X1_CommandPosition</th>\n",
              "      <th>X1_CommandVelocity</th>\n",
              "      <th>X1_CommandAcceleration</th>\n",
              "      <th>X1_CurrentFeedback</th>\n",
              "      <th>X1_DCBusVoltage</th>\n",
              "      <th>X1_OutputCurrent</th>\n",
              "      <th>X1_OutputVoltage</th>\n",
              "      <th>X1_OutputPower</th>\n",
              "      <th>Y1_ActualPosition</th>\n",
              "      <th>Y1_ActualVelocity</th>\n",
              "      <th>Y1_ActualAcceleration</th>\n",
              "      <th>Y1_CommandPosition</th>\n",
              "      <th>Y1_CommandVelocity</th>\n",
              "      <th>Y1_CommandAcceleration</th>\n",
              "      <th>Y1_CurrentFeedback</th>\n",
              "      <th>Y1_DCBusVoltage</th>\n",
              "      <th>Y1_OutputCurrent</th>\n",
              "      <th>Y1_OutputVoltage</th>\n",
              "      <th>Y1_OutputPower</th>\n",
              "      <th>Z1_ActualPosition</th>\n",
              "      <th>Z1_ActualVelocity</th>\n",
              "      <th>Z1_ActualAcceleration</th>\n",
              "      <th>Z1_CommandPosition</th>\n",
              "      <th>Z1_CommandVelocity</th>\n",
              "      <th>Z1_CommandAcceleration</th>\n",
              "      <th>Z1_CurrentFeedback</th>\n",
              "      <th>Z1_DCBusVoltage</th>\n",
              "      <th>Z1_OutputCurrent</th>\n",
              "      <th>Z1_OutputVoltage</th>\n",
              "      <th>S1_ActualPosition</th>\n",
              "      <th>S1_ActualVelocity</th>\n",
              "      <th>S1_ActualAcceleration</th>\n",
              "      <th>S1_CommandPosition</th>\n",
              "      <th>S1_CommandVelocity</th>\n",
              "      <th>S1_CommandAcceleration</th>\n",
              "      <th>S1_CurrentFeedback</th>\n",
              "      <th>S1_DCBusVoltage</th>\n",
              "      <th>S1_OutputCurrent</th>\n",
              "      <th>S1_OutputVoltage</th>\n",
              "      <th>S1_OutputPower</th>\n",
              "      <th>S1_SystemInertia</th>\n",
              "      <th>M1_CURRENT_PROGRAM_NUMBER</th>\n",
              "      <th>M1_sequence_number</th>\n",
              "      <th>M1_CURRENT_FEEDRATE</th>\n",
              "      <th>Machining_Process</th>\n",
              "    </tr>\n",
              "  </thead>\n",
              "  <tbody>\n",
              "    <tr>\n",
              "      <th>0</th>\n",
              "      <td>0</td>\n",
              "      <td>unworn</td>\n",
              "      <td>6</td>\n",
              "      <td>4.0</td>\n",
              "      <td>198.0</td>\n",
              "      <td>0.0</td>\n",
              "      <td>0.00</td>\n",
              "      <td>198.0</td>\n",
              "      <td>0.0</td>\n",
              "      <td>0.000000</td>\n",
              "      <td>0.18</td>\n",
              "      <td>0.0207</td>\n",
              "      <td>329.0</td>\n",
              "      <td>2.77</td>\n",
              "      <td>-0.000001</td>\n",
              "      <td>158.0</td>\n",
              "      <td>-0.025</td>\n",
              "      <td>-6.25</td>\n",
              "      <td>158.0</td>\n",
              "      <td>0.0</td>\n",
              "      <td>0.000000</td>\n",
              "      <td>0.539</td>\n",
              "      <td>0.0167</td>\n",
              "      <td>328.0</td>\n",
              "      <td>1.84</td>\n",
              "      <td>6.430000e-07</td>\n",
              "      <td>119.0</td>\n",
              "      <td>0.0</td>\n",
              "      <td>0.00</td>\n",
              "      <td>119.0</td>\n",
              "      <td>0.0</td>\n",
              "      <td>0.000000</td>\n",
              "      <td>0.0</td>\n",
              "      <td>0.0</td>\n",
              "      <td>0.0</td>\n",
              "      <td>0.0</td>\n",
              "      <td>-361.0</td>\n",
              "      <td>0.001</td>\n",
              "      <td>0.250</td>\n",
              "      <td>-361.0</td>\n",
              "      <td>0.0</td>\n",
              "      <td>0.0</td>\n",
              "      <td>0.524</td>\n",
              "      <td>2.740000e-19</td>\n",
              "      <td>329.0</td>\n",
              "      <td>0.0</td>\n",
              "      <td>6.960000e-07</td>\n",
              "      <td>12.0</td>\n",
              "      <td>1.0</td>\n",
              "      <td>0.0</td>\n",
              "      <td>50.0</td>\n",
              "      <td>Starting</td>\n",
              "    </tr>\n",
              "    <tr>\n",
              "      <th>1</th>\n",
              "      <td>1</td>\n",
              "      <td>unworn</td>\n",
              "      <td>6</td>\n",
              "      <td>4.0</td>\n",
              "      <td>198.0</td>\n",
              "      <td>-10.8</td>\n",
              "      <td>-350.00</td>\n",
              "      <td>198.0</td>\n",
              "      <td>-13.6</td>\n",
              "      <td>-358.000000</td>\n",
              "      <td>-10.90</td>\n",
              "      <td>0.1860</td>\n",
              "      <td>328.0</td>\n",
              "      <td>23.30</td>\n",
              "      <td>0.004480</td>\n",
              "      <td>158.0</td>\n",
              "      <td>-19.800</td>\n",
              "      <td>-750.00</td>\n",
              "      <td>157.0</td>\n",
              "      <td>-24.6</td>\n",
              "      <td>-647.000000</td>\n",
              "      <td>-14.500</td>\n",
              "      <td>0.2810</td>\n",
              "      <td>325.0</td>\n",
              "      <td>37.80</td>\n",
              "      <td>1.260000e-02</td>\n",
              "      <td>119.0</td>\n",
              "      <td>-20.3</td>\n",
              "      <td>-712.00</td>\n",
              "      <td>118.0</td>\n",
              "      <td>-25.6</td>\n",
              "      <td>-674.000000</td>\n",
              "      <td>0.0</td>\n",
              "      <td>0.0</td>\n",
              "      <td>0.0</td>\n",
              "      <td>0.0</td>\n",
              "      <td>-361.0</td>\n",
              "      <td>0.000</td>\n",
              "      <td>0.250</td>\n",
              "      <td>-361.0</td>\n",
              "      <td>0.0</td>\n",
              "      <td>0.0</td>\n",
              "      <td>-0.288</td>\n",
              "      <td>2.740000e-19</td>\n",
              "      <td>328.0</td>\n",
              "      <td>0.0</td>\n",
              "      <td>-5.270000e-07</td>\n",
              "      <td>12.0</td>\n",
              "      <td>1.0</td>\n",
              "      <td>4.0</td>\n",
              "      <td>50.0</td>\n",
              "      <td>Prep</td>\n",
              "    </tr>\n",
              "    <tr>\n",
              "      <th>2</th>\n",
              "      <td>2</td>\n",
              "      <td>unworn</td>\n",
              "      <td>6</td>\n",
              "      <td>4.0</td>\n",
              "      <td>196.0</td>\n",
              "      <td>-17.8</td>\n",
              "      <td>-6.25</td>\n",
              "      <td>196.0</td>\n",
              "      <td>-17.9</td>\n",
              "      <td>-0.000095</td>\n",
              "      <td>-8.59</td>\n",
              "      <td>0.1400</td>\n",
              "      <td>328.0</td>\n",
              "      <td>30.60</td>\n",
              "      <td>0.005330</td>\n",
              "      <td>154.0</td>\n",
              "      <td>-32.500</td>\n",
              "      <td>0.00</td>\n",
              "      <td>154.0</td>\n",
              "      <td>-32.3</td>\n",
              "      <td>-0.000095</td>\n",
              "      <td>-7.790</td>\n",
              "      <td>0.1390</td>\n",
              "      <td>327.0</td>\n",
              "      <td>49.40</td>\n",
              "      <td>9.430000e-03</td>\n",
              "      <td>115.0</td>\n",
              "      <td>-33.7</td>\n",
              "      <td>37.50</td>\n",
              "      <td>115.0</td>\n",
              "      <td>-33.7</td>\n",
              "      <td>-0.000095</td>\n",
              "      <td>0.0</td>\n",
              "      <td>0.0</td>\n",
              "      <td>0.0</td>\n",
              "      <td>0.0</td>\n",
              "      <td>-361.0</td>\n",
              "      <td>0.000</td>\n",
              "      <td>-0.438</td>\n",
              "      <td>-361.0</td>\n",
              "      <td>0.0</td>\n",
              "      <td>0.0</td>\n",
              "      <td>0.524</td>\n",
              "      <td>2.740000e-19</td>\n",
              "      <td>328.0</td>\n",
              "      <td>0.0</td>\n",
              "      <td>9.100000e-07</td>\n",
              "      <td>12.0</td>\n",
              "      <td>1.0</td>\n",
              "      <td>7.0</td>\n",
              "      <td>50.0</td>\n",
              "      <td>Prep</td>\n",
              "    </tr>\n",
              "    <tr>\n",
              "      <th>3</th>\n",
              "      <td>3</td>\n",
              "      <td>unworn</td>\n",
              "      <td>6</td>\n",
              "      <td>4.0</td>\n",
              "      <td>194.0</td>\n",
              "      <td>-18.0</td>\n",
              "      <td>0.00</td>\n",
              "      <td>194.0</td>\n",
              "      <td>-17.9</td>\n",
              "      <td>-0.000095</td>\n",
              "      <td>-6.11</td>\n",
              "      <td>0.1300</td>\n",
              "      <td>327.0</td>\n",
              "      <td>30.30</td>\n",
              "      <td>0.004890</td>\n",
              "      <td>151.0</td>\n",
              "      <td>-32.600</td>\n",
              "      <td>-62.50</td>\n",
              "      <td>151.0</td>\n",
              "      <td>-32.3</td>\n",
              "      <td>-0.000095</td>\n",
              "      <td>-8.130</td>\n",
              "      <td>0.1560</td>\n",
              "      <td>325.0</td>\n",
              "      <td>47.60</td>\n",
              "      <td>1.050000e-02</td>\n",
              "      <td>112.0</td>\n",
              "      <td>-33.7</td>\n",
              "      <td>-6.25</td>\n",
              "      <td>112.0</td>\n",
              "      <td>-33.7</td>\n",
              "      <td>0.000000</td>\n",
              "      <td>0.0</td>\n",
              "      <td>0.0</td>\n",
              "      <td>0.0</td>\n",
              "      <td>0.0</td>\n",
              "      <td>-361.0</td>\n",
              "      <td>-0.001</td>\n",
              "      <td>-0.250</td>\n",
              "      <td>-361.0</td>\n",
              "      <td>0.0</td>\n",
              "      <td>0.0</td>\n",
              "      <td>-0.180</td>\n",
              "      <td>2.740000e-19</td>\n",
              "      <td>328.0</td>\n",
              "      <td>0.0</td>\n",
              "      <td>1.070000e-06</td>\n",
              "      <td>12.0</td>\n",
              "      <td>1.0</td>\n",
              "      <td>7.0</td>\n",
              "      <td>50.0</td>\n",
              "      <td>Prep</td>\n",
              "    </tr>\n",
              "    <tr>\n",
              "      <th>4</th>\n",
              "      <td>4</td>\n",
              "      <td>unworn</td>\n",
              "      <td>6</td>\n",
              "      <td>4.0</td>\n",
              "      <td>193.0</td>\n",
              "      <td>-17.9</td>\n",
              "      <td>-18.80</td>\n",
              "      <td>192.0</td>\n",
              "      <td>-17.9</td>\n",
              "      <td>0.000095</td>\n",
              "      <td>-5.70</td>\n",
              "      <td>0.1140</td>\n",
              "      <td>328.0</td>\n",
              "      <td>30.50</td>\n",
              "      <td>0.004250</td>\n",
              "      <td>148.0</td>\n",
              "      <td>-32.000</td>\n",
              "      <td>138.00</td>\n",
              "      <td>148.0</td>\n",
              "      <td>-32.3</td>\n",
              "      <td>0.000095</td>\n",
              "      <td>-13.800</td>\n",
              "      <td>0.2020</td>\n",
              "      <td>326.0</td>\n",
              "      <td>47.10</td>\n",
              "      <td>1.350000e-02</td>\n",
              "      <td>109.0</td>\n",
              "      <td>-33.6</td>\n",
              "      <td>18.80</td>\n",
              "      <td>108.0</td>\n",
              "      <td>-33.7</td>\n",
              "      <td>0.000000</td>\n",
              "      <td>0.0</td>\n",
              "      <td>0.0</td>\n",
              "      <td>0.0</td>\n",
              "      <td>0.0</td>\n",
              "      <td>-361.0</td>\n",
              "      <td>0.000</td>\n",
              "      <td>-0.188</td>\n",
              "      <td>-361.0</td>\n",
              "      <td>0.0</td>\n",
              "      <td>0.0</td>\n",
              "      <td>0.226</td>\n",
              "      <td>2.740000e-19</td>\n",
              "      <td>328.0</td>\n",
              "      <td>0.0</td>\n",
              "      <td>1.960000e-06</td>\n",
              "      <td>12.0</td>\n",
              "      <td>1.0</td>\n",
              "      <td>7.0</td>\n",
              "      <td>50.0</td>\n",
              "      <td>Prep</td>\n",
              "    </tr>\n",
              "  </tbody>\n",
              "</table>\n",
              "</div>"
            ],
            "text/plain": [
              "   Unnamed: 0 tool_condition  ...  M1_CURRENT_FEEDRATE  Machining_Process\n",
              "0           0         unworn  ...                 50.0           Starting\n",
              "1           1         unworn  ...                 50.0               Prep\n",
              "2           2         unworn  ...                 50.0               Prep\n",
              "3           3         unworn  ...                 50.0               Prep\n",
              "4           4         unworn  ...                 50.0               Prep\n",
              "\n",
              "[5 rows x 52 columns]"
            ]
          },
          "metadata": {
            "tags": []
          },
          "execution_count": 5
        }
      ]
    },
    {
      "cell_type": "code",
      "metadata": {
        "id": "r87GUHPRu1Vy",
        "colab": {
          "base_uri": "https://localhost:8080/"
        },
        "outputId": "b6de2615-3b42-409f-9691-0be8923867b9"
      },
      "source": [
        "print('訓練集大小: ', df_train.shape)\n",
        "tool_df = df_train['tool_condition'].value_counts(normalize=True)\n",
        "print(tool_df)"
      ],
      "execution_count": 6,
      "outputs": [
        {
          "output_type": "stream",
          "text": [
            "訓練集大小:  (17793, 52)\n",
            "worn      0.548474\n",
            "unworn    0.451526\n",
            "Name: tool_condition, dtype: float64\n"
          ],
          "name": "stdout"
        }
      ]
    },
    {
      "cell_type": "code",
      "metadata": {
        "colab": {
          "base_uri": "https://localhost:8080/",
          "height": 243
        },
        "id": "UiM7HQ_NDmnz",
        "outputId": "476d8ee3-6b04-4aec-91b2-9a8b2468c869"
      },
      "source": [
        "#  讀取 'test_set.csv'  檢視資料\n",
        "df_test = pd.read_csv('./AIoT_cute/cnc_tool/test_set.csv')\n",
        "df_test.head(5)"
      ],
      "execution_count": 7,
      "outputs": [
        {
          "output_type": "execute_result",
          "data": {
            "text/html": [
              "<div>\n",
              "<style scoped>\n",
              "    .dataframe tbody tr th:only-of-type {\n",
              "        vertical-align: middle;\n",
              "    }\n",
              "\n",
              "    .dataframe tbody tr th {\n",
              "        vertical-align: top;\n",
              "    }\n",
              "\n",
              "    .dataframe thead th {\n",
              "        text-align: right;\n",
              "    }\n",
              "</style>\n",
              "<table border=\"1\" class=\"dataframe\">\n",
              "  <thead>\n",
              "    <tr style=\"text-align: right;\">\n",
              "      <th></th>\n",
              "      <th>Unnamed: 0</th>\n",
              "      <th>tool_condition</th>\n",
              "      <th>feedrate</th>\n",
              "      <th>clamp_pressure</th>\n",
              "      <th>X1_ActualPosition</th>\n",
              "      <th>X1_ActualVelocity</th>\n",
              "      <th>X1_ActualAcceleration</th>\n",
              "      <th>X1_CommandPosition</th>\n",
              "      <th>X1_CommandVelocity</th>\n",
              "      <th>X1_CommandAcceleration</th>\n",
              "      <th>X1_CurrentFeedback</th>\n",
              "      <th>X1_DCBusVoltage</th>\n",
              "      <th>X1_OutputCurrent</th>\n",
              "      <th>X1_OutputVoltage</th>\n",
              "      <th>X1_OutputPower</th>\n",
              "      <th>Y1_ActualPosition</th>\n",
              "      <th>Y1_ActualVelocity</th>\n",
              "      <th>Y1_ActualAcceleration</th>\n",
              "      <th>Y1_CommandPosition</th>\n",
              "      <th>Y1_CommandVelocity</th>\n",
              "      <th>Y1_CommandAcceleration</th>\n",
              "      <th>Y1_CurrentFeedback</th>\n",
              "      <th>Y1_DCBusVoltage</th>\n",
              "      <th>Y1_OutputCurrent</th>\n",
              "      <th>Y1_OutputVoltage</th>\n",
              "      <th>Y1_OutputPower</th>\n",
              "      <th>Z1_ActualPosition</th>\n",
              "      <th>Z1_ActualVelocity</th>\n",
              "      <th>Z1_ActualAcceleration</th>\n",
              "      <th>Z1_CommandPosition</th>\n",
              "      <th>Z1_CommandVelocity</th>\n",
              "      <th>Z1_CommandAcceleration</th>\n",
              "      <th>Z1_CurrentFeedback</th>\n",
              "      <th>Z1_DCBusVoltage</th>\n",
              "      <th>Z1_OutputCurrent</th>\n",
              "      <th>Z1_OutputVoltage</th>\n",
              "      <th>S1_ActualPosition</th>\n",
              "      <th>S1_ActualVelocity</th>\n",
              "      <th>S1_ActualAcceleration</th>\n",
              "      <th>S1_CommandPosition</th>\n",
              "      <th>S1_CommandVelocity</th>\n",
              "      <th>S1_CommandAcceleration</th>\n",
              "      <th>S1_CurrentFeedback</th>\n",
              "      <th>S1_DCBusVoltage</th>\n",
              "      <th>S1_OutputCurrent</th>\n",
              "      <th>S1_OutputVoltage</th>\n",
              "      <th>S1_OutputPower</th>\n",
              "      <th>S1_SystemInertia</th>\n",
              "      <th>M1_CURRENT_PROGRAM_NUMBER</th>\n",
              "      <th>M1_sequence_number</th>\n",
              "      <th>M1_CURRENT_FEEDRATE</th>\n",
              "      <th>Machining_Process</th>\n",
              "    </tr>\n",
              "  </thead>\n",
              "  <tbody>\n",
              "    <tr>\n",
              "      <th>0</th>\n",
              "      <td>0</td>\n",
              "      <td>unworn</td>\n",
              "      <td>20</td>\n",
              "      <td>4.0</td>\n",
              "      <td>198.0</td>\n",
              "      <td>0.0</td>\n",
              "      <td>0.0</td>\n",
              "      <td>198.0</td>\n",
              "      <td>0.0</td>\n",
              "      <td>0.0</td>\n",
              "      <td>-0.284</td>\n",
              "      <td>2.790000e-19</td>\n",
              "      <td>329.0</td>\n",
              "      <td>0.0</td>\n",
              "      <td>0.000000e+00</td>\n",
              "      <td>158.0</td>\n",
              "      <td>0.0</td>\n",
              "      <td>0.0</td>\n",
              "      <td>158.0</td>\n",
              "      <td>0.0</td>\n",
              "      <td>0.0</td>\n",
              "      <td>-0.0839</td>\n",
              "      <td>2.680000e-19</td>\n",
              "      <td>333.0</td>\n",
              "      <td>0.0</td>\n",
              "      <td>-1.470000e-06</td>\n",
              "      <td>119.0</td>\n",
              "      <td>0.000</td>\n",
              "      <td>0.00</td>\n",
              "      <td>119.0</td>\n",
              "      <td>0.0</td>\n",
              "      <td>0.0</td>\n",
              "      <td>0.0</td>\n",
              "      <td>0.0</td>\n",
              "      <td>0.0</td>\n",
              "      <td>0.0</td>\n",
              "      <td>-1160.0</td>\n",
              "      <td>0.00100</td>\n",
              "      <td>0.687</td>\n",
              "      <td>-1160.0</td>\n",
              "      <td>0.0</td>\n",
              "      <td>0.0</td>\n",
              "      <td>-1.860</td>\n",
              "      <td>0.000000e+00</td>\n",
              "      <td>332.0</td>\n",
              "      <td>0.0</td>\n",
              "      <td>0.000000e+00</td>\n",
              "      <td>12.0</td>\n",
              "      <td>1.0</td>\n",
              "      <td>2.0</td>\n",
              "      <td>50.0</td>\n",
              "      <td>Prep</td>\n",
              "    </tr>\n",
              "    <tr>\n",
              "      <th>1</th>\n",
              "      <td>1</td>\n",
              "      <td>unworn</td>\n",
              "      <td>20</td>\n",
              "      <td>4.0</td>\n",
              "      <td>198.0</td>\n",
              "      <td>0.0</td>\n",
              "      <td>0.0</td>\n",
              "      <td>198.0</td>\n",
              "      <td>0.0</td>\n",
              "      <td>0.0</td>\n",
              "      <td>-0.284</td>\n",
              "      <td>2.790000e-19</td>\n",
              "      <td>329.0</td>\n",
              "      <td>0.0</td>\n",
              "      <td>0.000000e+00</td>\n",
              "      <td>158.0</td>\n",
              "      <td>0.0</td>\n",
              "      <td>0.0</td>\n",
              "      <td>158.0</td>\n",
              "      <td>0.0</td>\n",
              "      <td>0.0</td>\n",
              "      <td>-0.0839</td>\n",
              "      <td>2.680000e-19</td>\n",
              "      <td>333.0</td>\n",
              "      <td>0.0</td>\n",
              "      <td>-1.470000e-06</td>\n",
              "      <td>119.0</td>\n",
              "      <td>0.000</td>\n",
              "      <td>0.00</td>\n",
              "      <td>119.0</td>\n",
              "      <td>0.0</td>\n",
              "      <td>0.0</td>\n",
              "      <td>0.0</td>\n",
              "      <td>0.0</td>\n",
              "      <td>0.0</td>\n",
              "      <td>0.0</td>\n",
              "      <td>-1160.0</td>\n",
              "      <td>0.00100</td>\n",
              "      <td>0.687</td>\n",
              "      <td>-1160.0</td>\n",
              "      <td>0.0</td>\n",
              "      <td>0.0</td>\n",
              "      <td>-1.860</td>\n",
              "      <td>0.000000e+00</td>\n",
              "      <td>332.0</td>\n",
              "      <td>0.0</td>\n",
              "      <td>0.000000e+00</td>\n",
              "      <td>12.0</td>\n",
              "      <td>0.0</td>\n",
              "      <td>0.0</td>\n",
              "      <td>50.0</td>\n",
              "      <td>Prep</td>\n",
              "    </tr>\n",
              "    <tr>\n",
              "      <th>2</th>\n",
              "      <td>2</td>\n",
              "      <td>unworn</td>\n",
              "      <td>20</td>\n",
              "      <td>4.0</td>\n",
              "      <td>198.0</td>\n",
              "      <td>0.0</td>\n",
              "      <td>0.0</td>\n",
              "      <td>198.0</td>\n",
              "      <td>0.0</td>\n",
              "      <td>0.0</td>\n",
              "      <td>1.170</td>\n",
              "      <td>2.780000e-19</td>\n",
              "      <td>325.0</td>\n",
              "      <td>0.0</td>\n",
              "      <td>9.160000e-07</td>\n",
              "      <td>158.0</td>\n",
              "      <td>0.0</td>\n",
              "      <td>0.0</td>\n",
              "      <td>158.0</td>\n",
              "      <td>0.0</td>\n",
              "      <td>0.0</td>\n",
              "      <td>-0.7090</td>\n",
              "      <td>2.690000e-19</td>\n",
              "      <td>327.0</td>\n",
              "      <td>0.0</td>\n",
              "      <td>6.770000e-07</td>\n",
              "      <td>119.0</td>\n",
              "      <td>0.000</td>\n",
              "      <td>0.00</td>\n",
              "      <td>119.0</td>\n",
              "      <td>0.0</td>\n",
              "      <td>0.0</td>\n",
              "      <td>0.0</td>\n",
              "      <td>0.0</td>\n",
              "      <td>0.0</td>\n",
              "      <td>0.0</td>\n",
              "      <td>905.0</td>\n",
              "      <td>0.00025</td>\n",
              "      <td>0.875</td>\n",
              "      <td>905.0</td>\n",
              "      <td>0.0</td>\n",
              "      <td>0.0</td>\n",
              "      <td>-0.176</td>\n",
              "      <td>2.780000e-19</td>\n",
              "      <td>324.0</td>\n",
              "      <td>0.0</td>\n",
              "      <td>-8.590000e-07</td>\n",
              "      <td>12.0</td>\n",
              "      <td>0.0</td>\n",
              "      <td>0.0</td>\n",
              "      <td>50.0</td>\n",
              "      <td>Prep</td>\n",
              "    </tr>\n",
              "    <tr>\n",
              "      <th>3</th>\n",
              "      <td>3</td>\n",
              "      <td>unworn</td>\n",
              "      <td>20</td>\n",
              "      <td>4.0</td>\n",
              "      <td>198.0</td>\n",
              "      <td>0.0</td>\n",
              "      <td>0.0</td>\n",
              "      <td>198.0</td>\n",
              "      <td>0.0</td>\n",
              "      <td>0.0</td>\n",
              "      <td>-0.230</td>\n",
              "      <td>2.790000e-19</td>\n",
              "      <td>329.0</td>\n",
              "      <td>0.0</td>\n",
              "      <td>-2.300000e-07</td>\n",
              "      <td>158.0</td>\n",
              "      <td>0.0</td>\n",
              "      <td>0.0</td>\n",
              "      <td>158.0</td>\n",
              "      <td>0.0</td>\n",
              "      <td>0.0</td>\n",
              "      <td>-1.3400</td>\n",
              "      <td>2.680000e-19</td>\n",
              "      <td>333.0</td>\n",
              "      <td>0.0</td>\n",
              "      <td>0.000000e+00</td>\n",
              "      <td>119.0</td>\n",
              "      <td>-0.025</td>\n",
              "      <td>-6.25</td>\n",
              "      <td>119.0</td>\n",
              "      <td>0.0</td>\n",
              "      <td>0.0</td>\n",
              "      <td>0.0</td>\n",
              "      <td>0.0</td>\n",
              "      <td>0.0</td>\n",
              "      <td>0.0</td>\n",
              "      <td>-1160.0</td>\n",
              "      <td>0.00075</td>\n",
              "      <td>0.188</td>\n",
              "      <td>-1160.0</td>\n",
              "      <td>0.0</td>\n",
              "      <td>0.0</td>\n",
              "      <td>-1.170</td>\n",
              "      <td>0.000000e+00</td>\n",
              "      <td>332.0</td>\n",
              "      <td>0.0</td>\n",
              "      <td>-6.290000e-06</td>\n",
              "      <td>12.0</td>\n",
              "      <td>4.0</td>\n",
              "      <td>0.0</td>\n",
              "      <td>50.0</td>\n",
              "      <td>Prep</td>\n",
              "    </tr>\n",
              "    <tr>\n",
              "      <th>4</th>\n",
              "      <td>4</td>\n",
              "      <td>unworn</td>\n",
              "      <td>20</td>\n",
              "      <td>4.0</td>\n",
              "      <td>198.0</td>\n",
              "      <td>0.0</td>\n",
              "      <td>0.0</td>\n",
              "      <td>198.0</td>\n",
              "      <td>0.0</td>\n",
              "      <td>0.0</td>\n",
              "      <td>-0.230</td>\n",
              "      <td>2.790000e-19</td>\n",
              "      <td>329.0</td>\n",
              "      <td>0.0</td>\n",
              "      <td>-2.300000e-07</td>\n",
              "      <td>158.0</td>\n",
              "      <td>0.0</td>\n",
              "      <td>0.0</td>\n",
              "      <td>158.0</td>\n",
              "      <td>0.0</td>\n",
              "      <td>0.0</td>\n",
              "      <td>-1.3400</td>\n",
              "      <td>2.680000e-19</td>\n",
              "      <td>333.0</td>\n",
              "      <td>0.0</td>\n",
              "      <td>0.000000e+00</td>\n",
              "      <td>119.0</td>\n",
              "      <td>-0.025</td>\n",
              "      <td>-6.25</td>\n",
              "      <td>119.0</td>\n",
              "      <td>0.0</td>\n",
              "      <td>0.0</td>\n",
              "      <td>0.0</td>\n",
              "      <td>0.0</td>\n",
              "      <td>0.0</td>\n",
              "      <td>0.0</td>\n",
              "      <td>-1160.0</td>\n",
              "      <td>0.00075</td>\n",
              "      <td>0.188</td>\n",
              "      <td>-1160.0</td>\n",
              "      <td>0.0</td>\n",
              "      <td>0.0</td>\n",
              "      <td>-1.170</td>\n",
              "      <td>0.000000e+00</td>\n",
              "      <td>332.0</td>\n",
              "      <td>0.0</td>\n",
              "      <td>-6.290000e-06</td>\n",
              "      <td>12.0</td>\n",
              "      <td>0.0</td>\n",
              "      <td>0.0</td>\n",
              "      <td>50.0</td>\n",
              "      <td>Prep</td>\n",
              "    </tr>\n",
              "  </tbody>\n",
              "</table>\n",
              "</div>"
            ],
            "text/plain": [
              "   Unnamed: 0 tool_condition  ...  M1_CURRENT_FEEDRATE  Machining_Process\n",
              "0           0         unworn  ...                 50.0               Prep\n",
              "1           1         unworn  ...                 50.0               Prep\n",
              "2           2         unworn  ...                 50.0               Prep\n",
              "3           3         unworn  ...                 50.0               Prep\n",
              "4           4         unworn  ...                 50.0               Prep\n",
              "\n",
              "[5 rows x 52 columns]"
            ]
          },
          "metadata": {
            "tags": []
          },
          "execution_count": 7
        }
      ]
    },
    {
      "cell_type": "code",
      "metadata": {
        "colab": {
          "base_uri": "https://localhost:8080/"
        },
        "id": "x3hW0XRHxQ21",
        "outputId": "f3316e8a-77d4-447f-9663-a7083cfd1648"
      },
      "source": [
        "print('測試集大小: ', df_test.shape)\n",
        "tool_df = df_test['tool_condition'].value_counts(normalize=True)\n",
        "print(tool_df)"
      ],
      "execution_count": 8,
      "outputs": [
        {
          "output_type": "stream",
          "text": [
            "測試集大小:  (7493, 52)\n",
            "unworn    0.526358\n",
            "worn      0.473642\n",
            "Name: tool_condition, dtype: float64\n"
          ],
          "name": "stdout"
        }
      ]
    },
    {
      "cell_type": "markdown",
      "metadata": {
        "id": "pKg-wuAnDvb4"
      },
      "source": [
        "### 準備  train_set/test_set"
      ]
    },
    {
      "cell_type": "code",
      "metadata": {
        "id": "3SpwC4lOxr7Y"
      },
      "source": [
        "# Train_set\n",
        "# 忽略第一二欄與最後一欄\n",
        "X_train = df_train.iloc[:, 2:-1]\n",
        "# 學習目標為第二攔\n",
        "y_train = df_train.iloc[:, 1]"
      ],
      "execution_count": 92,
      "outputs": []
    },
    {
      "cell_type": "code",
      "metadata": {
        "colab": {
          "base_uri": "https://localhost:8080/"
        },
        "id": "BJi-CNOzyJWl",
        "outputId": "29cdc812-cb6d-4494-fb36-c2011ecb09fb"
      },
      "source": [
        "print(X_train.shape)\n",
        "print(y_train.shape)"
      ],
      "execution_count": 93,
      "outputs": [
        {
          "output_type": "stream",
          "text": [
            "(17793, 49)\n",
            "(17793,)\n"
          ],
          "name": "stdout"
        }
      ]
    },
    {
      "cell_type": "code",
      "metadata": {
        "colab": {
          "base_uri": "https://localhost:8080/",
          "height": 226
        },
        "id": "BpSh_ObZyNvB",
        "outputId": "a6c665e0-bd2a-44c5-e8c3-c43009a8921f"
      },
      "source": [
        "X_train.head(5)"
      ],
      "execution_count": 94,
      "outputs": [
        {
          "output_type": "execute_result",
          "data": {
            "text/html": [
              "<div>\n",
              "<style scoped>\n",
              "    .dataframe tbody tr th:only-of-type {\n",
              "        vertical-align: middle;\n",
              "    }\n",
              "\n",
              "    .dataframe tbody tr th {\n",
              "        vertical-align: top;\n",
              "    }\n",
              "\n",
              "    .dataframe thead th {\n",
              "        text-align: right;\n",
              "    }\n",
              "</style>\n",
              "<table border=\"1\" class=\"dataframe\">\n",
              "  <thead>\n",
              "    <tr style=\"text-align: right;\">\n",
              "      <th></th>\n",
              "      <th>feedrate</th>\n",
              "      <th>clamp_pressure</th>\n",
              "      <th>X1_ActualPosition</th>\n",
              "      <th>X1_ActualVelocity</th>\n",
              "      <th>X1_ActualAcceleration</th>\n",
              "      <th>X1_CommandPosition</th>\n",
              "      <th>X1_CommandVelocity</th>\n",
              "      <th>X1_CommandAcceleration</th>\n",
              "      <th>X1_CurrentFeedback</th>\n",
              "      <th>X1_DCBusVoltage</th>\n",
              "      <th>X1_OutputCurrent</th>\n",
              "      <th>X1_OutputVoltage</th>\n",
              "      <th>X1_OutputPower</th>\n",
              "      <th>Y1_ActualPosition</th>\n",
              "      <th>Y1_ActualVelocity</th>\n",
              "      <th>Y1_ActualAcceleration</th>\n",
              "      <th>Y1_CommandPosition</th>\n",
              "      <th>Y1_CommandVelocity</th>\n",
              "      <th>Y1_CommandAcceleration</th>\n",
              "      <th>Y1_CurrentFeedback</th>\n",
              "      <th>Y1_DCBusVoltage</th>\n",
              "      <th>Y1_OutputCurrent</th>\n",
              "      <th>Y1_OutputVoltage</th>\n",
              "      <th>Y1_OutputPower</th>\n",
              "      <th>Z1_ActualPosition</th>\n",
              "      <th>Z1_ActualVelocity</th>\n",
              "      <th>Z1_ActualAcceleration</th>\n",
              "      <th>Z1_CommandPosition</th>\n",
              "      <th>Z1_CommandVelocity</th>\n",
              "      <th>Z1_CommandAcceleration</th>\n",
              "      <th>Z1_CurrentFeedback</th>\n",
              "      <th>Z1_DCBusVoltage</th>\n",
              "      <th>Z1_OutputCurrent</th>\n",
              "      <th>Z1_OutputVoltage</th>\n",
              "      <th>S1_ActualPosition</th>\n",
              "      <th>S1_ActualVelocity</th>\n",
              "      <th>S1_ActualAcceleration</th>\n",
              "      <th>S1_CommandPosition</th>\n",
              "      <th>S1_CommandVelocity</th>\n",
              "      <th>S1_CommandAcceleration</th>\n",
              "      <th>S1_CurrentFeedback</th>\n",
              "      <th>S1_DCBusVoltage</th>\n",
              "      <th>S1_OutputCurrent</th>\n",
              "      <th>S1_OutputVoltage</th>\n",
              "      <th>S1_OutputPower</th>\n",
              "      <th>S1_SystemInertia</th>\n",
              "      <th>M1_CURRENT_PROGRAM_NUMBER</th>\n",
              "      <th>M1_sequence_number</th>\n",
              "      <th>M1_CURRENT_FEEDRATE</th>\n",
              "    </tr>\n",
              "  </thead>\n",
              "  <tbody>\n",
              "    <tr>\n",
              "      <th>0</th>\n",
              "      <td>6</td>\n",
              "      <td>4.0</td>\n",
              "      <td>198.0</td>\n",
              "      <td>0.0</td>\n",
              "      <td>0.00</td>\n",
              "      <td>198.0</td>\n",
              "      <td>0.0</td>\n",
              "      <td>0.000000</td>\n",
              "      <td>0.18</td>\n",
              "      <td>0.0207</td>\n",
              "      <td>329.0</td>\n",
              "      <td>2.77</td>\n",
              "      <td>-0.000001</td>\n",
              "      <td>158.0</td>\n",
              "      <td>-0.025</td>\n",
              "      <td>-6.25</td>\n",
              "      <td>158.0</td>\n",
              "      <td>0.0</td>\n",
              "      <td>0.000000</td>\n",
              "      <td>0.539</td>\n",
              "      <td>0.0167</td>\n",
              "      <td>328.0</td>\n",
              "      <td>1.84</td>\n",
              "      <td>6.430000e-07</td>\n",
              "      <td>119.0</td>\n",
              "      <td>0.0</td>\n",
              "      <td>0.00</td>\n",
              "      <td>119.0</td>\n",
              "      <td>0.0</td>\n",
              "      <td>0.000000</td>\n",
              "      <td>0.0</td>\n",
              "      <td>0.0</td>\n",
              "      <td>0.0</td>\n",
              "      <td>0.0</td>\n",
              "      <td>-361.0</td>\n",
              "      <td>0.001</td>\n",
              "      <td>0.250</td>\n",
              "      <td>-361.0</td>\n",
              "      <td>0.0</td>\n",
              "      <td>0.0</td>\n",
              "      <td>0.524</td>\n",
              "      <td>2.740000e-19</td>\n",
              "      <td>329.0</td>\n",
              "      <td>0.0</td>\n",
              "      <td>6.960000e-07</td>\n",
              "      <td>12.0</td>\n",
              "      <td>1.0</td>\n",
              "      <td>0.0</td>\n",
              "      <td>50.0</td>\n",
              "    </tr>\n",
              "    <tr>\n",
              "      <th>1</th>\n",
              "      <td>6</td>\n",
              "      <td>4.0</td>\n",
              "      <td>198.0</td>\n",
              "      <td>-10.8</td>\n",
              "      <td>-350.00</td>\n",
              "      <td>198.0</td>\n",
              "      <td>-13.6</td>\n",
              "      <td>-358.000000</td>\n",
              "      <td>-10.90</td>\n",
              "      <td>0.1860</td>\n",
              "      <td>328.0</td>\n",
              "      <td>23.30</td>\n",
              "      <td>0.004480</td>\n",
              "      <td>158.0</td>\n",
              "      <td>-19.800</td>\n",
              "      <td>-750.00</td>\n",
              "      <td>157.0</td>\n",
              "      <td>-24.6</td>\n",
              "      <td>-647.000000</td>\n",
              "      <td>-14.500</td>\n",
              "      <td>0.2810</td>\n",
              "      <td>325.0</td>\n",
              "      <td>37.80</td>\n",
              "      <td>1.260000e-02</td>\n",
              "      <td>119.0</td>\n",
              "      <td>-20.3</td>\n",
              "      <td>-712.00</td>\n",
              "      <td>118.0</td>\n",
              "      <td>-25.6</td>\n",
              "      <td>-674.000000</td>\n",
              "      <td>0.0</td>\n",
              "      <td>0.0</td>\n",
              "      <td>0.0</td>\n",
              "      <td>0.0</td>\n",
              "      <td>-361.0</td>\n",
              "      <td>0.000</td>\n",
              "      <td>0.250</td>\n",
              "      <td>-361.0</td>\n",
              "      <td>0.0</td>\n",
              "      <td>0.0</td>\n",
              "      <td>-0.288</td>\n",
              "      <td>2.740000e-19</td>\n",
              "      <td>328.0</td>\n",
              "      <td>0.0</td>\n",
              "      <td>-5.270000e-07</td>\n",
              "      <td>12.0</td>\n",
              "      <td>1.0</td>\n",
              "      <td>4.0</td>\n",
              "      <td>50.0</td>\n",
              "    </tr>\n",
              "    <tr>\n",
              "      <th>2</th>\n",
              "      <td>6</td>\n",
              "      <td>4.0</td>\n",
              "      <td>196.0</td>\n",
              "      <td>-17.8</td>\n",
              "      <td>-6.25</td>\n",
              "      <td>196.0</td>\n",
              "      <td>-17.9</td>\n",
              "      <td>-0.000095</td>\n",
              "      <td>-8.59</td>\n",
              "      <td>0.1400</td>\n",
              "      <td>328.0</td>\n",
              "      <td>30.60</td>\n",
              "      <td>0.005330</td>\n",
              "      <td>154.0</td>\n",
              "      <td>-32.500</td>\n",
              "      <td>0.00</td>\n",
              "      <td>154.0</td>\n",
              "      <td>-32.3</td>\n",
              "      <td>-0.000095</td>\n",
              "      <td>-7.790</td>\n",
              "      <td>0.1390</td>\n",
              "      <td>327.0</td>\n",
              "      <td>49.40</td>\n",
              "      <td>9.430000e-03</td>\n",
              "      <td>115.0</td>\n",
              "      <td>-33.7</td>\n",
              "      <td>37.50</td>\n",
              "      <td>115.0</td>\n",
              "      <td>-33.7</td>\n",
              "      <td>-0.000095</td>\n",
              "      <td>0.0</td>\n",
              "      <td>0.0</td>\n",
              "      <td>0.0</td>\n",
              "      <td>0.0</td>\n",
              "      <td>-361.0</td>\n",
              "      <td>0.000</td>\n",
              "      <td>-0.438</td>\n",
              "      <td>-361.0</td>\n",
              "      <td>0.0</td>\n",
              "      <td>0.0</td>\n",
              "      <td>0.524</td>\n",
              "      <td>2.740000e-19</td>\n",
              "      <td>328.0</td>\n",
              "      <td>0.0</td>\n",
              "      <td>9.100000e-07</td>\n",
              "      <td>12.0</td>\n",
              "      <td>1.0</td>\n",
              "      <td>7.0</td>\n",
              "      <td>50.0</td>\n",
              "    </tr>\n",
              "    <tr>\n",
              "      <th>3</th>\n",
              "      <td>6</td>\n",
              "      <td>4.0</td>\n",
              "      <td>194.0</td>\n",
              "      <td>-18.0</td>\n",
              "      <td>0.00</td>\n",
              "      <td>194.0</td>\n",
              "      <td>-17.9</td>\n",
              "      <td>-0.000095</td>\n",
              "      <td>-6.11</td>\n",
              "      <td>0.1300</td>\n",
              "      <td>327.0</td>\n",
              "      <td>30.30</td>\n",
              "      <td>0.004890</td>\n",
              "      <td>151.0</td>\n",
              "      <td>-32.600</td>\n",
              "      <td>-62.50</td>\n",
              "      <td>151.0</td>\n",
              "      <td>-32.3</td>\n",
              "      <td>-0.000095</td>\n",
              "      <td>-8.130</td>\n",
              "      <td>0.1560</td>\n",
              "      <td>325.0</td>\n",
              "      <td>47.60</td>\n",
              "      <td>1.050000e-02</td>\n",
              "      <td>112.0</td>\n",
              "      <td>-33.7</td>\n",
              "      <td>-6.25</td>\n",
              "      <td>112.0</td>\n",
              "      <td>-33.7</td>\n",
              "      <td>0.000000</td>\n",
              "      <td>0.0</td>\n",
              "      <td>0.0</td>\n",
              "      <td>0.0</td>\n",
              "      <td>0.0</td>\n",
              "      <td>-361.0</td>\n",
              "      <td>-0.001</td>\n",
              "      <td>-0.250</td>\n",
              "      <td>-361.0</td>\n",
              "      <td>0.0</td>\n",
              "      <td>0.0</td>\n",
              "      <td>-0.180</td>\n",
              "      <td>2.740000e-19</td>\n",
              "      <td>328.0</td>\n",
              "      <td>0.0</td>\n",
              "      <td>1.070000e-06</td>\n",
              "      <td>12.0</td>\n",
              "      <td>1.0</td>\n",
              "      <td>7.0</td>\n",
              "      <td>50.0</td>\n",
              "    </tr>\n",
              "    <tr>\n",
              "      <th>4</th>\n",
              "      <td>6</td>\n",
              "      <td>4.0</td>\n",
              "      <td>193.0</td>\n",
              "      <td>-17.9</td>\n",
              "      <td>-18.80</td>\n",
              "      <td>192.0</td>\n",
              "      <td>-17.9</td>\n",
              "      <td>0.000095</td>\n",
              "      <td>-5.70</td>\n",
              "      <td>0.1140</td>\n",
              "      <td>328.0</td>\n",
              "      <td>30.50</td>\n",
              "      <td>0.004250</td>\n",
              "      <td>148.0</td>\n",
              "      <td>-32.000</td>\n",
              "      <td>138.00</td>\n",
              "      <td>148.0</td>\n",
              "      <td>-32.3</td>\n",
              "      <td>0.000095</td>\n",
              "      <td>-13.800</td>\n",
              "      <td>0.2020</td>\n",
              "      <td>326.0</td>\n",
              "      <td>47.10</td>\n",
              "      <td>1.350000e-02</td>\n",
              "      <td>109.0</td>\n",
              "      <td>-33.6</td>\n",
              "      <td>18.80</td>\n",
              "      <td>108.0</td>\n",
              "      <td>-33.7</td>\n",
              "      <td>0.000000</td>\n",
              "      <td>0.0</td>\n",
              "      <td>0.0</td>\n",
              "      <td>0.0</td>\n",
              "      <td>0.0</td>\n",
              "      <td>-361.0</td>\n",
              "      <td>0.000</td>\n",
              "      <td>-0.188</td>\n",
              "      <td>-361.0</td>\n",
              "      <td>0.0</td>\n",
              "      <td>0.0</td>\n",
              "      <td>0.226</td>\n",
              "      <td>2.740000e-19</td>\n",
              "      <td>328.0</td>\n",
              "      <td>0.0</td>\n",
              "      <td>1.960000e-06</td>\n",
              "      <td>12.0</td>\n",
              "      <td>1.0</td>\n",
              "      <td>7.0</td>\n",
              "      <td>50.0</td>\n",
              "    </tr>\n",
              "  </tbody>\n",
              "</table>\n",
              "</div>"
            ],
            "text/plain": [
              "   feedrate  clamp_pressure  ...  M1_sequence_number  M1_CURRENT_FEEDRATE\n",
              "0         6             4.0  ...                 0.0                 50.0\n",
              "1         6             4.0  ...                 4.0                 50.0\n",
              "2         6             4.0  ...                 7.0                 50.0\n",
              "3         6             4.0  ...                 7.0                 50.0\n",
              "4         6             4.0  ...                 7.0                 50.0\n",
              "\n",
              "[5 rows x 49 columns]"
            ]
          },
          "metadata": {
            "tags": []
          },
          "execution_count": 94
        }
      ]
    },
    {
      "cell_type": "code",
      "metadata": {
        "id": "Abx_zyPM277V"
      },
      "source": [
        "# Test_set\n",
        "# 忽略第一二欄與最後一欄\n",
        "# 學習目標為第二攔\n",
        "X_test = df_test.iloc[:, 2:-1]\n",
        "y_test = df_test.iloc[:, 1]"
      ],
      "execution_count": 95,
      "outputs": []
    },
    {
      "cell_type": "code",
      "metadata": {
        "id": "j2BpISr-3Zc1",
        "colab": {
          "base_uri": "https://localhost:8080/"
        },
        "outputId": "a354aa93-8545-4c4b-ef3b-712191eb208a"
      },
      "source": [
        "print(X_test.shape)\n",
        "print(y_test.shape)"
      ],
      "execution_count": 96,
      "outputs": [
        {
          "output_type": "stream",
          "text": [
            "(7493, 49)\n",
            "(7493,)\n"
          ],
          "name": "stdout"
        }
      ]
    },
    {
      "cell_type": "markdown",
      "metadata": {
        "id": "_TyOUBcpzsnE"
      },
      "source": [
        "### 正規化"
      ]
    },
    {
      "cell_type": "markdown",
      "metadata": {
        "id": "Kj16BWNX0fNY"
      },
      "source": [
        "* 輸入 X 轉成 Numpy Array "
      ]
    },
    {
      "cell_type": "code",
      "metadata": {
        "colab": {
          "base_uri": "https://localhost:8080/"
        },
        "id": "5RagGxnkCYWF",
        "outputId": "f12162fa-9eb9-4da5-b8d3-f8a6bc0a8bf9"
      },
      "source": [
        "X_train = np.array(X_train).astype(float)\n",
        "X_test = np.array(X_test).astype(float)\n",
        "print(f\"X_train shape: {X_train.shape}\")\n",
        "print(f\"X_test shape: {X_test.shape}\")"
      ],
      "execution_count": 98,
      "outputs": [
        {
          "output_type": "stream",
          "text": [
            "X_train shape: (17793, 49)\n",
            "X_test shape: (7493, 49)\n"
          ],
          "name": "stdout"
        }
      ]
    },
    {
      "cell_type": "code",
      "metadata": {
        "colab": {
          "base_uri": "https://localhost:8080/",
          "height": 404
        },
        "id": "s9-Q18G0YFAf",
        "outputId": "165c0ff9-f2f1-4fb1-a524-008d75353cc8"
      },
      "source": [
        "# normalize\n",
        "from sklearn import preprocessing\n",
        "quantile_transformer = preprocessing.QuantileTransformer(random_state=17)\n",
        "X_train = quantile_transformer.fit_transform(X_train)\n",
        "X_test = quantile_transformer.fit_transform(X_test)\n",
        "X_train = np.expand_dims(X_train, axis=2)\n",
        "X_test = np.expand_dims(X_test, axis=2)\n",
        "print(f\"X_train shape: {X_train.shape}\")\n",
        "print(f\"X_test shape: {X_test.shape}\")"
      ],
      "execution_count": 100,
      "outputs": [
        {
          "output_type": "error",
          "ename": "ValueError",
          "evalue": "ignored",
          "traceback": [
            "\u001b[0;31m---------------------------------------------------------------------------\u001b[0m",
            "\u001b[0;31mValueError\u001b[0m                                Traceback (most recent call last)",
            "\u001b[0;32m<ipython-input-100-63653c4143b0>\u001b[0m in \u001b[0;36m<module>\u001b[0;34m()\u001b[0m\n\u001b[1;32m      2\u001b[0m \u001b[0;32mfrom\u001b[0m \u001b[0msklearn\u001b[0m \u001b[0;32mimport\u001b[0m \u001b[0mpreprocessing\u001b[0m\u001b[0;34m\u001b[0m\u001b[0;34m\u001b[0m\u001b[0m\n\u001b[1;32m      3\u001b[0m \u001b[0mquantile_transformer\u001b[0m \u001b[0;34m=\u001b[0m \u001b[0mpreprocessing\u001b[0m\u001b[0;34m.\u001b[0m\u001b[0mQuantileTransformer\u001b[0m\u001b[0;34m(\u001b[0m\u001b[0mrandom_state\u001b[0m\u001b[0;34m=\u001b[0m\u001b[0;36m17\u001b[0m\u001b[0;34m)\u001b[0m\u001b[0;34m\u001b[0m\u001b[0;34m\u001b[0m\u001b[0m\n\u001b[0;32m----> 4\u001b[0;31m \u001b[0mX_train\u001b[0m \u001b[0;34m=\u001b[0m \u001b[0mquantile_transformer\u001b[0m\u001b[0;34m.\u001b[0m\u001b[0mfit_transform\u001b[0m\u001b[0;34m(\u001b[0m\u001b[0mX_train\u001b[0m\u001b[0;34m)\u001b[0m\u001b[0;34m\u001b[0m\u001b[0;34m\u001b[0m\u001b[0m\n\u001b[0m\u001b[1;32m      5\u001b[0m \u001b[0mX_test\u001b[0m \u001b[0;34m=\u001b[0m \u001b[0mquantile_transformer\u001b[0m\u001b[0;34m.\u001b[0m\u001b[0mfit_transform\u001b[0m\u001b[0;34m(\u001b[0m\u001b[0mX_test\u001b[0m\u001b[0;34m)\u001b[0m\u001b[0;34m\u001b[0m\u001b[0;34m\u001b[0m\u001b[0m\n\u001b[1;32m      6\u001b[0m \u001b[0mX_train\u001b[0m \u001b[0;34m=\u001b[0m \u001b[0mnp\u001b[0m\u001b[0;34m.\u001b[0m\u001b[0mexpand_dims\u001b[0m\u001b[0;34m(\u001b[0m\u001b[0mX_train\u001b[0m\u001b[0;34m,\u001b[0m \u001b[0maxis\u001b[0m\u001b[0;34m=\u001b[0m\u001b[0;36m2\u001b[0m\u001b[0;34m)\u001b[0m\u001b[0;34m\u001b[0m\u001b[0;34m\u001b[0m\u001b[0m\n",
            "\u001b[0;32m/usr/local/lib/python3.6/dist-packages/sklearn/base.py\u001b[0m in \u001b[0;36mfit_transform\u001b[0;34m(self, X, y, **fit_params)\u001b[0m\n\u001b[1;32m    569\u001b[0m         \u001b[0;32mif\u001b[0m \u001b[0my\u001b[0m \u001b[0;32mis\u001b[0m \u001b[0;32mNone\u001b[0m\u001b[0;34m:\u001b[0m\u001b[0;34m\u001b[0m\u001b[0;34m\u001b[0m\u001b[0m\n\u001b[1;32m    570\u001b[0m             \u001b[0;31m# fit method of arity 1 (unsupervised transformation)\u001b[0m\u001b[0;34m\u001b[0m\u001b[0;34m\u001b[0m\u001b[0;34m\u001b[0m\u001b[0m\n\u001b[0;32m--> 571\u001b[0;31m             \u001b[0;32mreturn\u001b[0m \u001b[0mself\u001b[0m\u001b[0;34m.\u001b[0m\u001b[0mfit\u001b[0m\u001b[0;34m(\u001b[0m\u001b[0mX\u001b[0m\u001b[0;34m,\u001b[0m \u001b[0;34m**\u001b[0m\u001b[0mfit_params\u001b[0m\u001b[0;34m)\u001b[0m\u001b[0;34m.\u001b[0m\u001b[0mtransform\u001b[0m\u001b[0;34m(\u001b[0m\u001b[0mX\u001b[0m\u001b[0;34m)\u001b[0m\u001b[0;34m\u001b[0m\u001b[0;34m\u001b[0m\u001b[0m\n\u001b[0m\u001b[1;32m    572\u001b[0m         \u001b[0;32melse\u001b[0m\u001b[0;34m:\u001b[0m\u001b[0;34m\u001b[0m\u001b[0;34m\u001b[0m\u001b[0m\n\u001b[1;32m    573\u001b[0m             \u001b[0;31m# fit method of arity 2 (supervised transformation)\u001b[0m\u001b[0;34m\u001b[0m\u001b[0;34m\u001b[0m\u001b[0;34m\u001b[0m\u001b[0m\n",
            "\u001b[0;32m/usr/local/lib/python3.6/dist-packages/sklearn/preprocessing/_data.py\u001b[0m in \u001b[0;36mfit\u001b[0;34m(self, X, y)\u001b[0m\n\u001b[1;32m   2348\u001b[0m                                                        self.subsample))\n\u001b[1;32m   2349\u001b[0m \u001b[0;34m\u001b[0m\u001b[0m\n\u001b[0;32m-> 2350\u001b[0;31m         \u001b[0mX\u001b[0m \u001b[0;34m=\u001b[0m \u001b[0mself\u001b[0m\u001b[0;34m.\u001b[0m\u001b[0m_check_inputs\u001b[0m\u001b[0;34m(\u001b[0m\u001b[0mX\u001b[0m\u001b[0;34m,\u001b[0m \u001b[0mcopy\u001b[0m\u001b[0;34m=\u001b[0m\u001b[0;32mFalse\u001b[0m\u001b[0;34m)\u001b[0m\u001b[0;34m\u001b[0m\u001b[0;34m\u001b[0m\u001b[0m\n\u001b[0m\u001b[1;32m   2351\u001b[0m         \u001b[0mn_samples\u001b[0m \u001b[0;34m=\u001b[0m \u001b[0mX\u001b[0m\u001b[0;34m.\u001b[0m\u001b[0mshape\u001b[0m\u001b[0;34m[\u001b[0m\u001b[0;36m0\u001b[0m\u001b[0;34m]\u001b[0m\u001b[0;34m\u001b[0m\u001b[0;34m\u001b[0m\u001b[0m\n\u001b[1;32m   2352\u001b[0m \u001b[0;34m\u001b[0m\u001b[0m\n",
            "\u001b[0;32m/usr/local/lib/python3.6/dist-packages/sklearn/preprocessing/_data.py\u001b[0m in \u001b[0;36m_check_inputs\u001b[0;34m(self, X, accept_sparse_negative, copy)\u001b[0m\n\u001b[1;32m   2443\u001b[0m         X = check_array(X, accept_sparse='csc', copy=copy,\n\u001b[1;32m   2444\u001b[0m                         \u001b[0mdtype\u001b[0m\u001b[0;34m=\u001b[0m\u001b[0mFLOAT_DTYPES\u001b[0m\u001b[0;34m,\u001b[0m\u001b[0;34m\u001b[0m\u001b[0;34m\u001b[0m\u001b[0m\n\u001b[0;32m-> 2445\u001b[0;31m                         force_all_finite='allow-nan')\n\u001b[0m\u001b[1;32m   2446\u001b[0m         \u001b[0;31m# we only accept positive sparse matrix when ignore_implicit_zeros is\u001b[0m\u001b[0;34m\u001b[0m\u001b[0;34m\u001b[0m\u001b[0;34m\u001b[0m\u001b[0m\n\u001b[1;32m   2447\u001b[0m         \u001b[0;31m# false and that we call fit or transform.\u001b[0m\u001b[0;34m\u001b[0m\u001b[0;34m\u001b[0m\u001b[0;34m\u001b[0m\u001b[0m\n",
            "\u001b[0;32m/usr/local/lib/python3.6/dist-packages/sklearn/utils/validation.py\u001b[0m in \u001b[0;36mcheck_array\u001b[0;34m(array, accept_sparse, accept_large_sparse, dtype, order, copy, force_all_finite, ensure_2d, allow_nd, ensure_min_samples, ensure_min_features, warn_on_dtype, estimator)\u001b[0m\n\u001b[1;32m    572\u001b[0m         \u001b[0;32mif\u001b[0m \u001b[0;32mnot\u001b[0m \u001b[0mallow_nd\u001b[0m \u001b[0;32mand\u001b[0m \u001b[0marray\u001b[0m\u001b[0;34m.\u001b[0m\u001b[0mndim\u001b[0m \u001b[0;34m>=\u001b[0m \u001b[0;36m3\u001b[0m\u001b[0;34m:\u001b[0m\u001b[0;34m\u001b[0m\u001b[0;34m\u001b[0m\u001b[0m\n\u001b[1;32m    573\u001b[0m             raise ValueError(\"Found array with dim %d. %s expected <= 2.\"\n\u001b[0;32m--> 574\u001b[0;31m                              % (array.ndim, estimator_name))\n\u001b[0m\u001b[1;32m    575\u001b[0m \u001b[0;34m\u001b[0m\u001b[0m\n\u001b[1;32m    576\u001b[0m         \u001b[0;32mif\u001b[0m \u001b[0mforce_all_finite\u001b[0m\u001b[0;34m:\u001b[0m\u001b[0;34m\u001b[0m\u001b[0;34m\u001b[0m\u001b[0m\n",
            "\u001b[0;31mValueError\u001b[0m: Found array with dim 3. Estimator expected <= 2."
          ]
        }
      ]
    },
    {
      "cell_type": "markdown",
      "metadata": {
        "id": "c2xWQuOy_3EM"
      },
      "source": [
        "* 目標 y 轉成 Numpy Array "
      ]
    },
    {
      "cell_type": "code",
      "metadata": {
        "id": "YHpIiB6eHxjw",
        "colab": {
          "base_uri": "https://localhost:8080/"
        },
        "outputId": "1b93305c-3341-409b-aa1c-649622876336"
      },
      "source": [
        "le = LabelEncoder()\n",
        "le.fit(y_train)\n",
        "print('label class: ',le.classes_)\n",
        "\n",
        "y_train = le.transform(y_train)\n",
        "y_test = le.transform(y_test)"
      ],
      "execution_count": 101,
      "outputs": [
        {
          "output_type": "stream",
          "text": [
            "label class:  ['unworn' 'worn']\n"
          ],
          "name": "stdout"
        }
      ]
    },
    {
      "cell_type": "code",
      "metadata": {
        "colab": {
          "base_uri": "https://localhost:8080/"
        },
        "id": "_a-avIx8zqcg",
        "outputId": "950d954c-7b14-43e2-81e8-8d50cbcc3dfa"
      },
      "source": [
        "y_train = np.array(y_train).astype(float).reshape(-1,1)\n",
        "print(f\"y_train shape: {y_train.shape}\")\n",
        "y_test = np.array(y_test).astype(float).reshape(-1,1)\n",
        "print(f\"y_test shape: {y_test.shape}\")"
      ],
      "execution_count": 102,
      "outputs": [
        {
          "output_type": "stream",
          "text": [
            "y_train shape: (17793, 1)\n",
            "y_test shape: (7493, 1)\n"
          ],
          "name": "stdout"
        }
      ]
    },
    {
      "cell_type": "code",
      "metadata": {
        "id": "pkB_9z4PTk3p"
      },
      "source": [
        "from sklearn.utils import shuffle\n",
        "X_train, y_train = shuffle(X_train, y_train, random_state=17)"
      ],
      "execution_count": 103,
      "outputs": []
    },
    {
      "cell_type": "markdown",
      "metadata": {
        "id": "bsrpjHUfEM5U"
      },
      "source": [
        "### 模型超參數"
      ]
    },
    {
      "cell_type": "code",
      "metadata": {
        "id": "zhFuzu5pEHOc"
      },
      "source": [
        "max_features = 500\n",
        "maxlen = X_train.shape[1]\n",
        "# maxlen = 20\n",
        "batch_size = 32"
      ],
      "execution_count": 105,
      "outputs": []
    },
    {
      "cell_type": "markdown",
      "metadata": {
        "id": "Tb1G7kLPAJ4H"
      },
      "source": [
        "## 設計 TCN (Temporal Convolutional Network) 模型"
      ]
    },
    {
      "cell_type": "code",
      "metadata": {
        "colab": {
          "base_uri": "https://localhost:8080/"
        },
        "id": "cuOt-1XPTtN9",
        "outputId": "a7fea6e3-af03-4bfa-e5f1-93d47e330d13"
      },
      "source": [
        "from tcn import compiled_tcn\n",
        "model = compiled_tcn(return_sequences=False,\n",
        "                         num_feat=1,\n",
        "                         num_classes=1,\n",
        "                         nb_filters=10,\n",
        "                         kernel_size=10,\n",
        "                         dilations=[1, 2, 4, 8, 16, 32],\n",
        "                         nb_stacks=5,\n",
        "                         max_len=X_train[0:1].shape[1],\n",
        "                         use_skip_connections=True)\n",
        "model.summary()"
      ],
      "execution_count": 106,
      "outputs": [
        {
          "output_type": "stream",
          "text": [
            "x.shape= (None, 10)\n",
            "model.x = (None, 49, 1)\n",
            "model.y = (None, 1)\n",
            "Model: \"functional_27\"\n",
            "_________________________________________________________________\n",
            "Layer (type)                 Output Shape              Param #   \n",
            "=================================================================\n",
            "input_14 (InputLayer)        [(None, 49, 1)]           0         \n",
            "_________________________________________________________________\n",
            "tcn (TCN)                    (None, 10)                59720     \n",
            "_________________________________________________________________\n",
            "dense_13 (Dense)             (None, 1)                 11        \n",
            "_________________________________________________________________\n",
            "activation_11 (Activation)   (None, 1)                 0         \n",
            "=================================================================\n",
            "Total params: 59,731\n",
            "Trainable params: 59,731\n",
            "Non-trainable params: 0\n",
            "_________________________________________________________________\n"
          ],
          "name": "stdout"
        }
      ]
    },
    {
      "cell_type": "markdown",
      "metadata": {
        "id": "VmXtAyy3Y_kT"
      },
      "source": [
        "## 模型訓練"
      ]
    },
    {
      "cell_type": "code",
      "metadata": {
        "colab": {
          "base_uri": "https://localhost:8080/",
          "height": 387
        },
        "id": "yNh3BKV5T-El",
        "outputId": "b2f6fc6e-db84-49ad-8d97-7aab44da555c"
      },
      "source": [
        "history = model.fit(X_train, y_train, epochs=15)"
      ],
      "execution_count": 110,
      "outputs": [
        {
          "output_type": "stream",
          "text": [
            "Epoch 1/15\n",
            "557/557 [==============================] - 18s 32ms/step - loss: nan - accuracy: 0.5485\n",
            "Epoch 2/15\n",
            "135/557 [======>.......................] - ETA: 12s - loss: nan - accuracy: 0.5431"
          ],
          "name": "stdout"
        },
        {
          "output_type": "error",
          "ename": "KeyboardInterrupt",
          "evalue": "ignored",
          "traceback": [
            "\u001b[0;31m---------------------------------------------------------------------------\u001b[0m",
            "\u001b[0;31mKeyboardInterrupt\u001b[0m                         Traceback (most recent call last)",
            "\u001b[0;32m<ipython-input-110-47a30cad7cfd>\u001b[0m in \u001b[0;36m<module>\u001b[0;34m()\u001b[0m\n\u001b[0;32m----> 1\u001b[0;31m \u001b[0mhistory\u001b[0m \u001b[0;34m=\u001b[0m \u001b[0mmodel\u001b[0m\u001b[0;34m.\u001b[0m\u001b[0mfit\u001b[0m\u001b[0;34m(\u001b[0m\u001b[0mX_train\u001b[0m\u001b[0;34m,\u001b[0m \u001b[0;36m1\u001b[0m\u001b[0;34m-\u001b[0m\u001b[0my_train\u001b[0m\u001b[0;34m,\u001b[0m \u001b[0mepochs\u001b[0m\u001b[0;34m=\u001b[0m\u001b[0;36m15\u001b[0m\u001b[0;34m)\u001b[0m\u001b[0;34m\u001b[0m\u001b[0;34m\u001b[0m\u001b[0m\n\u001b[0m",
            "\u001b[0;32m/usr/local/lib/python3.6/dist-packages/tensorflow/python/keras/engine/training.py\u001b[0m in \u001b[0;36m_method_wrapper\u001b[0;34m(self, *args, **kwargs)\u001b[0m\n\u001b[1;32m    106\u001b[0m   \u001b[0;32mdef\u001b[0m \u001b[0m_method_wrapper\u001b[0m\u001b[0;34m(\u001b[0m\u001b[0mself\u001b[0m\u001b[0;34m,\u001b[0m \u001b[0;34m*\u001b[0m\u001b[0margs\u001b[0m\u001b[0;34m,\u001b[0m \u001b[0;34m**\u001b[0m\u001b[0mkwargs\u001b[0m\u001b[0;34m)\u001b[0m\u001b[0;34m:\u001b[0m\u001b[0;34m\u001b[0m\u001b[0;34m\u001b[0m\u001b[0m\n\u001b[1;32m    107\u001b[0m     \u001b[0;32mif\u001b[0m \u001b[0;32mnot\u001b[0m \u001b[0mself\u001b[0m\u001b[0;34m.\u001b[0m\u001b[0m_in_multi_worker_mode\u001b[0m\u001b[0;34m(\u001b[0m\u001b[0;34m)\u001b[0m\u001b[0;34m:\u001b[0m  \u001b[0;31m# pylint: disable=protected-access\u001b[0m\u001b[0;34m\u001b[0m\u001b[0;34m\u001b[0m\u001b[0m\n\u001b[0;32m--> 108\u001b[0;31m       \u001b[0;32mreturn\u001b[0m \u001b[0mmethod\u001b[0m\u001b[0;34m(\u001b[0m\u001b[0mself\u001b[0m\u001b[0;34m,\u001b[0m \u001b[0;34m*\u001b[0m\u001b[0margs\u001b[0m\u001b[0;34m,\u001b[0m \u001b[0;34m**\u001b[0m\u001b[0mkwargs\u001b[0m\u001b[0;34m)\u001b[0m\u001b[0;34m\u001b[0m\u001b[0;34m\u001b[0m\u001b[0m\n\u001b[0m\u001b[1;32m    109\u001b[0m \u001b[0;34m\u001b[0m\u001b[0m\n\u001b[1;32m    110\u001b[0m     \u001b[0;31m# Running inside `run_distribute_coordinator` already.\u001b[0m\u001b[0;34m\u001b[0m\u001b[0;34m\u001b[0m\u001b[0;34m\u001b[0m\u001b[0m\n",
            "\u001b[0;32m/usr/local/lib/python3.6/dist-packages/tensorflow/python/keras/engine/training.py\u001b[0m in \u001b[0;36mfit\u001b[0;34m(self, x, y, batch_size, epochs, verbose, callbacks, validation_split, validation_data, shuffle, class_weight, sample_weight, initial_epoch, steps_per_epoch, validation_steps, validation_batch_size, validation_freq, max_queue_size, workers, use_multiprocessing)\u001b[0m\n\u001b[1;32m   1096\u001b[0m                 batch_size=batch_size):\n\u001b[1;32m   1097\u001b[0m               \u001b[0mcallbacks\u001b[0m\u001b[0;34m.\u001b[0m\u001b[0mon_train_batch_begin\u001b[0m\u001b[0;34m(\u001b[0m\u001b[0mstep\u001b[0m\u001b[0;34m)\u001b[0m\u001b[0;34m\u001b[0m\u001b[0;34m\u001b[0m\u001b[0m\n\u001b[0;32m-> 1098\u001b[0;31m               \u001b[0mtmp_logs\u001b[0m \u001b[0;34m=\u001b[0m \u001b[0mtrain_function\u001b[0m\u001b[0;34m(\u001b[0m\u001b[0miterator\u001b[0m\u001b[0;34m)\u001b[0m\u001b[0;34m\u001b[0m\u001b[0;34m\u001b[0m\u001b[0m\n\u001b[0m\u001b[1;32m   1099\u001b[0m               \u001b[0;32mif\u001b[0m \u001b[0mdata_handler\u001b[0m\u001b[0;34m.\u001b[0m\u001b[0mshould_sync\u001b[0m\u001b[0;34m:\u001b[0m\u001b[0;34m\u001b[0m\u001b[0;34m\u001b[0m\u001b[0m\n\u001b[1;32m   1100\u001b[0m                 \u001b[0mcontext\u001b[0m\u001b[0;34m.\u001b[0m\u001b[0masync_wait\u001b[0m\u001b[0;34m(\u001b[0m\u001b[0;34m)\u001b[0m\u001b[0;34m\u001b[0m\u001b[0;34m\u001b[0m\u001b[0m\n",
            "\u001b[0;32m/usr/local/lib/python3.6/dist-packages/tensorflow/python/eager/def_function.py\u001b[0m in \u001b[0;36m__call__\u001b[0;34m(self, *args, **kwds)\u001b[0m\n\u001b[1;32m    778\u001b[0m       \u001b[0;32melse\u001b[0m\u001b[0;34m:\u001b[0m\u001b[0;34m\u001b[0m\u001b[0;34m\u001b[0m\u001b[0m\n\u001b[1;32m    779\u001b[0m         \u001b[0mcompiler\u001b[0m \u001b[0;34m=\u001b[0m \u001b[0;34m\"nonXla\"\u001b[0m\u001b[0;34m\u001b[0m\u001b[0;34m\u001b[0m\u001b[0m\n\u001b[0;32m--> 780\u001b[0;31m         \u001b[0mresult\u001b[0m \u001b[0;34m=\u001b[0m \u001b[0mself\u001b[0m\u001b[0;34m.\u001b[0m\u001b[0m_call\u001b[0m\u001b[0;34m(\u001b[0m\u001b[0;34m*\u001b[0m\u001b[0margs\u001b[0m\u001b[0;34m,\u001b[0m \u001b[0;34m**\u001b[0m\u001b[0mkwds\u001b[0m\u001b[0;34m)\u001b[0m\u001b[0;34m\u001b[0m\u001b[0;34m\u001b[0m\u001b[0m\n\u001b[0m\u001b[1;32m    781\u001b[0m \u001b[0;34m\u001b[0m\u001b[0m\n\u001b[1;32m    782\u001b[0m       \u001b[0mnew_tracing_count\u001b[0m \u001b[0;34m=\u001b[0m \u001b[0mself\u001b[0m\u001b[0;34m.\u001b[0m\u001b[0m_get_tracing_count\u001b[0m\u001b[0;34m(\u001b[0m\u001b[0;34m)\u001b[0m\u001b[0;34m\u001b[0m\u001b[0;34m\u001b[0m\u001b[0m\n",
            "\u001b[0;32m/usr/local/lib/python3.6/dist-packages/tensorflow/python/eager/def_function.py\u001b[0m in \u001b[0;36m_call\u001b[0;34m(self, *args, **kwds)\u001b[0m\n\u001b[1;32m    805\u001b[0m       \u001b[0;31m# In this case we have created variables on the first call, so we run the\u001b[0m\u001b[0;34m\u001b[0m\u001b[0;34m\u001b[0m\u001b[0;34m\u001b[0m\u001b[0m\n\u001b[1;32m    806\u001b[0m       \u001b[0;31m# defunned version which is guaranteed to never create variables.\u001b[0m\u001b[0;34m\u001b[0m\u001b[0;34m\u001b[0m\u001b[0;34m\u001b[0m\u001b[0m\n\u001b[0;32m--> 807\u001b[0;31m       \u001b[0;32mreturn\u001b[0m \u001b[0mself\u001b[0m\u001b[0;34m.\u001b[0m\u001b[0m_stateless_fn\u001b[0m\u001b[0;34m(\u001b[0m\u001b[0;34m*\u001b[0m\u001b[0margs\u001b[0m\u001b[0;34m,\u001b[0m \u001b[0;34m**\u001b[0m\u001b[0mkwds\u001b[0m\u001b[0;34m)\u001b[0m  \u001b[0;31m# pylint: disable=not-callable\u001b[0m\u001b[0;34m\u001b[0m\u001b[0;34m\u001b[0m\u001b[0m\n\u001b[0m\u001b[1;32m    808\u001b[0m     \u001b[0;32melif\u001b[0m \u001b[0mself\u001b[0m\u001b[0;34m.\u001b[0m\u001b[0m_stateful_fn\u001b[0m \u001b[0;32mis\u001b[0m \u001b[0;32mnot\u001b[0m \u001b[0;32mNone\u001b[0m\u001b[0;34m:\u001b[0m\u001b[0;34m\u001b[0m\u001b[0;34m\u001b[0m\u001b[0m\n\u001b[1;32m    809\u001b[0m       \u001b[0;31m# Release the lock early so that multiple threads can perform the call\u001b[0m\u001b[0;34m\u001b[0m\u001b[0;34m\u001b[0m\u001b[0;34m\u001b[0m\u001b[0m\n",
            "\u001b[0;32m/usr/local/lib/python3.6/dist-packages/tensorflow/python/eager/function.py\u001b[0m in \u001b[0;36m__call__\u001b[0;34m(self, *args, **kwargs)\u001b[0m\n\u001b[1;32m   2827\u001b[0m     \u001b[0;32mwith\u001b[0m \u001b[0mself\u001b[0m\u001b[0;34m.\u001b[0m\u001b[0m_lock\u001b[0m\u001b[0;34m:\u001b[0m\u001b[0;34m\u001b[0m\u001b[0;34m\u001b[0m\u001b[0m\n\u001b[1;32m   2828\u001b[0m       \u001b[0mgraph_function\u001b[0m\u001b[0;34m,\u001b[0m \u001b[0margs\u001b[0m\u001b[0;34m,\u001b[0m \u001b[0mkwargs\u001b[0m \u001b[0;34m=\u001b[0m \u001b[0mself\u001b[0m\u001b[0;34m.\u001b[0m\u001b[0m_maybe_define_function\u001b[0m\u001b[0;34m(\u001b[0m\u001b[0margs\u001b[0m\u001b[0;34m,\u001b[0m \u001b[0mkwargs\u001b[0m\u001b[0;34m)\u001b[0m\u001b[0;34m\u001b[0m\u001b[0;34m\u001b[0m\u001b[0m\n\u001b[0;32m-> 2829\u001b[0;31m     \u001b[0;32mreturn\u001b[0m \u001b[0mgraph_function\u001b[0m\u001b[0;34m.\u001b[0m\u001b[0m_filtered_call\u001b[0m\u001b[0;34m(\u001b[0m\u001b[0margs\u001b[0m\u001b[0;34m,\u001b[0m \u001b[0mkwargs\u001b[0m\u001b[0;34m)\u001b[0m  \u001b[0;31m# pylint: disable=protected-access\u001b[0m\u001b[0;34m\u001b[0m\u001b[0;34m\u001b[0m\u001b[0m\n\u001b[0m\u001b[1;32m   2830\u001b[0m \u001b[0;34m\u001b[0m\u001b[0m\n\u001b[1;32m   2831\u001b[0m   \u001b[0;34m@\u001b[0m\u001b[0mproperty\u001b[0m\u001b[0;34m\u001b[0m\u001b[0;34m\u001b[0m\u001b[0m\n",
            "\u001b[0;32m/usr/local/lib/python3.6/dist-packages/tensorflow/python/eager/function.py\u001b[0m in \u001b[0;36m_filtered_call\u001b[0;34m(self, args, kwargs, cancellation_manager)\u001b[0m\n\u001b[1;32m   1846\u001b[0m                            resource_variable_ops.BaseResourceVariable))],\n\u001b[1;32m   1847\u001b[0m         \u001b[0mcaptured_inputs\u001b[0m\u001b[0;34m=\u001b[0m\u001b[0mself\u001b[0m\u001b[0;34m.\u001b[0m\u001b[0mcaptured_inputs\u001b[0m\u001b[0;34m,\u001b[0m\u001b[0;34m\u001b[0m\u001b[0;34m\u001b[0m\u001b[0m\n\u001b[0;32m-> 1848\u001b[0;31m         cancellation_manager=cancellation_manager)\n\u001b[0m\u001b[1;32m   1849\u001b[0m \u001b[0;34m\u001b[0m\u001b[0m\n\u001b[1;32m   1850\u001b[0m   \u001b[0;32mdef\u001b[0m \u001b[0m_call_flat\u001b[0m\u001b[0;34m(\u001b[0m\u001b[0mself\u001b[0m\u001b[0;34m,\u001b[0m \u001b[0margs\u001b[0m\u001b[0;34m,\u001b[0m \u001b[0mcaptured_inputs\u001b[0m\u001b[0;34m,\u001b[0m \u001b[0mcancellation_manager\u001b[0m\u001b[0;34m=\u001b[0m\u001b[0;32mNone\u001b[0m\u001b[0;34m)\u001b[0m\u001b[0;34m:\u001b[0m\u001b[0;34m\u001b[0m\u001b[0;34m\u001b[0m\u001b[0m\n",
            "\u001b[0;32m/usr/local/lib/python3.6/dist-packages/tensorflow/python/eager/function.py\u001b[0m in \u001b[0;36m_call_flat\u001b[0;34m(self, args, captured_inputs, cancellation_manager)\u001b[0m\n\u001b[1;32m   1922\u001b[0m       \u001b[0;31m# No tape is watching; skip to running the function.\u001b[0m\u001b[0;34m\u001b[0m\u001b[0;34m\u001b[0m\u001b[0;34m\u001b[0m\u001b[0m\n\u001b[1;32m   1923\u001b[0m       return self._build_call_outputs(self._inference_function.call(\n\u001b[0;32m-> 1924\u001b[0;31m           ctx, args, cancellation_manager=cancellation_manager))\n\u001b[0m\u001b[1;32m   1925\u001b[0m     forward_backward = self._select_forward_and_backward_functions(\n\u001b[1;32m   1926\u001b[0m         \u001b[0margs\u001b[0m\u001b[0;34m,\u001b[0m\u001b[0;34m\u001b[0m\u001b[0;34m\u001b[0m\u001b[0m\n",
            "\u001b[0;32m/usr/local/lib/python3.6/dist-packages/tensorflow/python/eager/function.py\u001b[0m in \u001b[0;36mcall\u001b[0;34m(self, ctx, args, cancellation_manager)\u001b[0m\n\u001b[1;32m    548\u001b[0m               \u001b[0minputs\u001b[0m\u001b[0;34m=\u001b[0m\u001b[0margs\u001b[0m\u001b[0;34m,\u001b[0m\u001b[0;34m\u001b[0m\u001b[0;34m\u001b[0m\u001b[0m\n\u001b[1;32m    549\u001b[0m               \u001b[0mattrs\u001b[0m\u001b[0;34m=\u001b[0m\u001b[0mattrs\u001b[0m\u001b[0;34m,\u001b[0m\u001b[0;34m\u001b[0m\u001b[0;34m\u001b[0m\u001b[0m\n\u001b[0;32m--> 550\u001b[0;31m               ctx=ctx)\n\u001b[0m\u001b[1;32m    551\u001b[0m         \u001b[0;32melse\u001b[0m\u001b[0;34m:\u001b[0m\u001b[0;34m\u001b[0m\u001b[0;34m\u001b[0m\u001b[0m\n\u001b[1;32m    552\u001b[0m           outputs = execute.execute_with_cancellation(\n",
            "\u001b[0;32m/usr/local/lib/python3.6/dist-packages/tensorflow/python/eager/execute.py\u001b[0m in \u001b[0;36mquick_execute\u001b[0;34m(op_name, num_outputs, inputs, attrs, ctx, name)\u001b[0m\n\u001b[1;32m     58\u001b[0m     \u001b[0mctx\u001b[0m\u001b[0;34m.\u001b[0m\u001b[0mensure_initialized\u001b[0m\u001b[0;34m(\u001b[0m\u001b[0;34m)\u001b[0m\u001b[0;34m\u001b[0m\u001b[0;34m\u001b[0m\u001b[0m\n\u001b[1;32m     59\u001b[0m     tensors = pywrap_tfe.TFE_Py_Execute(ctx._handle, device_name, op_name,\n\u001b[0;32m---> 60\u001b[0;31m                                         inputs, attrs, num_outputs)\n\u001b[0m\u001b[1;32m     61\u001b[0m   \u001b[0;32mexcept\u001b[0m \u001b[0mcore\u001b[0m\u001b[0;34m.\u001b[0m\u001b[0m_NotOkStatusException\u001b[0m \u001b[0;32mas\u001b[0m \u001b[0me\u001b[0m\u001b[0;34m:\u001b[0m\u001b[0;34m\u001b[0m\u001b[0;34m\u001b[0m\u001b[0m\n\u001b[1;32m     62\u001b[0m     \u001b[0;32mif\u001b[0m \u001b[0mname\u001b[0m \u001b[0;32mis\u001b[0m \u001b[0;32mnot\u001b[0m \u001b[0;32mNone\u001b[0m\u001b[0;34m:\u001b[0m\u001b[0;34m\u001b[0m\u001b[0;34m\u001b[0m\u001b[0m\n",
            "\u001b[0;31mKeyboardInterrupt\u001b[0m: "
          ]
        }
      ]
    },
    {
      "cell_type": "code",
      "metadata": {
        "colab": {
          "base_uri": "https://localhost:8080/"
        },
        "id": "o-ap2jH6af7p",
        "outputId": "fb3cd1d4-1110-4d9a-87be-5c396419d654"
      },
      "source": [
        "result = model.evaluate(X_train, y_train)\n",
        "print(f\"Accuracy : {result[1] * 100:.2f} %\")\n",
        "print(f\"Loss : {result[0] * 100:.2f} %\")"
      ],
      "execution_count": 111,
      "outputs": [
        {
          "output_type": "stream",
          "text": [
            "557/557 [==============================] - 4s 7ms/step - loss: nan - accuracy: 0.4515\n",
            "Accuracy : 45.15 %\n",
            "Loss : nan %\n"
          ],
          "name": "stdout"
        }
      ]
    },
    {
      "cell_type": "code",
      "metadata": {
        "id": "G81oVtoMMAUA"
      },
      "source": [
        "# from tcn import compiled_tcn\n",
        "# model = compiled_tcn(return_sequences=False,\n",
        "#                          num_feat=1,\n",
        "#                          num_classes=1,\n",
        "#                          nb_filters=128,\n",
        "#                          kernel_size=2,\n",
        "#                          dilations=[1,2,4,8,16],\n",
        "#                          nb_stacks=1,\n",
        "#                          max_len=X_train[0:1].shape[1],\n",
        "#                          use_skip_connections=True)"
      ],
      "execution_count": 54,
      "outputs": []
    },
    {
      "cell_type": "code",
      "metadata": {
        "id": "VITnyFYGzpbp"
      },
      "source": [
        "# i = Input(shape = (maxlen,))\n",
        "# x = Embedding(max_features, 128)(i)\n",
        "# x = TCN(nb_filters = 64, kernel_size=2, dilations=[1,2,4,8,16])(x)\n",
        "# # x = Dropout(0.01)(x)\n",
        "# x = Dense(1, activation = 'sigmoid')(x)\n",
        "# model = Model(inputs=[i], outputs=[x])\n",
        "# model.compile(optimizer='adam', loss='binary_crossentropy', metrics = ['accuracy'])\n",
        "# # model.compile(optimizer='adam', metrics = ['accuracy'])\n",
        "# model.summary()"
      ],
      "execution_count": 64,
      "outputs": []
    },
    {
      "cell_type": "markdown",
      "metadata": {
        "id": "JRQpAYoNA8k6"
      },
      "source": [
        "### 模型訓練"
      ]
    },
    {
      "cell_type": "code",
      "metadata": {
        "id": "wuoiz6MT3bdL"
      },
      "source": [
        "# history = model.fit(X_train, y_train, batch_size = batch_size, epochs = 10)\n",
        "# history = model.fit(X_train, y_train, batch_size = batch_size, epochs = 10, validation_data = [X_test, y_test])\n",
        "# model.fit(X_train, y_train, epochs=100,validation_data=(X_test, y_test))"
      ],
      "execution_count": 65,
      "outputs": []
    },
    {
      "cell_type": "code",
      "metadata": {
        "id": "ZzCNzGx49aKg"
      },
      "source": [
        ""
      ],
      "execution_count": 65,
      "outputs": []
    }
  ]
}