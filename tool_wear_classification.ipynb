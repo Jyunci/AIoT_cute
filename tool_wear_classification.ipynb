{
  "nbformat": 4,
  "nbformat_minor": 0,
  "metadata": {
    "colab": {
      "name": "tool_wear_classification.ipynb",
      "provenance": [],
      "collapsed_sections": [],
      "include_colab_link": true
    },
    "kernelspec": {
      "name": "python3",
      "display_name": "Python 3"
    },
    "accelerator": "GPU"
  },
  "cells": [
    {
      "cell_type": "markdown",
      "metadata": {
        "id": "view-in-github",
        "colab_type": "text"
      },
      "source": [
        "<a href=\"https://colab.research.google.com/github/Jyunci/AIoT_cute/blob/main/tool_wear_classification.ipynb\" target=\"_parent\"><img src=\"https://colab.research.google.com/assets/colab-badge.svg\" alt=\"Open In Colab\"/></a>"
      ]
    },
    {
      "cell_type": "markdown",
      "metadata": {
        "id": "f_7xBNtDczqI"
      },
      "source": [
        "# 1.1  刀具磨耗預測\n",
        "使用  Temporal Convolutional Network  (TCN) 模型，預測端銑刀是否磨損 (Worn)。\n",
        "\n",
        "資料來源：公開資料集 Kaggle 平台 --- CNC Mill Tool Wear。\n",
        "\n",
        "連結：https://www.kaggle.com/shasun/tool-wear-detection-in-cnc-mill"
      ]
    },
    {
      "cell_type": "markdown",
      "metadata": {
        "id": "6jFc-3oegnOn"
      },
      "source": [
        "## 前置作業 - 函式庫環境設置"
      ]
    },
    {
      "cell_type": "code",
      "metadata": {
        "id": "Siybc6SVcXo6"
      },
      "source": [
        "# 共通函式庫\n",
        "import numpy as np\n",
        "import os\n",
        "import pandas as pd\n",
        "import scipy.stats as stats\n",
        "from sklearn import preprocessing\n",
        "from sklearn.preprocessing import LabelEncoder\n",
        "from sklearn.utils import shuffle"
      ],
      "execution_count": 1,
      "outputs": []
    },
    {
      "cell_type": "code",
      "metadata": {
        "colab": {
          "base_uri": "https://localhost:8080/"
        },
        "id": "vWU6Ebukz9ct",
        "outputId": "7f999dc0-0422-4a25-e3e3-c49175642e24"
      },
      "source": [
        "!pip install keras-tcn"
      ],
      "execution_count": 2,
      "outputs": [
        {
          "output_type": "stream",
          "text": [
            "Collecting keras-tcn\n",
            "  Downloading https://files.pythonhosted.org/packages/a8/5b/31eed031c196dc192eddf346f053ec6a97aefa4b931164fd8665c92a9d7d/keras_tcn-3.1.1-py3-none-any.whl\n",
            "Collecting keras==2.3.1\n",
            "\u001b[?25l  Downloading https://files.pythonhosted.org/packages/ad/fd/6bfe87920d7f4fd475acd28500a42482b6b84479832bdc0fe9e589a60ceb/Keras-2.3.1-py2.py3-none-any.whl (377kB)\n",
            "\u001b[K     |████████████████████████████████| 378kB 5.8MB/s \n",
            "\u001b[?25hRequirement already satisfied: numpy>=1.18.1 in /usr/local/lib/python3.6/dist-packages (from keras-tcn) (1.18.5)\n",
            "Requirement already satisfied: scipy>=0.14 in /usr/local/lib/python3.6/dist-packages (from keras==2.3.1->keras-tcn) (1.4.1)\n",
            "Requirement already satisfied: h5py in /usr/local/lib/python3.6/dist-packages (from keras==2.3.1->keras-tcn) (2.10.0)\n",
            "Requirement already satisfied: keras-preprocessing>=1.0.5 in /usr/local/lib/python3.6/dist-packages (from keras==2.3.1->keras-tcn) (1.1.2)\n",
            "Requirement already satisfied: pyyaml in /usr/local/lib/python3.6/dist-packages (from keras==2.3.1->keras-tcn) (3.13)\n",
            "Collecting keras-applications>=1.0.6\n",
            "\u001b[?25l  Downloading https://files.pythonhosted.org/packages/71/e3/19762fdfc62877ae9102edf6342d71b28fbfd9dea3d2f96a882ce099b03f/Keras_Applications-1.0.8-py3-none-any.whl (50kB)\n",
            "\u001b[K     |████████████████████████████████| 51kB 7.2MB/s \n",
            "\u001b[?25hRequirement already satisfied: six>=1.9.0 in /usr/local/lib/python3.6/dist-packages (from keras==2.3.1->keras-tcn) (1.15.0)\n",
            "Installing collected packages: keras-applications, keras, keras-tcn\n",
            "  Found existing installation: Keras 2.4.3\n",
            "    Uninstalling Keras-2.4.3:\n",
            "      Successfully uninstalled Keras-2.4.3\n",
            "Successfully installed keras-2.3.1 keras-applications-1.0.8 keras-tcn-3.1.1\n"
          ],
          "name": "stdout"
        }
      ]
    },
    {
      "cell_type": "code",
      "metadata": {
        "id": "oE14Cj8k0EGT"
      },
      "source": [
        "from tensorflow.keras import Model, Input\n",
        "from tensorflow.keras.datasets import imdb\n",
        "from tensorflow.keras.layers import Dense, Dropout, Embedding\n",
        "from tensorflow.keras.preprocessing import sequence\n",
        "from tcn import TCN"
      ],
      "execution_count": 3,
      "outputs": []
    },
    {
      "cell_type": "markdown",
      "metadata": {
        "id": "ktfuo6OEg6IM"
      },
      "source": [
        "## 前置作業 - 資料下載  (從 github clone 檔案)"
      ]
    },
    {
      "cell_type": "code",
      "metadata": {
        "colab": {
          "base_uri": "https://localhost:8080/"
        },
        "id": "OAv1nFIow2z_",
        "outputId": "0ae10a35-a2c9-437d-fcc3-a515c19447ee"
      },
      "source": [
        "!git clone https://github.com/Jyunci/AIoT_cute.git"
      ],
      "execution_count": 4,
      "outputs": [
        {
          "output_type": "stream",
          "text": [
            "Cloning into 'AIoT_cute'...\n",
            "remote: Enumerating objects: 26, done.\u001b[K\n",
            "remote: Counting objects: 100% (26/26), done.\u001b[K\n",
            "remote: Compressing objects: 100% (26/26), done.\u001b[K\n",
            "remote: Total 107 (delta 11), reused 0 (delta 0), pack-reused 81\u001b[K\n",
            "Receiving objects: 100% (107/107), 4.47 MiB | 21.31 MiB/s, done.\n",
            "Resolving deltas: 100% (42/42), done.\n"
          ],
          "name": "stdout"
        }
      ]
    },
    {
      "cell_type": "code",
      "metadata": {
        "colab": {
          "base_uri": "https://localhost:8080/",
          "height": 243
        },
        "id": "Q8KSGfmpEWt0",
        "outputId": "6a850359-b11e-45e4-91c8-dc7f4070332c"
      },
      "source": [
        "#  讀取 'train_set.csv'  檢視資料\n",
        "df_train = pd.read_csv('./AIoT_cute/cnc_tool/train_set.csv')  \n",
        "df_train.head(5)"
      ],
      "execution_count": 5,
      "outputs": [
        {
          "output_type": "execute_result",
          "data": {
            "text/html": [
              "<div>\n",
              "<style scoped>\n",
              "    .dataframe tbody tr th:only-of-type {\n",
              "        vertical-align: middle;\n",
              "    }\n",
              "\n",
              "    .dataframe tbody tr th {\n",
              "        vertical-align: top;\n",
              "    }\n",
              "\n",
              "    .dataframe thead th {\n",
              "        text-align: right;\n",
              "    }\n",
              "</style>\n",
              "<table border=\"1\" class=\"dataframe\">\n",
              "  <thead>\n",
              "    <tr style=\"text-align: right;\">\n",
              "      <th></th>\n",
              "      <th>Unnamed: 0</th>\n",
              "      <th>tool_condition</th>\n",
              "      <th>feedrate</th>\n",
              "      <th>clamp_pressure</th>\n",
              "      <th>X1_ActualPosition</th>\n",
              "      <th>X1_ActualVelocity</th>\n",
              "      <th>X1_ActualAcceleration</th>\n",
              "      <th>X1_CommandPosition</th>\n",
              "      <th>X1_CommandVelocity</th>\n",
              "      <th>X1_CommandAcceleration</th>\n",
              "      <th>X1_CurrentFeedback</th>\n",
              "      <th>X1_DCBusVoltage</th>\n",
              "      <th>X1_OutputCurrent</th>\n",
              "      <th>X1_OutputVoltage</th>\n",
              "      <th>X1_OutputPower</th>\n",
              "      <th>Y1_ActualPosition</th>\n",
              "      <th>Y1_ActualVelocity</th>\n",
              "      <th>Y1_ActualAcceleration</th>\n",
              "      <th>Y1_CommandPosition</th>\n",
              "      <th>Y1_CommandVelocity</th>\n",
              "      <th>Y1_CommandAcceleration</th>\n",
              "      <th>Y1_CurrentFeedback</th>\n",
              "      <th>Y1_DCBusVoltage</th>\n",
              "      <th>Y1_OutputCurrent</th>\n",
              "      <th>Y1_OutputVoltage</th>\n",
              "      <th>Y1_OutputPower</th>\n",
              "      <th>Z1_ActualPosition</th>\n",
              "      <th>Z1_ActualVelocity</th>\n",
              "      <th>Z1_ActualAcceleration</th>\n",
              "      <th>Z1_CommandPosition</th>\n",
              "      <th>Z1_CommandVelocity</th>\n",
              "      <th>Z1_CommandAcceleration</th>\n",
              "      <th>Z1_CurrentFeedback</th>\n",
              "      <th>Z1_DCBusVoltage</th>\n",
              "      <th>Z1_OutputCurrent</th>\n",
              "      <th>Z1_OutputVoltage</th>\n",
              "      <th>S1_ActualPosition</th>\n",
              "      <th>S1_ActualVelocity</th>\n",
              "      <th>S1_ActualAcceleration</th>\n",
              "      <th>S1_CommandPosition</th>\n",
              "      <th>S1_CommandVelocity</th>\n",
              "      <th>S1_CommandAcceleration</th>\n",
              "      <th>S1_CurrentFeedback</th>\n",
              "      <th>S1_DCBusVoltage</th>\n",
              "      <th>S1_OutputCurrent</th>\n",
              "      <th>S1_OutputVoltage</th>\n",
              "      <th>S1_OutputPower</th>\n",
              "      <th>S1_SystemInertia</th>\n",
              "      <th>M1_CURRENT_PROGRAM_NUMBER</th>\n",
              "      <th>M1_sequence_number</th>\n",
              "      <th>M1_CURRENT_FEEDRATE</th>\n",
              "      <th>Machining_Process</th>\n",
              "    </tr>\n",
              "  </thead>\n",
              "  <tbody>\n",
              "    <tr>\n",
              "      <th>0</th>\n",
              "      <td>0</td>\n",
              "      <td>unworn</td>\n",
              "      <td>6</td>\n",
              "      <td>4.0</td>\n",
              "      <td>198.0</td>\n",
              "      <td>0.0</td>\n",
              "      <td>0.00</td>\n",
              "      <td>198.0</td>\n",
              "      <td>0.0</td>\n",
              "      <td>0.000000</td>\n",
              "      <td>0.18</td>\n",
              "      <td>0.0207</td>\n",
              "      <td>329.0</td>\n",
              "      <td>2.77</td>\n",
              "      <td>-0.000001</td>\n",
              "      <td>158.0</td>\n",
              "      <td>-0.025</td>\n",
              "      <td>-6.25</td>\n",
              "      <td>158.0</td>\n",
              "      <td>0.0</td>\n",
              "      <td>0.000000</td>\n",
              "      <td>0.539</td>\n",
              "      <td>0.0167</td>\n",
              "      <td>328.0</td>\n",
              "      <td>1.84</td>\n",
              "      <td>6.430000e-07</td>\n",
              "      <td>119.0</td>\n",
              "      <td>0.0</td>\n",
              "      <td>0.00</td>\n",
              "      <td>119.0</td>\n",
              "      <td>0.0</td>\n",
              "      <td>0.000000</td>\n",
              "      <td>0.0</td>\n",
              "      <td>0.0</td>\n",
              "      <td>0.0</td>\n",
              "      <td>0.0</td>\n",
              "      <td>-361.0</td>\n",
              "      <td>0.001</td>\n",
              "      <td>0.250</td>\n",
              "      <td>-361.0</td>\n",
              "      <td>0.0</td>\n",
              "      <td>0.0</td>\n",
              "      <td>0.524</td>\n",
              "      <td>2.740000e-19</td>\n",
              "      <td>329.0</td>\n",
              "      <td>0.0</td>\n",
              "      <td>6.960000e-07</td>\n",
              "      <td>12.0</td>\n",
              "      <td>1.0</td>\n",
              "      <td>0.0</td>\n",
              "      <td>50.0</td>\n",
              "      <td>Starting</td>\n",
              "    </tr>\n",
              "    <tr>\n",
              "      <th>1</th>\n",
              "      <td>1</td>\n",
              "      <td>unworn</td>\n",
              "      <td>6</td>\n",
              "      <td>4.0</td>\n",
              "      <td>198.0</td>\n",
              "      <td>-10.8</td>\n",
              "      <td>-350.00</td>\n",
              "      <td>198.0</td>\n",
              "      <td>-13.6</td>\n",
              "      <td>-358.000000</td>\n",
              "      <td>-10.90</td>\n",
              "      <td>0.1860</td>\n",
              "      <td>328.0</td>\n",
              "      <td>23.30</td>\n",
              "      <td>0.004480</td>\n",
              "      <td>158.0</td>\n",
              "      <td>-19.800</td>\n",
              "      <td>-750.00</td>\n",
              "      <td>157.0</td>\n",
              "      <td>-24.6</td>\n",
              "      <td>-647.000000</td>\n",
              "      <td>-14.500</td>\n",
              "      <td>0.2810</td>\n",
              "      <td>325.0</td>\n",
              "      <td>37.80</td>\n",
              "      <td>1.260000e-02</td>\n",
              "      <td>119.0</td>\n",
              "      <td>-20.3</td>\n",
              "      <td>-712.00</td>\n",
              "      <td>118.0</td>\n",
              "      <td>-25.6</td>\n",
              "      <td>-674.000000</td>\n",
              "      <td>0.0</td>\n",
              "      <td>0.0</td>\n",
              "      <td>0.0</td>\n",
              "      <td>0.0</td>\n",
              "      <td>-361.0</td>\n",
              "      <td>0.000</td>\n",
              "      <td>0.250</td>\n",
              "      <td>-361.0</td>\n",
              "      <td>0.0</td>\n",
              "      <td>0.0</td>\n",
              "      <td>-0.288</td>\n",
              "      <td>2.740000e-19</td>\n",
              "      <td>328.0</td>\n",
              "      <td>0.0</td>\n",
              "      <td>-5.270000e-07</td>\n",
              "      <td>12.0</td>\n",
              "      <td>1.0</td>\n",
              "      <td>4.0</td>\n",
              "      <td>50.0</td>\n",
              "      <td>Prep</td>\n",
              "    </tr>\n",
              "    <tr>\n",
              "      <th>2</th>\n",
              "      <td>2</td>\n",
              "      <td>unworn</td>\n",
              "      <td>6</td>\n",
              "      <td>4.0</td>\n",
              "      <td>196.0</td>\n",
              "      <td>-17.8</td>\n",
              "      <td>-6.25</td>\n",
              "      <td>196.0</td>\n",
              "      <td>-17.9</td>\n",
              "      <td>-0.000095</td>\n",
              "      <td>-8.59</td>\n",
              "      <td>0.1400</td>\n",
              "      <td>328.0</td>\n",
              "      <td>30.60</td>\n",
              "      <td>0.005330</td>\n",
              "      <td>154.0</td>\n",
              "      <td>-32.500</td>\n",
              "      <td>0.00</td>\n",
              "      <td>154.0</td>\n",
              "      <td>-32.3</td>\n",
              "      <td>-0.000095</td>\n",
              "      <td>-7.790</td>\n",
              "      <td>0.1390</td>\n",
              "      <td>327.0</td>\n",
              "      <td>49.40</td>\n",
              "      <td>9.430000e-03</td>\n",
              "      <td>115.0</td>\n",
              "      <td>-33.7</td>\n",
              "      <td>37.50</td>\n",
              "      <td>115.0</td>\n",
              "      <td>-33.7</td>\n",
              "      <td>-0.000095</td>\n",
              "      <td>0.0</td>\n",
              "      <td>0.0</td>\n",
              "      <td>0.0</td>\n",
              "      <td>0.0</td>\n",
              "      <td>-361.0</td>\n",
              "      <td>0.000</td>\n",
              "      <td>-0.438</td>\n",
              "      <td>-361.0</td>\n",
              "      <td>0.0</td>\n",
              "      <td>0.0</td>\n",
              "      <td>0.524</td>\n",
              "      <td>2.740000e-19</td>\n",
              "      <td>328.0</td>\n",
              "      <td>0.0</td>\n",
              "      <td>9.100000e-07</td>\n",
              "      <td>12.0</td>\n",
              "      <td>1.0</td>\n",
              "      <td>7.0</td>\n",
              "      <td>50.0</td>\n",
              "      <td>Prep</td>\n",
              "    </tr>\n",
              "    <tr>\n",
              "      <th>3</th>\n",
              "      <td>3</td>\n",
              "      <td>unworn</td>\n",
              "      <td>6</td>\n",
              "      <td>4.0</td>\n",
              "      <td>194.0</td>\n",
              "      <td>-18.0</td>\n",
              "      <td>0.00</td>\n",
              "      <td>194.0</td>\n",
              "      <td>-17.9</td>\n",
              "      <td>-0.000095</td>\n",
              "      <td>-6.11</td>\n",
              "      <td>0.1300</td>\n",
              "      <td>327.0</td>\n",
              "      <td>30.30</td>\n",
              "      <td>0.004890</td>\n",
              "      <td>151.0</td>\n",
              "      <td>-32.600</td>\n",
              "      <td>-62.50</td>\n",
              "      <td>151.0</td>\n",
              "      <td>-32.3</td>\n",
              "      <td>-0.000095</td>\n",
              "      <td>-8.130</td>\n",
              "      <td>0.1560</td>\n",
              "      <td>325.0</td>\n",
              "      <td>47.60</td>\n",
              "      <td>1.050000e-02</td>\n",
              "      <td>112.0</td>\n",
              "      <td>-33.7</td>\n",
              "      <td>-6.25</td>\n",
              "      <td>112.0</td>\n",
              "      <td>-33.7</td>\n",
              "      <td>0.000000</td>\n",
              "      <td>0.0</td>\n",
              "      <td>0.0</td>\n",
              "      <td>0.0</td>\n",
              "      <td>0.0</td>\n",
              "      <td>-361.0</td>\n",
              "      <td>-0.001</td>\n",
              "      <td>-0.250</td>\n",
              "      <td>-361.0</td>\n",
              "      <td>0.0</td>\n",
              "      <td>0.0</td>\n",
              "      <td>-0.180</td>\n",
              "      <td>2.740000e-19</td>\n",
              "      <td>328.0</td>\n",
              "      <td>0.0</td>\n",
              "      <td>1.070000e-06</td>\n",
              "      <td>12.0</td>\n",
              "      <td>1.0</td>\n",
              "      <td>7.0</td>\n",
              "      <td>50.0</td>\n",
              "      <td>Prep</td>\n",
              "    </tr>\n",
              "    <tr>\n",
              "      <th>4</th>\n",
              "      <td>4</td>\n",
              "      <td>unworn</td>\n",
              "      <td>6</td>\n",
              "      <td>4.0</td>\n",
              "      <td>193.0</td>\n",
              "      <td>-17.9</td>\n",
              "      <td>-18.80</td>\n",
              "      <td>192.0</td>\n",
              "      <td>-17.9</td>\n",
              "      <td>0.000095</td>\n",
              "      <td>-5.70</td>\n",
              "      <td>0.1140</td>\n",
              "      <td>328.0</td>\n",
              "      <td>30.50</td>\n",
              "      <td>0.004250</td>\n",
              "      <td>148.0</td>\n",
              "      <td>-32.000</td>\n",
              "      <td>138.00</td>\n",
              "      <td>148.0</td>\n",
              "      <td>-32.3</td>\n",
              "      <td>0.000095</td>\n",
              "      <td>-13.800</td>\n",
              "      <td>0.2020</td>\n",
              "      <td>326.0</td>\n",
              "      <td>47.10</td>\n",
              "      <td>1.350000e-02</td>\n",
              "      <td>109.0</td>\n",
              "      <td>-33.6</td>\n",
              "      <td>18.80</td>\n",
              "      <td>108.0</td>\n",
              "      <td>-33.7</td>\n",
              "      <td>0.000000</td>\n",
              "      <td>0.0</td>\n",
              "      <td>0.0</td>\n",
              "      <td>0.0</td>\n",
              "      <td>0.0</td>\n",
              "      <td>-361.0</td>\n",
              "      <td>0.000</td>\n",
              "      <td>-0.188</td>\n",
              "      <td>-361.0</td>\n",
              "      <td>0.0</td>\n",
              "      <td>0.0</td>\n",
              "      <td>0.226</td>\n",
              "      <td>2.740000e-19</td>\n",
              "      <td>328.0</td>\n",
              "      <td>0.0</td>\n",
              "      <td>1.960000e-06</td>\n",
              "      <td>12.0</td>\n",
              "      <td>1.0</td>\n",
              "      <td>7.0</td>\n",
              "      <td>50.0</td>\n",
              "      <td>Prep</td>\n",
              "    </tr>\n",
              "  </tbody>\n",
              "</table>\n",
              "</div>"
            ],
            "text/plain": [
              "   Unnamed: 0 tool_condition  ...  M1_CURRENT_FEEDRATE  Machining_Process\n",
              "0           0         unworn  ...                 50.0           Starting\n",
              "1           1         unworn  ...                 50.0               Prep\n",
              "2           2         unworn  ...                 50.0               Prep\n",
              "3           3         unworn  ...                 50.0               Prep\n",
              "4           4         unworn  ...                 50.0               Prep\n",
              "\n",
              "[5 rows x 52 columns]"
            ]
          },
          "metadata": {
            "tags": []
          },
          "execution_count": 5
        }
      ]
    },
    {
      "cell_type": "code",
      "metadata": {
        "id": "r87GUHPRu1Vy",
        "colab": {
          "base_uri": "https://localhost:8080/"
        },
        "outputId": "2c18f545-7108-4081-c986-92b1ffbdc1be"
      },
      "source": [
        "print('訓練集大小: ', df_train.shape)\n",
        "tool_df = df_train['tool_condition'].value_counts(normalize=True)\n",
        "print(tool_df)"
      ],
      "execution_count": 6,
      "outputs": [
        {
          "output_type": "stream",
          "text": [
            "訓練集大小:  (17793, 52)\n",
            "worn      0.548474\n",
            "unworn    0.451526\n",
            "Name: tool_condition, dtype: float64\n"
          ],
          "name": "stdout"
        }
      ]
    },
    {
      "cell_type": "code",
      "metadata": {
        "colab": {
          "base_uri": "https://localhost:8080/",
          "height": 243
        },
        "id": "UiM7HQ_NDmnz",
        "outputId": "2dbac68f-932b-4112-9499-97bca5940183"
      },
      "source": [
        "#  讀取 'test_set.csv'  檢視資料\n",
        "df_test = pd.read_csv('./AIoT_cute/cnc_tool/test_set.csv')\n",
        "df_test.head(5)"
      ],
      "execution_count": 7,
      "outputs": [
        {
          "output_type": "execute_result",
          "data": {
            "text/html": [
              "<div>\n",
              "<style scoped>\n",
              "    .dataframe tbody tr th:only-of-type {\n",
              "        vertical-align: middle;\n",
              "    }\n",
              "\n",
              "    .dataframe tbody tr th {\n",
              "        vertical-align: top;\n",
              "    }\n",
              "\n",
              "    .dataframe thead th {\n",
              "        text-align: right;\n",
              "    }\n",
              "</style>\n",
              "<table border=\"1\" class=\"dataframe\">\n",
              "  <thead>\n",
              "    <tr style=\"text-align: right;\">\n",
              "      <th></th>\n",
              "      <th>Unnamed: 0</th>\n",
              "      <th>tool_condition</th>\n",
              "      <th>feedrate</th>\n",
              "      <th>clamp_pressure</th>\n",
              "      <th>X1_ActualPosition</th>\n",
              "      <th>X1_ActualVelocity</th>\n",
              "      <th>X1_ActualAcceleration</th>\n",
              "      <th>X1_CommandPosition</th>\n",
              "      <th>X1_CommandVelocity</th>\n",
              "      <th>X1_CommandAcceleration</th>\n",
              "      <th>X1_CurrentFeedback</th>\n",
              "      <th>X1_DCBusVoltage</th>\n",
              "      <th>X1_OutputCurrent</th>\n",
              "      <th>X1_OutputVoltage</th>\n",
              "      <th>X1_OutputPower</th>\n",
              "      <th>Y1_ActualPosition</th>\n",
              "      <th>Y1_ActualVelocity</th>\n",
              "      <th>Y1_ActualAcceleration</th>\n",
              "      <th>Y1_CommandPosition</th>\n",
              "      <th>Y1_CommandVelocity</th>\n",
              "      <th>Y1_CommandAcceleration</th>\n",
              "      <th>Y1_CurrentFeedback</th>\n",
              "      <th>Y1_DCBusVoltage</th>\n",
              "      <th>Y1_OutputCurrent</th>\n",
              "      <th>Y1_OutputVoltage</th>\n",
              "      <th>Y1_OutputPower</th>\n",
              "      <th>Z1_ActualPosition</th>\n",
              "      <th>Z1_ActualVelocity</th>\n",
              "      <th>Z1_ActualAcceleration</th>\n",
              "      <th>Z1_CommandPosition</th>\n",
              "      <th>Z1_CommandVelocity</th>\n",
              "      <th>Z1_CommandAcceleration</th>\n",
              "      <th>Z1_CurrentFeedback</th>\n",
              "      <th>Z1_DCBusVoltage</th>\n",
              "      <th>Z1_OutputCurrent</th>\n",
              "      <th>Z1_OutputVoltage</th>\n",
              "      <th>S1_ActualPosition</th>\n",
              "      <th>S1_ActualVelocity</th>\n",
              "      <th>S1_ActualAcceleration</th>\n",
              "      <th>S1_CommandPosition</th>\n",
              "      <th>S1_CommandVelocity</th>\n",
              "      <th>S1_CommandAcceleration</th>\n",
              "      <th>S1_CurrentFeedback</th>\n",
              "      <th>S1_DCBusVoltage</th>\n",
              "      <th>S1_OutputCurrent</th>\n",
              "      <th>S1_OutputVoltage</th>\n",
              "      <th>S1_OutputPower</th>\n",
              "      <th>S1_SystemInertia</th>\n",
              "      <th>M1_CURRENT_PROGRAM_NUMBER</th>\n",
              "      <th>M1_sequence_number</th>\n",
              "      <th>M1_CURRENT_FEEDRATE</th>\n",
              "      <th>Machining_Process</th>\n",
              "    </tr>\n",
              "  </thead>\n",
              "  <tbody>\n",
              "    <tr>\n",
              "      <th>0</th>\n",
              "      <td>0</td>\n",
              "      <td>unworn</td>\n",
              "      <td>20</td>\n",
              "      <td>4.0</td>\n",
              "      <td>198.0</td>\n",
              "      <td>0.0</td>\n",
              "      <td>0.0</td>\n",
              "      <td>198.0</td>\n",
              "      <td>0.0</td>\n",
              "      <td>0.0</td>\n",
              "      <td>-0.284</td>\n",
              "      <td>2.790000e-19</td>\n",
              "      <td>329.0</td>\n",
              "      <td>0.0</td>\n",
              "      <td>0.000000e+00</td>\n",
              "      <td>158.0</td>\n",
              "      <td>0.0</td>\n",
              "      <td>0.0</td>\n",
              "      <td>158.0</td>\n",
              "      <td>0.0</td>\n",
              "      <td>0.0</td>\n",
              "      <td>-0.0839</td>\n",
              "      <td>2.680000e-19</td>\n",
              "      <td>333.0</td>\n",
              "      <td>0.0</td>\n",
              "      <td>-1.470000e-06</td>\n",
              "      <td>119.0</td>\n",
              "      <td>0.000</td>\n",
              "      <td>0.00</td>\n",
              "      <td>119.0</td>\n",
              "      <td>0.0</td>\n",
              "      <td>0.0</td>\n",
              "      <td>0.0</td>\n",
              "      <td>0.0</td>\n",
              "      <td>0.0</td>\n",
              "      <td>0.0</td>\n",
              "      <td>-1160.0</td>\n",
              "      <td>0.00100</td>\n",
              "      <td>0.687</td>\n",
              "      <td>-1160.0</td>\n",
              "      <td>0.0</td>\n",
              "      <td>0.0</td>\n",
              "      <td>-1.860</td>\n",
              "      <td>0.000000e+00</td>\n",
              "      <td>332.0</td>\n",
              "      <td>0.0</td>\n",
              "      <td>0.000000e+00</td>\n",
              "      <td>12.0</td>\n",
              "      <td>1.0</td>\n",
              "      <td>2.0</td>\n",
              "      <td>50.0</td>\n",
              "      <td>Prep</td>\n",
              "    </tr>\n",
              "    <tr>\n",
              "      <th>1</th>\n",
              "      <td>1</td>\n",
              "      <td>unworn</td>\n",
              "      <td>20</td>\n",
              "      <td>4.0</td>\n",
              "      <td>198.0</td>\n",
              "      <td>0.0</td>\n",
              "      <td>0.0</td>\n",
              "      <td>198.0</td>\n",
              "      <td>0.0</td>\n",
              "      <td>0.0</td>\n",
              "      <td>-0.284</td>\n",
              "      <td>2.790000e-19</td>\n",
              "      <td>329.0</td>\n",
              "      <td>0.0</td>\n",
              "      <td>0.000000e+00</td>\n",
              "      <td>158.0</td>\n",
              "      <td>0.0</td>\n",
              "      <td>0.0</td>\n",
              "      <td>158.0</td>\n",
              "      <td>0.0</td>\n",
              "      <td>0.0</td>\n",
              "      <td>-0.0839</td>\n",
              "      <td>2.680000e-19</td>\n",
              "      <td>333.0</td>\n",
              "      <td>0.0</td>\n",
              "      <td>-1.470000e-06</td>\n",
              "      <td>119.0</td>\n",
              "      <td>0.000</td>\n",
              "      <td>0.00</td>\n",
              "      <td>119.0</td>\n",
              "      <td>0.0</td>\n",
              "      <td>0.0</td>\n",
              "      <td>0.0</td>\n",
              "      <td>0.0</td>\n",
              "      <td>0.0</td>\n",
              "      <td>0.0</td>\n",
              "      <td>-1160.0</td>\n",
              "      <td>0.00100</td>\n",
              "      <td>0.687</td>\n",
              "      <td>-1160.0</td>\n",
              "      <td>0.0</td>\n",
              "      <td>0.0</td>\n",
              "      <td>-1.860</td>\n",
              "      <td>0.000000e+00</td>\n",
              "      <td>332.0</td>\n",
              "      <td>0.0</td>\n",
              "      <td>0.000000e+00</td>\n",
              "      <td>12.0</td>\n",
              "      <td>0.0</td>\n",
              "      <td>0.0</td>\n",
              "      <td>50.0</td>\n",
              "      <td>Prep</td>\n",
              "    </tr>\n",
              "    <tr>\n",
              "      <th>2</th>\n",
              "      <td>2</td>\n",
              "      <td>unworn</td>\n",
              "      <td>20</td>\n",
              "      <td>4.0</td>\n",
              "      <td>198.0</td>\n",
              "      <td>0.0</td>\n",
              "      <td>0.0</td>\n",
              "      <td>198.0</td>\n",
              "      <td>0.0</td>\n",
              "      <td>0.0</td>\n",
              "      <td>1.170</td>\n",
              "      <td>2.780000e-19</td>\n",
              "      <td>325.0</td>\n",
              "      <td>0.0</td>\n",
              "      <td>9.160000e-07</td>\n",
              "      <td>158.0</td>\n",
              "      <td>0.0</td>\n",
              "      <td>0.0</td>\n",
              "      <td>158.0</td>\n",
              "      <td>0.0</td>\n",
              "      <td>0.0</td>\n",
              "      <td>-0.7090</td>\n",
              "      <td>2.690000e-19</td>\n",
              "      <td>327.0</td>\n",
              "      <td>0.0</td>\n",
              "      <td>6.770000e-07</td>\n",
              "      <td>119.0</td>\n",
              "      <td>0.000</td>\n",
              "      <td>0.00</td>\n",
              "      <td>119.0</td>\n",
              "      <td>0.0</td>\n",
              "      <td>0.0</td>\n",
              "      <td>0.0</td>\n",
              "      <td>0.0</td>\n",
              "      <td>0.0</td>\n",
              "      <td>0.0</td>\n",
              "      <td>905.0</td>\n",
              "      <td>0.00025</td>\n",
              "      <td>0.875</td>\n",
              "      <td>905.0</td>\n",
              "      <td>0.0</td>\n",
              "      <td>0.0</td>\n",
              "      <td>-0.176</td>\n",
              "      <td>2.780000e-19</td>\n",
              "      <td>324.0</td>\n",
              "      <td>0.0</td>\n",
              "      <td>-8.590000e-07</td>\n",
              "      <td>12.0</td>\n",
              "      <td>0.0</td>\n",
              "      <td>0.0</td>\n",
              "      <td>50.0</td>\n",
              "      <td>Prep</td>\n",
              "    </tr>\n",
              "    <tr>\n",
              "      <th>3</th>\n",
              "      <td>3</td>\n",
              "      <td>unworn</td>\n",
              "      <td>20</td>\n",
              "      <td>4.0</td>\n",
              "      <td>198.0</td>\n",
              "      <td>0.0</td>\n",
              "      <td>0.0</td>\n",
              "      <td>198.0</td>\n",
              "      <td>0.0</td>\n",
              "      <td>0.0</td>\n",
              "      <td>-0.230</td>\n",
              "      <td>2.790000e-19</td>\n",
              "      <td>329.0</td>\n",
              "      <td>0.0</td>\n",
              "      <td>-2.300000e-07</td>\n",
              "      <td>158.0</td>\n",
              "      <td>0.0</td>\n",
              "      <td>0.0</td>\n",
              "      <td>158.0</td>\n",
              "      <td>0.0</td>\n",
              "      <td>0.0</td>\n",
              "      <td>-1.3400</td>\n",
              "      <td>2.680000e-19</td>\n",
              "      <td>333.0</td>\n",
              "      <td>0.0</td>\n",
              "      <td>0.000000e+00</td>\n",
              "      <td>119.0</td>\n",
              "      <td>-0.025</td>\n",
              "      <td>-6.25</td>\n",
              "      <td>119.0</td>\n",
              "      <td>0.0</td>\n",
              "      <td>0.0</td>\n",
              "      <td>0.0</td>\n",
              "      <td>0.0</td>\n",
              "      <td>0.0</td>\n",
              "      <td>0.0</td>\n",
              "      <td>-1160.0</td>\n",
              "      <td>0.00075</td>\n",
              "      <td>0.188</td>\n",
              "      <td>-1160.0</td>\n",
              "      <td>0.0</td>\n",
              "      <td>0.0</td>\n",
              "      <td>-1.170</td>\n",
              "      <td>0.000000e+00</td>\n",
              "      <td>332.0</td>\n",
              "      <td>0.0</td>\n",
              "      <td>-6.290000e-06</td>\n",
              "      <td>12.0</td>\n",
              "      <td>4.0</td>\n",
              "      <td>0.0</td>\n",
              "      <td>50.0</td>\n",
              "      <td>Prep</td>\n",
              "    </tr>\n",
              "    <tr>\n",
              "      <th>4</th>\n",
              "      <td>4</td>\n",
              "      <td>unworn</td>\n",
              "      <td>20</td>\n",
              "      <td>4.0</td>\n",
              "      <td>198.0</td>\n",
              "      <td>0.0</td>\n",
              "      <td>0.0</td>\n",
              "      <td>198.0</td>\n",
              "      <td>0.0</td>\n",
              "      <td>0.0</td>\n",
              "      <td>-0.230</td>\n",
              "      <td>2.790000e-19</td>\n",
              "      <td>329.0</td>\n",
              "      <td>0.0</td>\n",
              "      <td>-2.300000e-07</td>\n",
              "      <td>158.0</td>\n",
              "      <td>0.0</td>\n",
              "      <td>0.0</td>\n",
              "      <td>158.0</td>\n",
              "      <td>0.0</td>\n",
              "      <td>0.0</td>\n",
              "      <td>-1.3400</td>\n",
              "      <td>2.680000e-19</td>\n",
              "      <td>333.0</td>\n",
              "      <td>0.0</td>\n",
              "      <td>0.000000e+00</td>\n",
              "      <td>119.0</td>\n",
              "      <td>-0.025</td>\n",
              "      <td>-6.25</td>\n",
              "      <td>119.0</td>\n",
              "      <td>0.0</td>\n",
              "      <td>0.0</td>\n",
              "      <td>0.0</td>\n",
              "      <td>0.0</td>\n",
              "      <td>0.0</td>\n",
              "      <td>0.0</td>\n",
              "      <td>-1160.0</td>\n",
              "      <td>0.00075</td>\n",
              "      <td>0.188</td>\n",
              "      <td>-1160.0</td>\n",
              "      <td>0.0</td>\n",
              "      <td>0.0</td>\n",
              "      <td>-1.170</td>\n",
              "      <td>0.000000e+00</td>\n",
              "      <td>332.0</td>\n",
              "      <td>0.0</td>\n",
              "      <td>-6.290000e-06</td>\n",
              "      <td>12.0</td>\n",
              "      <td>0.0</td>\n",
              "      <td>0.0</td>\n",
              "      <td>50.0</td>\n",
              "      <td>Prep</td>\n",
              "    </tr>\n",
              "  </tbody>\n",
              "</table>\n",
              "</div>"
            ],
            "text/plain": [
              "   Unnamed: 0 tool_condition  ...  M1_CURRENT_FEEDRATE  Machining_Process\n",
              "0           0         unworn  ...                 50.0               Prep\n",
              "1           1         unworn  ...                 50.0               Prep\n",
              "2           2         unworn  ...                 50.0               Prep\n",
              "3           3         unworn  ...                 50.0               Prep\n",
              "4           4         unworn  ...                 50.0               Prep\n",
              "\n",
              "[5 rows x 52 columns]"
            ]
          },
          "metadata": {
            "tags": []
          },
          "execution_count": 7
        }
      ]
    },
    {
      "cell_type": "code",
      "metadata": {
        "colab": {
          "base_uri": "https://localhost:8080/"
        },
        "id": "x3hW0XRHxQ21",
        "outputId": "706420fa-3cca-4e28-b9a1-3899934ed087"
      },
      "source": [
        "print('測試集大小: ', df_test.shape)\n",
        "tool_df = df_test['tool_condition'].value_counts(normalize=True)\n",
        "print(tool_df)"
      ],
      "execution_count": 8,
      "outputs": [
        {
          "output_type": "stream",
          "text": [
            "測試集大小:  (7493, 52)\n",
            "unworn    0.526358\n",
            "worn      0.473642\n",
            "Name: tool_condition, dtype: float64\n"
          ],
          "name": "stdout"
        }
      ]
    },
    {
      "cell_type": "markdown",
      "metadata": {
        "id": "pKg-wuAnDvb4"
      },
      "source": [
        "### 準備  train_set/test_set"
      ]
    },
    {
      "cell_type": "code",
      "metadata": {
        "id": "3SpwC4lOxr7Y"
      },
      "source": [
        "# Train_set\n",
        "# 忽略第一二欄與最後一欄\n",
        "X_train = df_train.iloc[:, 2:-1]\n",
        "# 學習目標為第二攔\n",
        "y_train = df_train.iloc[:, 1]"
      ],
      "execution_count": 9,
      "outputs": []
    },
    {
      "cell_type": "code",
      "metadata": {
        "colab": {
          "base_uri": "https://localhost:8080/"
        },
        "id": "BJi-CNOzyJWl",
        "outputId": "76bdf95b-3589-47f6-f824-51d921ddb1d2"
      },
      "source": [
        "print(X_train.shape)\n",
        "print(y_train.shape)"
      ],
      "execution_count": 10,
      "outputs": [
        {
          "output_type": "stream",
          "text": [
            "(17793, 49)\n",
            "(17793,)\n"
          ],
          "name": "stdout"
        }
      ]
    },
    {
      "cell_type": "code",
      "metadata": {
        "colab": {
          "base_uri": "https://localhost:8080/",
          "height": 226
        },
        "id": "BpSh_ObZyNvB",
        "outputId": "aff09ab4-f9a1-4deb-d998-74c5b21f3748"
      },
      "source": [
        "X_train.head(5)"
      ],
      "execution_count": 11,
      "outputs": [
        {
          "output_type": "execute_result",
          "data": {
            "text/html": [
              "<div>\n",
              "<style scoped>\n",
              "    .dataframe tbody tr th:only-of-type {\n",
              "        vertical-align: middle;\n",
              "    }\n",
              "\n",
              "    .dataframe tbody tr th {\n",
              "        vertical-align: top;\n",
              "    }\n",
              "\n",
              "    .dataframe thead th {\n",
              "        text-align: right;\n",
              "    }\n",
              "</style>\n",
              "<table border=\"1\" class=\"dataframe\">\n",
              "  <thead>\n",
              "    <tr style=\"text-align: right;\">\n",
              "      <th></th>\n",
              "      <th>feedrate</th>\n",
              "      <th>clamp_pressure</th>\n",
              "      <th>X1_ActualPosition</th>\n",
              "      <th>X1_ActualVelocity</th>\n",
              "      <th>X1_ActualAcceleration</th>\n",
              "      <th>X1_CommandPosition</th>\n",
              "      <th>X1_CommandVelocity</th>\n",
              "      <th>X1_CommandAcceleration</th>\n",
              "      <th>X1_CurrentFeedback</th>\n",
              "      <th>X1_DCBusVoltage</th>\n",
              "      <th>X1_OutputCurrent</th>\n",
              "      <th>X1_OutputVoltage</th>\n",
              "      <th>X1_OutputPower</th>\n",
              "      <th>Y1_ActualPosition</th>\n",
              "      <th>Y1_ActualVelocity</th>\n",
              "      <th>Y1_ActualAcceleration</th>\n",
              "      <th>Y1_CommandPosition</th>\n",
              "      <th>Y1_CommandVelocity</th>\n",
              "      <th>Y1_CommandAcceleration</th>\n",
              "      <th>Y1_CurrentFeedback</th>\n",
              "      <th>Y1_DCBusVoltage</th>\n",
              "      <th>Y1_OutputCurrent</th>\n",
              "      <th>Y1_OutputVoltage</th>\n",
              "      <th>Y1_OutputPower</th>\n",
              "      <th>Z1_ActualPosition</th>\n",
              "      <th>Z1_ActualVelocity</th>\n",
              "      <th>Z1_ActualAcceleration</th>\n",
              "      <th>Z1_CommandPosition</th>\n",
              "      <th>Z1_CommandVelocity</th>\n",
              "      <th>Z1_CommandAcceleration</th>\n",
              "      <th>Z1_CurrentFeedback</th>\n",
              "      <th>Z1_DCBusVoltage</th>\n",
              "      <th>Z1_OutputCurrent</th>\n",
              "      <th>Z1_OutputVoltage</th>\n",
              "      <th>S1_ActualPosition</th>\n",
              "      <th>S1_ActualVelocity</th>\n",
              "      <th>S1_ActualAcceleration</th>\n",
              "      <th>S1_CommandPosition</th>\n",
              "      <th>S1_CommandVelocity</th>\n",
              "      <th>S1_CommandAcceleration</th>\n",
              "      <th>S1_CurrentFeedback</th>\n",
              "      <th>S1_DCBusVoltage</th>\n",
              "      <th>S1_OutputCurrent</th>\n",
              "      <th>S1_OutputVoltage</th>\n",
              "      <th>S1_OutputPower</th>\n",
              "      <th>S1_SystemInertia</th>\n",
              "      <th>M1_CURRENT_PROGRAM_NUMBER</th>\n",
              "      <th>M1_sequence_number</th>\n",
              "      <th>M1_CURRENT_FEEDRATE</th>\n",
              "    </tr>\n",
              "  </thead>\n",
              "  <tbody>\n",
              "    <tr>\n",
              "      <th>0</th>\n",
              "      <td>6</td>\n",
              "      <td>4.0</td>\n",
              "      <td>198.0</td>\n",
              "      <td>0.0</td>\n",
              "      <td>0.00</td>\n",
              "      <td>198.0</td>\n",
              "      <td>0.0</td>\n",
              "      <td>0.000000</td>\n",
              "      <td>0.18</td>\n",
              "      <td>0.0207</td>\n",
              "      <td>329.0</td>\n",
              "      <td>2.77</td>\n",
              "      <td>-0.000001</td>\n",
              "      <td>158.0</td>\n",
              "      <td>-0.025</td>\n",
              "      <td>-6.25</td>\n",
              "      <td>158.0</td>\n",
              "      <td>0.0</td>\n",
              "      <td>0.000000</td>\n",
              "      <td>0.539</td>\n",
              "      <td>0.0167</td>\n",
              "      <td>328.0</td>\n",
              "      <td>1.84</td>\n",
              "      <td>6.430000e-07</td>\n",
              "      <td>119.0</td>\n",
              "      <td>0.0</td>\n",
              "      <td>0.00</td>\n",
              "      <td>119.0</td>\n",
              "      <td>0.0</td>\n",
              "      <td>0.000000</td>\n",
              "      <td>0.0</td>\n",
              "      <td>0.0</td>\n",
              "      <td>0.0</td>\n",
              "      <td>0.0</td>\n",
              "      <td>-361.0</td>\n",
              "      <td>0.001</td>\n",
              "      <td>0.250</td>\n",
              "      <td>-361.0</td>\n",
              "      <td>0.0</td>\n",
              "      <td>0.0</td>\n",
              "      <td>0.524</td>\n",
              "      <td>2.740000e-19</td>\n",
              "      <td>329.0</td>\n",
              "      <td>0.0</td>\n",
              "      <td>6.960000e-07</td>\n",
              "      <td>12.0</td>\n",
              "      <td>1.0</td>\n",
              "      <td>0.0</td>\n",
              "      <td>50.0</td>\n",
              "    </tr>\n",
              "    <tr>\n",
              "      <th>1</th>\n",
              "      <td>6</td>\n",
              "      <td>4.0</td>\n",
              "      <td>198.0</td>\n",
              "      <td>-10.8</td>\n",
              "      <td>-350.00</td>\n",
              "      <td>198.0</td>\n",
              "      <td>-13.6</td>\n",
              "      <td>-358.000000</td>\n",
              "      <td>-10.90</td>\n",
              "      <td>0.1860</td>\n",
              "      <td>328.0</td>\n",
              "      <td>23.30</td>\n",
              "      <td>0.004480</td>\n",
              "      <td>158.0</td>\n",
              "      <td>-19.800</td>\n",
              "      <td>-750.00</td>\n",
              "      <td>157.0</td>\n",
              "      <td>-24.6</td>\n",
              "      <td>-647.000000</td>\n",
              "      <td>-14.500</td>\n",
              "      <td>0.2810</td>\n",
              "      <td>325.0</td>\n",
              "      <td>37.80</td>\n",
              "      <td>1.260000e-02</td>\n",
              "      <td>119.0</td>\n",
              "      <td>-20.3</td>\n",
              "      <td>-712.00</td>\n",
              "      <td>118.0</td>\n",
              "      <td>-25.6</td>\n",
              "      <td>-674.000000</td>\n",
              "      <td>0.0</td>\n",
              "      <td>0.0</td>\n",
              "      <td>0.0</td>\n",
              "      <td>0.0</td>\n",
              "      <td>-361.0</td>\n",
              "      <td>0.000</td>\n",
              "      <td>0.250</td>\n",
              "      <td>-361.0</td>\n",
              "      <td>0.0</td>\n",
              "      <td>0.0</td>\n",
              "      <td>-0.288</td>\n",
              "      <td>2.740000e-19</td>\n",
              "      <td>328.0</td>\n",
              "      <td>0.0</td>\n",
              "      <td>-5.270000e-07</td>\n",
              "      <td>12.0</td>\n",
              "      <td>1.0</td>\n",
              "      <td>4.0</td>\n",
              "      <td>50.0</td>\n",
              "    </tr>\n",
              "    <tr>\n",
              "      <th>2</th>\n",
              "      <td>6</td>\n",
              "      <td>4.0</td>\n",
              "      <td>196.0</td>\n",
              "      <td>-17.8</td>\n",
              "      <td>-6.25</td>\n",
              "      <td>196.0</td>\n",
              "      <td>-17.9</td>\n",
              "      <td>-0.000095</td>\n",
              "      <td>-8.59</td>\n",
              "      <td>0.1400</td>\n",
              "      <td>328.0</td>\n",
              "      <td>30.60</td>\n",
              "      <td>0.005330</td>\n",
              "      <td>154.0</td>\n",
              "      <td>-32.500</td>\n",
              "      <td>0.00</td>\n",
              "      <td>154.0</td>\n",
              "      <td>-32.3</td>\n",
              "      <td>-0.000095</td>\n",
              "      <td>-7.790</td>\n",
              "      <td>0.1390</td>\n",
              "      <td>327.0</td>\n",
              "      <td>49.40</td>\n",
              "      <td>9.430000e-03</td>\n",
              "      <td>115.0</td>\n",
              "      <td>-33.7</td>\n",
              "      <td>37.50</td>\n",
              "      <td>115.0</td>\n",
              "      <td>-33.7</td>\n",
              "      <td>-0.000095</td>\n",
              "      <td>0.0</td>\n",
              "      <td>0.0</td>\n",
              "      <td>0.0</td>\n",
              "      <td>0.0</td>\n",
              "      <td>-361.0</td>\n",
              "      <td>0.000</td>\n",
              "      <td>-0.438</td>\n",
              "      <td>-361.0</td>\n",
              "      <td>0.0</td>\n",
              "      <td>0.0</td>\n",
              "      <td>0.524</td>\n",
              "      <td>2.740000e-19</td>\n",
              "      <td>328.0</td>\n",
              "      <td>0.0</td>\n",
              "      <td>9.100000e-07</td>\n",
              "      <td>12.0</td>\n",
              "      <td>1.0</td>\n",
              "      <td>7.0</td>\n",
              "      <td>50.0</td>\n",
              "    </tr>\n",
              "    <tr>\n",
              "      <th>3</th>\n",
              "      <td>6</td>\n",
              "      <td>4.0</td>\n",
              "      <td>194.0</td>\n",
              "      <td>-18.0</td>\n",
              "      <td>0.00</td>\n",
              "      <td>194.0</td>\n",
              "      <td>-17.9</td>\n",
              "      <td>-0.000095</td>\n",
              "      <td>-6.11</td>\n",
              "      <td>0.1300</td>\n",
              "      <td>327.0</td>\n",
              "      <td>30.30</td>\n",
              "      <td>0.004890</td>\n",
              "      <td>151.0</td>\n",
              "      <td>-32.600</td>\n",
              "      <td>-62.50</td>\n",
              "      <td>151.0</td>\n",
              "      <td>-32.3</td>\n",
              "      <td>-0.000095</td>\n",
              "      <td>-8.130</td>\n",
              "      <td>0.1560</td>\n",
              "      <td>325.0</td>\n",
              "      <td>47.60</td>\n",
              "      <td>1.050000e-02</td>\n",
              "      <td>112.0</td>\n",
              "      <td>-33.7</td>\n",
              "      <td>-6.25</td>\n",
              "      <td>112.0</td>\n",
              "      <td>-33.7</td>\n",
              "      <td>0.000000</td>\n",
              "      <td>0.0</td>\n",
              "      <td>0.0</td>\n",
              "      <td>0.0</td>\n",
              "      <td>0.0</td>\n",
              "      <td>-361.0</td>\n",
              "      <td>-0.001</td>\n",
              "      <td>-0.250</td>\n",
              "      <td>-361.0</td>\n",
              "      <td>0.0</td>\n",
              "      <td>0.0</td>\n",
              "      <td>-0.180</td>\n",
              "      <td>2.740000e-19</td>\n",
              "      <td>328.0</td>\n",
              "      <td>0.0</td>\n",
              "      <td>1.070000e-06</td>\n",
              "      <td>12.0</td>\n",
              "      <td>1.0</td>\n",
              "      <td>7.0</td>\n",
              "      <td>50.0</td>\n",
              "    </tr>\n",
              "    <tr>\n",
              "      <th>4</th>\n",
              "      <td>6</td>\n",
              "      <td>4.0</td>\n",
              "      <td>193.0</td>\n",
              "      <td>-17.9</td>\n",
              "      <td>-18.80</td>\n",
              "      <td>192.0</td>\n",
              "      <td>-17.9</td>\n",
              "      <td>0.000095</td>\n",
              "      <td>-5.70</td>\n",
              "      <td>0.1140</td>\n",
              "      <td>328.0</td>\n",
              "      <td>30.50</td>\n",
              "      <td>0.004250</td>\n",
              "      <td>148.0</td>\n",
              "      <td>-32.000</td>\n",
              "      <td>138.00</td>\n",
              "      <td>148.0</td>\n",
              "      <td>-32.3</td>\n",
              "      <td>0.000095</td>\n",
              "      <td>-13.800</td>\n",
              "      <td>0.2020</td>\n",
              "      <td>326.0</td>\n",
              "      <td>47.10</td>\n",
              "      <td>1.350000e-02</td>\n",
              "      <td>109.0</td>\n",
              "      <td>-33.6</td>\n",
              "      <td>18.80</td>\n",
              "      <td>108.0</td>\n",
              "      <td>-33.7</td>\n",
              "      <td>0.000000</td>\n",
              "      <td>0.0</td>\n",
              "      <td>0.0</td>\n",
              "      <td>0.0</td>\n",
              "      <td>0.0</td>\n",
              "      <td>-361.0</td>\n",
              "      <td>0.000</td>\n",
              "      <td>-0.188</td>\n",
              "      <td>-361.0</td>\n",
              "      <td>0.0</td>\n",
              "      <td>0.0</td>\n",
              "      <td>0.226</td>\n",
              "      <td>2.740000e-19</td>\n",
              "      <td>328.0</td>\n",
              "      <td>0.0</td>\n",
              "      <td>1.960000e-06</td>\n",
              "      <td>12.0</td>\n",
              "      <td>1.0</td>\n",
              "      <td>7.0</td>\n",
              "      <td>50.0</td>\n",
              "    </tr>\n",
              "  </tbody>\n",
              "</table>\n",
              "</div>"
            ],
            "text/plain": [
              "   feedrate  clamp_pressure  ...  M1_sequence_number  M1_CURRENT_FEEDRATE\n",
              "0         6             4.0  ...                 0.0                 50.0\n",
              "1         6             4.0  ...                 4.0                 50.0\n",
              "2         6             4.0  ...                 7.0                 50.0\n",
              "3         6             4.0  ...                 7.0                 50.0\n",
              "4         6             4.0  ...                 7.0                 50.0\n",
              "\n",
              "[5 rows x 49 columns]"
            ]
          },
          "metadata": {
            "tags": []
          },
          "execution_count": 11
        }
      ]
    },
    {
      "cell_type": "code",
      "metadata": {
        "id": "Abx_zyPM277V"
      },
      "source": [
        "# Test_set\n",
        "# 忽略第一二欄與最後一欄\n",
        "# 學習目標為第二攔\n",
        "X_test = df_test.iloc[:, 2:-1]\n",
        "y_test = df_test.iloc[:, 1]"
      ],
      "execution_count": 12,
      "outputs": []
    },
    {
      "cell_type": "code",
      "metadata": {
        "id": "j2BpISr-3Zc1",
        "colab": {
          "base_uri": "https://localhost:8080/"
        },
        "outputId": "3888fc91-252d-4130-8c4e-fe703c20d3ee"
      },
      "source": [
        "print(X_test.shape)\n",
        "print(y_test.shape)"
      ],
      "execution_count": 13,
      "outputs": [
        {
          "output_type": "stream",
          "text": [
            "(7493, 49)\n",
            "(7493,)\n"
          ],
          "name": "stdout"
        }
      ]
    },
    {
      "cell_type": "markdown",
      "metadata": {
        "id": "_TyOUBcpzsnE"
      },
      "source": [
        "### 正規化"
      ]
    },
    {
      "cell_type": "markdown",
      "metadata": {
        "id": "Kj16BWNX0fNY"
      },
      "source": [
        "* 輸入 X 轉成 Numpy Array "
      ]
    },
    {
      "cell_type": "code",
      "metadata": {
        "colab": {
          "base_uri": "https://localhost:8080/"
        },
        "id": "5RagGxnkCYWF",
        "outputId": "98bc8487-c6e4-4d96-c919-c31363775a87"
      },
      "source": [
        "X_train = np.array(X_train).astype(float)\n",
        "X_test = np.array(X_test).astype(float)\n",
        "print(f\"X_train shape: {X_train.shape}\")\n",
        "print(f\"X_test shape: {X_test.shape}\")"
      ],
      "execution_count": 14,
      "outputs": [
        {
          "output_type": "stream",
          "text": [
            "X_train shape: (17793, 49)\n",
            "X_test shape: (7493, 49)\n"
          ],
          "name": "stdout"
        }
      ]
    },
    {
      "cell_type": "code",
      "metadata": {
        "colab": {
          "base_uri": "https://localhost:8080/"
        },
        "id": "s9-Q18G0YFAf",
        "outputId": "83f8b888-e148-486c-9305-befe3dec14e0"
      },
      "source": [
        "# normalize\n",
        "quantile_transformer = preprocessing.QuantileTransformer(random_state=17)\n",
        "X_train = quantile_transformer.fit_transform(X_train)\n",
        "X_test = quantile_transformer.fit_transform(X_test)\n",
        "X_train = np.expand_dims(X_train, axis=2)\n",
        "X_test = np.expand_dims(X_test, axis=2)\n",
        "print(f\"X_train shape: {X_train.shape}\")\n",
        "print(f\"X_test shape: {X_test.shape}\")"
      ],
      "execution_count": 15,
      "outputs": [
        {
          "output_type": "stream",
          "text": [
            "X_train shape: (17793, 49, 1)\n",
            "X_test shape: (7493, 49, 1)\n"
          ],
          "name": "stdout"
        }
      ]
    },
    {
      "cell_type": "markdown",
      "metadata": {
        "id": "c2xWQuOy_3EM"
      },
      "source": [
        "* 目標 y 轉成 Numpy Array "
      ]
    },
    {
      "cell_type": "code",
      "metadata": {
        "id": "YHpIiB6eHxjw",
        "colab": {
          "base_uri": "https://localhost:8080/"
        },
        "outputId": "1ce7abf3-8782-4186-b957-74beaf31dae2"
      },
      "source": [
        "le = LabelEncoder()\n",
        "le.fit(y_train)\n",
        "print('label class: ',le.classes_)\n",
        "\n",
        "y_train = le.transform(y_train)\n",
        "y_test = le.transform(y_test)"
      ],
      "execution_count": 16,
      "outputs": [
        {
          "output_type": "stream",
          "text": [
            "label class:  ['unworn' 'worn']\n"
          ],
          "name": "stdout"
        }
      ]
    },
    {
      "cell_type": "code",
      "metadata": {
        "colab": {
          "base_uri": "https://localhost:8080/"
        },
        "id": "_a-avIx8zqcg",
        "outputId": "62750fb0-f09e-4eb8-d7bc-0e6be4869020"
      },
      "source": [
        "y_train = np.array(y_train).astype(float).reshape(-1,1)\n",
        "print(f\"y_train shape: {y_train.shape}\")\n",
        "y_test = np.array(y_test).astype(float).reshape(-1,1)\n",
        "print(f\"y_test shape: {y_test.shape}\")"
      ],
      "execution_count": 17,
      "outputs": [
        {
          "output_type": "stream",
          "text": [
            "y_train shape: (17793, 1)\n",
            "y_test shape: (7493, 1)\n"
          ],
          "name": "stdout"
        }
      ]
    },
    {
      "cell_type": "code",
      "metadata": {
        "id": "pkB_9z4PTk3p"
      },
      "source": [
        "# random shuffle\n",
        "X_train, y_train = shuffle(X_train, y_train, random_state=17)"
      ],
      "execution_count": 18,
      "outputs": []
    },
    {
      "cell_type": "markdown",
      "metadata": {
        "id": "bsrpjHUfEM5U"
      },
      "source": [
        "### 模型超參數"
      ]
    },
    {
      "cell_type": "code",
      "metadata": {
        "id": "zhFuzu5pEHOc"
      },
      "source": [
        "max_features = 500\n",
        "maxlen = X_train.shape[1]\n",
        "# maxlen = 20\n",
        "batch_size = 32"
      ],
      "execution_count": 19,
      "outputs": []
    },
    {
      "cell_type": "markdown",
      "metadata": {
        "id": "Tb1G7kLPAJ4H"
      },
      "source": [
        "## 設計 TCN (Temporal Convolutional Network) 模型"
      ]
    },
    {
      "cell_type": "code",
      "metadata": {
        "colab": {
          "base_uri": "https://localhost:8080/"
        },
        "id": "cuOt-1XPTtN9",
        "outputId": "1c38ff68-6b28-48a0-ceef-304b42c35e6d"
      },
      "source": [
        "from tcn import compiled_tcn\n",
        "model = compiled_tcn(return_sequences=False,\n",
        "                         num_feat=1,\n",
        "                         num_classes=1,\n",
        "                         nb_filters=10,\n",
        "                         kernel_size=10,\n",
        "                         dilations=[1, 2, 4, 8, 16, 32],\n",
        "                         nb_stacks=5,\n",
        "                         max_len=X_train[0:1].shape[1],\n",
        "                         use_skip_connections=True)\n",
        "model.summary()"
      ],
      "execution_count": 20,
      "outputs": [
        {
          "output_type": "stream",
          "text": [
            "x.shape= (None, 10)\n",
            "model.x = (None, 49, 1)\n",
            "model.y = (None, 1)\n",
            "Model: \"functional_1\"\n",
            "_________________________________________________________________\n",
            "Layer (type)                 Output Shape              Param #   \n",
            "=================================================================\n",
            "input_1 (InputLayer)         [(None, 49, 1)]           0         \n",
            "_________________________________________________________________\n",
            "tcn (TCN)                    (None, 10)                59720     \n",
            "_________________________________________________________________\n",
            "dense (Dense)                (None, 1)                 11        \n",
            "_________________________________________________________________\n",
            "activation (Activation)      (None, 1)                 0         \n",
            "=================================================================\n",
            "Total params: 59,731\n",
            "Trainable params: 59,731\n",
            "Non-trainable params: 0\n",
            "_________________________________________________________________\n"
          ],
          "name": "stdout"
        }
      ]
    },
    {
      "cell_type": "markdown",
      "metadata": {
        "id": "VmXtAyy3Y_kT"
      },
      "source": [
        "## 模型訓練"
      ]
    },
    {
      "cell_type": "code",
      "metadata": {
        "colab": {
          "base_uri": "https://localhost:8080/"
        },
        "id": "yNh3BKV5T-El",
        "outputId": "e6e3b52b-4c4d-44cf-e568-cafa7f895d6b"
      },
      "source": [
        "history = model.fit(X_train, y_train, epochs=15)"
      ],
      "execution_count": 21,
      "outputs": [
        {
          "output_type": "stream",
          "text": [
            "Epoch 1/15\n",
            "557/557 [==============================] - 17s 31ms/step - loss: nan - accuracy: 0.4515\n",
            "Epoch 2/15\n",
            "557/557 [==============================] - 17s 31ms/step - loss: nan - accuracy: 0.4515\n",
            "Epoch 3/15\n",
            "557/557 [==============================] - 17s 31ms/step - loss: nan - accuracy: 0.4515\n",
            "Epoch 4/15\n",
            "557/557 [==============================] - 17s 31ms/step - loss: nan - accuracy: 0.4515\n",
            "Epoch 5/15\n",
            "557/557 [==============================] - 17s 31ms/step - loss: nan - accuracy: 0.4515\n",
            "Epoch 6/15\n",
            "557/557 [==============================] - 17s 30ms/step - loss: nan - accuracy: 0.4515\n",
            "Epoch 7/15\n",
            "557/557 [==============================] - 17s 30ms/step - loss: nan - accuracy: 0.4515\n",
            "Epoch 8/15\n",
            "557/557 [==============================] - 17s 30ms/step - loss: nan - accuracy: 0.4515\n",
            "Epoch 9/15\n",
            "557/557 [==============================] - 17s 30ms/step - loss: nan - accuracy: 0.4515\n",
            "Epoch 10/15\n",
            "557/557 [==============================] - 17s 30ms/step - loss: nan - accuracy: 0.4515\n",
            "Epoch 11/15\n",
            "557/557 [==============================] - 17s 30ms/step - loss: nan - accuracy: 0.4515\n",
            "Epoch 12/15\n",
            "557/557 [==============================] - 17s 30ms/step - loss: nan - accuracy: 0.4515\n",
            "Epoch 13/15\n",
            "557/557 [==============================] - 17s 30ms/step - loss: nan - accuracy: 0.4515\n",
            "Epoch 14/15\n",
            "557/557 [==============================] - 16s 29ms/step - loss: nan - accuracy: 0.4515\n",
            "Epoch 15/15\n",
            "557/557 [==============================] - 16s 29ms/step - loss: nan - accuracy: 0.4515\n"
          ],
          "name": "stdout"
        }
      ]
    },
    {
      "cell_type": "markdown",
      "metadata": {
        "id": "gVcTN6mZvCP_"
      },
      "source": [
        "## 模型評估"
      ]
    },
    {
      "cell_type": "code",
      "metadata": {
        "colab": {
          "base_uri": "https://localhost:8080/"
        },
        "id": "o-ap2jH6af7p",
        "outputId": "3c9cb1f3-e792-4112-e676-7cef351479aa"
      },
      "source": [
        "result = model.evaluate(X_train, y_train)\n",
        "print(f\"Accuracy : {result[1] * 100:.2f} %\")\n",
        "print(f\"Loss : {result[0] * 100:.2f} %\")"
      ],
      "execution_count": 22,
      "outputs": [
        {
          "output_type": "stream",
          "text": [
            "557/557 [==============================] - 4s 7ms/step - loss: nan - accuracy: 0.4515\n",
            "Accuracy : 45.15 %\n",
            "Loss : nan %\n"
          ],
          "name": "stdout"
        }
      ]
    },
    {
      "cell_type": "code",
      "metadata": {
        "id": "3zJgsCxfvUyz"
      },
      "source": [
        ""
      ],
      "execution_count": null,
      "outputs": []
    }
  ]
}